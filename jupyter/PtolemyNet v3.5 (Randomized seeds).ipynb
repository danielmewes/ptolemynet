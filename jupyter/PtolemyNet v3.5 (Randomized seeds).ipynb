{
 "cells": [
  {
   "cell_type": "code",
   "execution_count": 1,
   "id": "2040e477",
   "metadata": {},
   "outputs": [],
   "source": [
    "import tensorflow as tf\n",
    "import numpy as np\n",
    "from tensorflow.keras.layers import *\n",
    "import matplotlib.pyplot as plt\n",
    "from matplotlib import animation\n",
    "import scipy\n",
    "\n",
    "%load_ext tensorboard\n",
    "import datetime"
   ]
  },
  {
   "cell_type": "markdown",
   "id": "cc96e6bf",
   "metadata": {},
   "source": [
    "# Translated image generation"
   ]
  },
  {
   "cell_type": "code",
   "execution_count": 318,
   "id": "ebcb21c8",
   "metadata": {},
   "outputs": [],
   "source": [
    "x_size = 50\n",
    "y_size = 50\n",
    "test_img = tf.keras.utils.load_img('test_drawing_2.png', color_mode=\"grayscale\", target_size=(x_size, y_size))\n",
    "test_img = tf.keras.utils.load_img('box.png', color_mode=\"grayscale\", target_size=(x_size, y_size))\n",
    "#test_img = tf.keras.utils.load_img('photo1.png', color_mode=\"grayscale\", target_size=(x_size, y_size))\n",
    "test_img_arr = tf.keras.utils.img_to_array(test_img) / 255.0\n",
    "test_img_arr = 1.0 - test_img_arr"
   ]
  },
  {
   "cell_type": "code",
   "execution_count": 319,
   "id": "435eadfc",
   "metadata": {},
   "outputs": [],
   "source": [
    "def img_to_vecs(img):\n",
    "    output = np.zeros((x_size * y_size, 2))\n",
    "    rescaled_img = 2.0 * img.flatten() - 1.0\n",
    "    output[:, 0] = np.sin(rescaled_img * np.pi / 2.0)\n",
    "    output[:, 1] = np.cos(rescaled_img * np.pi / 2.0)\n",
    "    return output\n",
    "\n",
    "def vecs_to_img(vecs):\n",
    "    v = vecs.reshape((x_size, y_size, 2))\n",
    "    v = v / np.linalg.norm(v, axis=-1, keepdims=True)\n",
    "    img = np.arcsin(v[:, :, 0:1]) / np.pi * 2.0\n",
    "    img = (1.0 + img) / 2.0\n",
    "    img = 255.0 * np.clip(img, 0.0, 1.0)\n",
    "    return img"
   ]
  },
  {
   "cell_type": "code",
   "execution_count": 339,
   "id": "0137c703",
   "metadata": {},
   "outputs": [],
   "source": [
    "m = 1024\n",
    "px_count = x_size * y_size\n",
    "X = np.zeros((m, 2, px_count, 2))\n",
    "X_t2 = np.zeros((m, 2, px_count, 2))\n",
    "X_t4 = np.zeros((m, 2, px_count, 2))\n",
    "for i in range(m):\n",
    "    img_1 = tf.keras.preprocessing.image.random_shift(test_img_arr, 0.3, 0.3, row_axis=0, col_axis=1, channel_axis=2)\n",
    "    img_1 = tf.keras.preprocessing.image.random_rotation(img_1, 90, row_axis=0, col_axis=1, channel_axis=2)\n",
    "    img_2 = tf.keras.preprocessing.image.random_rotation(img_1, 30, row_axis=0, col_axis=1, channel_axis=2)\n",
    "    \n",
    "    #img_1 = tf.keras.preprocessing.image.random_shift(test_img_arr, 0.5, 0.5, row_axis=0, col_axis=1, channel_axis=2)\n",
    "    #img_2 = tf.keras.preprocessing.image.random_shift(img_1, 0.1, 0.1, row_axis=0, col_axis=1, channel_axis=2)\n",
    "    #mg_3 = tf.keras.preprocessing.image.random_shift(img_1, 0.2, 0.2, row_axis=0, col_axis=1, channel_axis=2)\n",
    "    #mg_4 = tf.keras.preprocessing.image.random_shift(img_1, 0.4, 0.4, row_axis=0, col_axis=1, channel_axis=2)\n",
    "    X[i][0] = img_to_vecs(img_1)\n",
    "    X[i][1] = img_to_vecs(img_2)\n",
    "    #_t2[i][0] = img_to_vecs(img_1)\n",
    "    #_t2[i][1] = img_to_vecs(img_3)\n",
    "    #_t4[i][0] = img_to_vecs(img_1)\n",
    "    #_t4[i][1] = img_to_vecs(img_4)\n",
    "Y = X"
   ]
  },
  {
   "cell_type": "code",
   "execution_count": 340,
   "id": "8f72c5de",
   "metadata": {
    "scrolled": false
   },
   "outputs": [
    {
     "data": {
      "image/png": "[encoded data removed]",
      "text/plain": [
       "<PIL.Image.Image image mode=L size=50x50 at 0x7FC770F47208>"
      ]
     },
     "execution_count": 340,
     "metadata": {},
     "output_type": "execute_result"
    }
   ],
   "source": [
    "img = vecs_to_img(X[1][0])\n",
    "tf.keras.utils.array_to_img(img, scale=False)"
   ]
  },
  {
   "cell_type": "markdown",
   "id": "32742867",
   "metadata": {},
   "source": [
    "# Alternative: MNIST DS"
   ]
  },
  {
   "cell_type": "code",
   "execution_count": 969,
   "id": "8d2819c9",
   "metadata": {},
   "outputs": [],
   "source": [
    "from tensorflow.keras.datasets import mnist\n",
    "(X_train, Y_train), (X_test, Y_test) = mnist.load_data()\n",
    "\n",
    "# Sort by label:\n",
    "sorted_indexes = np.argsort(Y_train, axis=0)\n",
    "X_train_sorted = np.take_along_axis(X_train, np.expand_dims(sorted_indexes, (1,2)), axis=0)"
   ]
  },
  {
   "cell_type": "code",
   "execution_count": 970,
   "id": "c2a3cd86",
   "metadata": {},
   "outputs": [],
   "source": [
    "m = X_train.shape[0]\n",
    "m = int(m/2)\n",
    "x_size = X_train.shape[1]\n",
    "y_size = X_train.shape[2]\n",
    "px_count = x_size * y_size\n",
    "X = np.zeros((m, 2, px_count, 2))\n",
    "for i in range(0, m):\n",
    "    # Pair up images with the same labels (most of the time, can be off by one)\n",
    "    img_1 = X_train_sorted[2*i] / 255.0\n",
    "    img_2 = X_train_sorted[2*i+1] / 255.0\n",
    "    X[i][0] = img_to_vecs(img_1)\n",
    "    X[i][1] = img_to_vecs(img_2)"
   ]
  },
  {
   "cell_type": "code",
   "execution_count": 994,
   "id": "84aefc34",
   "metadata": {},
   "outputs": [
    {
     "data": {
      "image/png": "[encoded data removed]",
      "text/plain": [
       "<PIL.Image.Image image mode=L size=28x28 at 0x7FC88CF01518>"
      ]
     },
     "execution_count": 994,
     "metadata": {},
     "output_type": "execute_result"
    }
   ],
   "source": [
    "img = vecs_to_img(X[10000][0])\n",
    "tf.keras.utils.array_to_img(img, scale=False)"
   ]
  },
  {
   "cell_type": "markdown",
   "id": "9b0bd1e1",
   "metadata": {},
   "source": [
    "# Layer architecture"
   ]
  },
  {
   "cell_type": "code",
   "execution_count": 972,
   "id": "c3c5ebdf",
   "metadata": {},
   "outputs": [],
   "source": [
    "def stable_norm(t, axis, keepdims=False):\n",
    "    return tf.sqrt(tf.maximum(tf.reduce_sum(tf.square(t), axis=axis, keepdims=keepdims), tf.keras.backend.epsilon()))\n",
    "\n",
    "def l1_norm(t, axis, keepdims=False):\n",
    "    return tf.reduce_sum(tf.abs(t), axis=axis, keepdims=keepdims)"
   ]
  },
  {
   "cell_type": "markdown",
   "id": "cb875ead",
   "metadata": {},
   "source": [
    "### Locality and context layers"
   ]
  },
  {
   "cell_type": "code",
   "execution_count": 973,
   "id": "09f3055a",
   "metadata": {},
   "outputs": [],
   "source": [
    "class ContextAggregationLayer(tf.keras.layers.Layer):\n",
    "    def __init__(self, context_fan_in, position_dim, num_samples, initial_sharpness, train_context, dtype=None):\n",
    "        super(ContextAggregationLayer, self).__init__(dtype=dtype)\n",
    "\n",
    "        self.context_fan_in = context_fan_in\n",
    "        self.position_dim = position_dim\n",
    "        self.num_samples = num_samples\n",
    "        self.initial_sharpness = initial_sharpness\n",
    "        self.train_context = train_context\n",
    "    \n",
    "    def build(self, input_shape):\n",
    "        self.downstream_dim = input_shape[-1]\n",
    "        self.downstream_num = input_shape[-2]\n",
    "\n",
    "        # Encodes the positions of downstream columns\n",
    "        # Positions are within a unit ball.\n",
    "        self.downstream_positions = self.add_weight(\n",
    "            shape=(self.downstream_num, self.position_dim),\n",
    "            initializer=self.initialize_positions,\n",
    "            name='downstream_positions',\n",
    "            trainable=True,\n",
    "            use_resource=True,\n",
    "            constraint=tf.keras.constraints.MaxNorm(max_value=1, axis=1),\n",
    "        )\n",
    "        \n",
    "        # These rotations form the \"neighborhood\" of a given position.    \n",
    "        # Shape: position_dim -> position_dim * context_fan_in\n",
    "        self.context_queries = Dense(\n",
    "            self.position_dim * self.context_fan_in,\n",
    "            use_bias=False,\n",
    "            kernel_initializer=self.initialize_rotations,\n",
    "            name='context_queries',\n",
    "            trainable=self.train_context,\n",
    "            kernel_constraint=self.constrain_to_rotations,\n",
    "        )\n",
    "        \n",
    "        self.context_sharpness = self.add_weight(\n",
    "            shape=(self.context_fan_in),\n",
    "            initializer=tf.keras.initializers.Constant(value=self.initial_sharpness),\n",
    "            name='context_sharpness',\n",
    "            trainable=True,\n",
    "            use_resource=True,\n",
    "        )\n",
    "\n",
    "        super(ContextAggregationLayer, self).build(input_shape)\n",
    "    \n",
    "    def initialize_positions(self, shape, dtype):\n",
    "        rn = tf.keras.initializers.RandomNormal()(shape, dtype=dtype)\n",
    "        # Initializing to smaller values initially helps positions converge faster.\n",
    "        return 0.1 * tf.keras.constraints.UnitNorm(axis=1)(rn)\n",
    "    \n",
    "    def constrain_to_rotations(self, a):\n",
    "        rs = tf.split(a, self.context_fan_in, axis=1)\n",
    "        constrained_rs = []\n",
    "        for r in rs:\n",
    "            s, u, v = tf.linalg.svd(r)\n",
    "            vh = tf.linalg.adjoint(v)\n",
    "            constrained_rs.append(tf.matmul(u, vh))\n",
    "            \n",
    "        return tf.concat(constrained_rs, axis=1)\n",
    "    \n",
    "    def initialize_rotations(self, shape, dtype):\n",
    "        identity = tf.keras.initializers.Identity()((self.position_dim, self.position_dim), dtype=dtype)\n",
    "        rotations = []\n",
    "        # The first rotation is always the identity (i.e. the seed value itself)\n",
    "        rotations.append(identity)\n",
    "        for i in range(1, self.context_fan_in):\n",
    "            rotation = tf.keras.initializers.Orthogonal(gain=0.1)((self.position_dim, self.position_dim), dtype=dtype)\n",
    "            rotations.append(identity + rotation)\n",
    "        rotations = tf.concat(rotations, axis=1)\n",
    "        return self.constrain_to_rotations(rotations)\n",
    "    \n",
    "    def sample_seed_indexes(self):\n",
    "        # This tensorflow sampling method is inspired by https://stackoverflow.com/a/54755281\n",
    "        # It approximates Numpy's np.random.choice with replace=False\n",
    "        # Sampling different seed indexes for each batch helps the positions and contexts\n",
    "        # to converge better to true neighborhoods. I was previously using a fixed sampling\n",
    "        # throughout the whole training, and it led to the seed positions to get stuck\n",
    "        # in specific values that didn't resemble their neighbors.\n",
    "\n",
    "        uniform_distribution = tf.random.uniform([self.downstream_num], minval=0.0, maxval=1.0)\n",
    "        _, top_indexes = tf.nn.top_k(uniform_distribution, self.num_samples)\n",
    "\n",
    "        return top_indexes\n",
    "    \n",
    "    def reconstruct(self, full_context):        \n",
    "        # Position shape: (..., num_columns, position_dim)\n",
    "        # Value shape: (..., num_columns, context_fan_in * downstream_dim)\n",
    "        position, values = tf.split(\n",
    "            full_context,\n",
    "            [\n",
    "                self.position_dim,\n",
    "                self.context_fan_in * self.downstream_dim,\n",
    "            ],\n",
    "            axis=-1,\n",
    "        )\n",
    "        \n",
    "        # Restore normalization\n",
    "        values *= np.sqrt(self.context_fan_in)\n",
    "\n",
    "        # Shape: (context_fan_in, ..., num_columns, downstream_dim)\n",
    "        values = tf.stack(tf.split(values, self.context_fan_in, axis=-1), axis=0)\n",
    "\n",
    "        # Shape: (..., num_columns, context_fan_in * position_dim)\n",
    "        queries = self.context_queries(position)\n",
    "        \n",
    "        # Shape: (context_fan_in, ..., num_columns, position_dim)\n",
    "        queries = tf.stack(tf.split(queries, self.context_fan_in, axis=-1), axis=0)\n",
    "        \n",
    "        # Shape: (context_fan_in)\n",
    "        exp_sharpness = tf.exp(self.context_sharpness)\n",
    "        \n",
    "        # Needed so we can call reconstruct directly when in mixed precision\n",
    "        cast_downstream_positions = tf.cast(self.downstream_positions, self.compute_dtype)\n",
    "        exp_sharpness = tf.cast(exp_sharpness, self.compute_dtype)\n",
    "        queries = tf.cast(queries, self.compute_dtype)\n",
    "        values = tf.cast(values, self.compute_dtype)\n",
    "        \n",
    "        # Process heads in sequence to reduce memory footprint\n",
    "        reconstruction_shape = tf.concat([tf.shape(full_context)[0:-2], [self.downstream_num, self.downstream_dim]], axis=0)\n",
    "        reconstruction = tf.zeros(reconstruction_shape, dtype=full_context.dtype)\n",
    "        for head_idx in tf.range(0, self.context_fan_in):\n",
    "            # Shape: (..., num_columns, position_dim)\n",
    "            head_query = queries[head_idx]\n",
    "            # Shape: (..., num_columns, downstream_dim)\n",
    "            head_values = values[head_idx]\n",
    "            # Shape: (1)\n",
    "            head_sharpness = exp_sharpness[head_idx]\n",
    "            # Shape: (..., num_samples, downstream_dim)\n",
    "            head_output = self.compute_reconstruction_head_output(\n",
    "                cast_downstream_positions,\n",
    "                head_values,\n",
    "                head_query,\n",
    "                head_sharpness,\n",
    "            )\n",
    "            reconstruction = reconstruction + tf.cast(head_output, full_context.dtype)\n",
    "\n",
    "        return reconstruction\n",
    "    \n",
    "    def call(self, downstream_input):\n",
    "        # Shape: (num_samples, position_dim)\n",
    "        seed_positions = tf.gather(self.downstream_positions, self.sample_seed_indexes(), axis=-2)\n",
    "        \n",
    "        # Shape: (num_samples, context_fan_in * position_dim)\n",
    "        queries = self.context_queries(seed_positions)\n",
    "        \n",
    "        # Shape: (context_fan_in, num_samples, position_dim)\n",
    "        queries = tf.stack(tf.split(queries, self.context_fan_in, axis=-1), axis=0)\n",
    "        \n",
    "        # Shape: (context_fan_in)\n",
    "        exp_sharpness = tf.exp(self.context_sharpness)\n",
    "        \n",
    "        # Cast for mixed precision\n",
    "        queries = tf.cast(queries, self.compute_dtype)\n",
    "        exp_sharpness = tf.cast(exp_sharpness, self.compute_dtype)\n",
    "        \n",
    "        # Process heads in sequence to reduce memory footprint\n",
    "        head_buffer = tf.TensorArray(dtype=self.compute_dtype, size=self.context_fan_in, clear_after_read=True)\n",
    "        for head_idx in tf.range(0, self.context_fan_in):\n",
    "            # Shape: (..., num_samples, position_dim)\n",
    "            head_query = queries[head_idx]\n",
    "            # Shape: (1)\n",
    "            head_sharpness = exp_sharpness[head_idx]\n",
    "            # Shape: (..., num_samples, downstream_dim)\n",
    "            head_output = self.compute_attention_head_output(self.downstream_positions, downstream_input, head_query, head_sharpness)\n",
    "            head_buffer = head_buffer.write(head_idx, head_output)\n",
    "\n",
    "        # Restore normalization\n",
    "        head_values = head_buffer.stack() / np.sqrt(self.context_fan_in)\n",
    "        head_values = tf.unstack(head_values)\n",
    "        \n",
    "        # Shape: (..., num_samples, position_dim + context_fan_in * downstream_dim)\n",
    "        expanded_seed_positions = tf.broadcast_to(\n",
    "            seed_positions,\n",
    "            tf.concat([tf.shape(head_values[0])[0:-1], [self.position_dim]], axis=0),\n",
    "        )\n",
    "        full_context = tf.concat([expanded_seed_positions] + head_values, axis=-1)\n",
    "\n",
    "        return full_context\n",
    "    \n",
    "    @staticmethod\n",
    "    @tf.function(jit_compile=True)\n",
    "    #@tf.recompute_grad\n",
    "    def compute_attention_head_output(downstream_positions, downstream_input, query, sharpness):\n",
    "        # Shape: (downstream_num, position_dim), (num_samples, position_dim) -> (num_samples, downstream_num)\n",
    "        attention_similarities = sharpness * tf.einsum('ND,SD->SN', downstream_positions, query)\n",
    "\n",
    "        # Shape: (num_samples, downstream_num) -> (num_samples, downstream_num)\n",
    "        attention_scores = tf.nn.softmax(attention_similarities, axis=-1)\n",
    "        \n",
    "        # Shape: (..., downstream_num, downstream_dim), (num_samples, downstream_num) -> (..., num_samples, downstream_dim)\n",
    "        head_output = tf.einsum('...ND,SN->...SD', downstream_input, attention_scores)\n",
    "        \n",
    "        return head_output\n",
    "    \n",
    "    @staticmethod\n",
    "    @tf.function(jit_compile=True)\n",
    "    @tf.recompute_grad\n",
    "    def compute_reconstruction_head_output(downstream_positions, values, query, sharpness):\n",
    "        # Shape: (downstream_num, position_dim), (..., num_columns, position_dim) -> (..., num_columns, downstream_num)\n",
    "        attention_similarities = sharpness * tf.einsum('ND,...SD->...SN', downstream_positions, query)\n",
    "        \n",
    "        # Shape: (..., num_columns, downstream_num) -> (..., num_columns, downstream_num)\n",
    "        attention_scores = tf.nn.softmax(attention_similarities, axis=-1)\n",
    "        \n",
    "        # Shape: (..., num_columns, downstream_dim), (..., num_columns, downstream_num) -> (..., downstream_num, downstream_dim)\n",
    "        head_reconstruction = tf.einsum('...CD,...CN->...ND', values, attention_scores)\n",
    "        \n",
    "        return head_reconstruction"
   ]
  },
  {
   "cell_type": "markdown",
   "id": "e2466698",
   "metadata": {},
   "source": [
    "### Coding / decoding layer"
   ]
  },
  {
   "cell_type": "code",
   "execution_count": 974,
   "id": "6c02265e",
   "metadata": {},
   "outputs": [],
   "source": [
    "def compute_full_reconstruction_error(y_true, y_pred):\n",
    "    y_true = tf.cast(tf.stop_gradient(y_true), tf.float32)\n",
    "    y_pred = tf.cast(y_pred, tf.float32)\n",
    "    \n",
    "    # Like cosine similarity, but weighted by the norm of the true vectors\n",
    "    similarity = tf.reduce_sum(y_true * tf.math.l2_normalize(y_pred, axis=-1, epsilon=tf.keras.backend.epsilon()), axis=-1)\n",
    "    weights = stable_norm(y_true, axis=-1)\n",
    "    \n",
    "    return tf.reduce_mean(weights) - tf.reduce_mean(similarity)\n",
    "\n",
    "def compute_partial_reconstruction_error(y_true, y_pred):\n",
    "    y_true = tf.cast(tf.stop_gradient(y_true), tf.float32)\n",
    "    y_pred = tf.cast(y_pred, tf.float32)\n",
    "    \n",
    "    # Compare the L1 norm size change when adding y_pred vectors to y_true vectors\n",
    "    norm_y_true = y_true / tf.maximum(l1_norm(y_true, axis=-1, keepdims=True), tf.keras.backend.epsilon())\n",
    "    norm_y_pred = y_pred / tf.maximum(l1_norm(y_pred, axis=-1, keepdims=True), tf.keras.backend.epsilon())\n",
    "    partial_loss = 2.0 - l1_norm(norm_y_true + norm_y_pred, axis=-1)\n",
    "    \n",
    "    return tf.reduce_mean(partial_loss)\n",
    "\n",
    "def compute_scale_loss(state):\n",
    "    state = tf.cast(state, tf.float32)\n",
    "    \n",
    "    scale_loss = 1.0 - tf.math.tanh(stable_norm(state, axis=-1))\n",
    "    \n",
    "    return tf.reduce_mean(scale_loss)\n",
    "\n",
    "def mean_l1_activity(t):\n",
    "    t = tf.cast(t, tf.float32)\n",
    "    return tf.reduce_mean(tf.reduce_sum(tf.abs(t), axis=-1))\n",
    "\n",
    "class PermanenceSeparatorLayer(tf.keras.layers.Layer):\n",
    "    def __init__(self, upstream_dim, position_dim, bypass_rate, noise_rate):\n",
    "        super(PermanenceSeparatorLayer, self).__init__()\n",
    "        \n",
    "        self.upstream_dim = upstream_dim\n",
    "        self.position_dim = position_dim\n",
    "        self.bypass_rate = bypass_rate\n",
    "        self.noise_rate = noise_rate\n",
    "    \n",
    "    def build(self, input_shape):\n",
    "        self.internal_dim = input_shape[-1]\n",
    "\n",
    "        # A note on kernel intitializers: Because we renormalize vectors after encoding and decoding them,\n",
    "        # the usual He normal / Xavier normalization strategies don't quite apply here. We instead just\n",
    "        # initialize with a normal distribution at a small stddev.\n",
    "        self.separation_layers = [\n",
    "            Dense(\n",
    "                np.ceil(2 * self.internal_dim / 8.0) * 8,\n",
    "                use_bias=False,\n",
    "                kernel_regularizer=tf.keras.regularizers.l2(l2=1e-5),\n",
    "                kernel_initializer=tf.keras.initializers.RandomNormal(mean=0.0, stddev=0.1),\n",
    "                name='separation_layer_1',\n",
    "            ),\n",
    "            LeakyReLU(alpha=0.1),\n",
    "            Dense(\n",
    "                np.ceil(2 * self.internal_dim / 8.0) * 8,\n",
    "                use_bias=False,\n",
    "                kernel_regularizer=tf.keras.regularizers.l2(l2=1e-5),\n",
    "                kernel_initializer=tf.keras.initializers.RandomNormal(mean=0.0, stddev=0.1),\n",
    "                name='separation_layer_2',\n",
    "            ),\n",
    "            LeakyReLU(alpha=0.1),\n",
    "            Dense(\n",
    "                self.upstream_dim,\n",
    "                use_bias=False,\n",
    "                kernel_regularizer=tf.keras.regularizers.l2(l2=1e-5),\n",
    "                kernel_initializer=tf.keras.initializers.RandomNormal(mean=0.0, stddev=0.1),\n",
    "                name='separation_layer_3',\n",
    "            )\n",
    "        ]\n",
    "        \n",
    "        self.reconstruction_layers = [\n",
    "            Dense(\n",
    "                np.ceil(2 * self.internal_dim / 8.0) * 8,\n",
    "                use_bias=False,\n",
    "                kernel_regularizer=tf.keras.regularizers.l2(l2=1e-5),\n",
    "                kernel_initializer=tf.keras.initializers.RandomNormal(mean=0.0, stddev=0.1),\n",
    "                name='reconstruction_layer_1',\n",
    "            ),\n",
    "            LeakyReLU(alpha=0.1),\n",
    "            Dense(\n",
    "                np.ceil(2 * self.internal_dim / 8.0) * 8,\n",
    "                use_bias=False,\n",
    "                kernel_regularizer=tf.keras.regularizers.l2(l2=1e-5),\n",
    "                kernel_initializer=tf.keras.initializers.RandomNormal(mean=0.0, stddev=0.1),\n",
    "                name='reconstruction_layer_2',\n",
    "            ),\n",
    "            LeakyReLU(alpha=0.1),\n",
    "            Dense(\n",
    "                self.internal_dim,\n",
    "                use_bias=False,\n",
    "                kernel_regularizer=tf.keras.regularizers.l2(l2=1e-5),\n",
    "                kernel_initializer=tf.keras.initializers.RandomNormal(mean=0.0, stddev=0.1),\n",
    "                name='reconstruction_layer_3',\n",
    "            )\n",
    "        ]\n",
    "        \n",
    "        if self.noise_rate:\n",
    "            self.noise = GaussianNoise(stddev=self.noise_rate/np.sqrt(self.upstream_dim))\n",
    "        else:\n",
    "            self.noise = None\n",
    "        \n",
    "        super(PermanenceSeparatorLayer, self).build(input_shape)\n",
    "     \n",
    "    @tf.function(jit_compile=True)\n",
    "    def reconstruct(self, separated_input, training=False):\n",
    "        # Inject noise to increase robustness.\n",
    "        if self.noise:\n",
    "            separated_input = self.noise(separated_input, training=training)\n",
    "            separated_input = tf.math.l2_normalize(separated_input, axis=-1, epsilon=tf.keras.backend.epsilon())\n",
    "        \n",
    "        enriched_input = separated_input\n",
    "        for l in self.reconstruction_layers:\n",
    "            enriched_input = l(enriched_input)\n",
    "        \n",
    "        return enriched_input\n",
    "    \n",
    "    def call(self, enriched_input, is_bootstrapping, training):        \n",
    "        separated_input = enriched_input\n",
    "        for l in self.separation_layers:\n",
    "            separated_input = l(separated_input)\n",
    "        \n",
    "        # Normalize upstream states\n",
    "        normalized_separated_input = tf.math.l2_normalize(separated_input, axis=-1, epsilon=tf.keras.backend.epsilon())\n",
    "        \n",
    "        # Try to keep the state sparse if we can - this makes the work of upstream layers easier, and encourages\n",
    "        # the encoder to identify distinct recurring patterns in the inputs.\n",
    "        activity_reg = mean_l1_activity(separated_input)\n",
    "        self.add_metric(activity_reg, 'mean_l1_activity')\n",
    "        self.add_loss(0.01 * activity_reg)\n",
    "        \n",
    "        reconstruction = self.reconstruct(normalized_separated_input, training=training)\n",
    "        \n",
    "        # Add a local reconstruction loss just for the separator mapping. This makes convergence of the overall\n",
    "        # network more reliable and efficient.\n",
    "        # For our loss here, we want to treat the input as a ground truth. Hence we stop gradient propagation along the\n",
    "        # input. (In particular, we do *not* want to encourage the input to change to make it easy for us to fit better\n",
    "        # in this local loss. There will be a separate global reconstruction loss at the end to make sure end to end\n",
    "        # reconstruction works.)\n",
    "        no_gradient_enriched_input = tf.stop_gradient(enriched_input)\n",
    "        # Require full reconstruction for the position during bootstrapping to speed up convergence of positions.\n",
    "        # After bootstrapping, we relax this constraint so the network can choose how much precision is really\n",
    "        # needed for a given part of the position.\n",
    "        position_reconstruction_error = compute_full_reconstruction_error(\n",
    "            no_gradient_enriched_input[:, :, :, 0:self.position_dim],\n",
    "            reconstruction[:, :, :, 0:self.position_dim],\n",
    "        )\n",
    "        self.add_metric(position_reconstruction_error, 'position_reconstruction_error')\n",
    "        self.add_loss(0.5 * tf.cast(is_bootstrapping, tf.float32) * position_reconstruction_error)\n",
    "        \n",
    "        # The purpose of the scale loss is to add numeric stability by shrinking the factor\n",
    "        # by which the normalization of the results will need to scale up the output of the\n",
    "        # relu layers. It also ensures that the l2 regularization of the layer weights\n",
    "        # has the desired effect of keeping the reconstruction robust under small upstream state\n",
    "        # changes.\n",
    "        upstream_scale_loss = compute_scale_loss(separated_input)\n",
    "        self.add_metric(upstream_scale_loss, 'upstream_scale_loss')\n",
    "        self.add_loss(0.01 * upstream_scale_loss)\n",
    "        reconstruction_scale_loss = compute_scale_loss(reconstruction[:, :, :, self.position_dim:])\n",
    "        self.add_metric(reconstruction_scale_loss, 'reconstruction_scale_loss')\n",
    "        self.add_loss(0.01 * reconstruction_scale_loss)\n",
    "\n",
    "        # During bootstrapping, add a \"cheat\" bypass to better bootstrap the locality mapping\n",
    "        if training:\n",
    "            bypass_rate = tf.cast(is_bootstrapping, tf.float32) * self.bypass_rate\n",
    "            m = tf.shape(enriched_input)[0]\n",
    "            toss = tf.random.uniform(shape=[m, 1, 1, 1], minval=0.0, maxval=1.0)\n",
    "            bypass_mask = tf.cast(toss < bypass_rate, dtype=self.compute_dtype)\n",
    "            reconstruction = bypass_mask * enriched_input + (1.0 - bypass_mask) * reconstruction\n",
    "        \n",
    "        return [normalized_separated_input, reconstruction]"
   ]
  },
  {
   "cell_type": "markdown",
   "id": "20872f3c",
   "metadata": {},
   "source": [
    "### Single column type"
   ]
  },
  {
   "cell_type": "code",
   "execution_count": 975,
   "id": "d9baf595",
   "metadata": {},
   "outputs": [],
   "source": [
    "class ColumnSelectorLayer(tf.keras.layers.Layer):\n",
    "    def __init__(self, num_column_instances):\n",
    "        super(ColumnSelectorLayer, self).__init__()\n",
    "    \n",
    "        self.num_column_instances = num_column_instances\n",
    "        \n",
    "    def build(self, input_shape):\n",
    "        self.upstream_dim = input_shape[-1]\n",
    "        \n",
    "        # One query per column instance\n",
    "        self.queries = self.add_weight(\n",
    "            shape=(self.num_column_instances, self.upstream_dim),\n",
    "            initializer=tf.keras.initializers.RandomNormal(mean=0.0, stddev=np.sqrt(2.0 / self.upstream_dim)),\n",
    "            name='selector_queries',\n",
    "            use_resource=True,\n",
    "            trainable=True,\n",
    "        )\n",
    "        \n",
    "        super(ColumnSelectorLayer, self).build(input_shape)\n",
    "    \n",
    "    def call(self, upstream_state):\n",
    "        # Shape: (..., num_samples, upstream_dim), (..., num_column_instances, upstream_dim) -> (..., num_column_instances, num_samples)\n",
    "        salience = tf.einsum('...SD,...ID->...IS', upstream_state, self.queries)\n",
    "\n",
    "        salience = tf.nn.softmax(salience, axis=-1)\n",
    "        \n",
    "        # Shape: (..., num_column_instances, num_samples), (..., num_samples, upstream_dim) -> (..., num_column_instances, upstream_dim)\n",
    "        selected_inputs = tf.einsum('...IS,...SD->...ID', salience, upstream_state)\n",
    "        \n",
    "        return selected_inputs\n",
    "        \n",
    "class ColumnLayer(tf.keras.layers.Layer):\n",
    "    def __init__(\n",
    "        self,\n",
    "        upstream_dim,\n",
    "        num_column_instances,\n",
    "        position_dim,\n",
    "        context_fan_in,\n",
    "        context_num_samples,\n",
    "        context_initial_sharpness,\n",
    "        train_context,\n",
    "        noise_rate,\n",
    "        bypass_rate,\n",
    "    ):\n",
    "        super(ColumnLayer, self).__init__()\n",
    "\n",
    "        self.upstream_dim = upstream_dim\n",
    "        self.num_column_instances = num_column_instances\n",
    "        self.position_dim = position_dim\n",
    "        self.context_fan_in = context_fan_in\n",
    "        self.context_num_samples = context_num_samples\n",
    "        self.context_initial_sharpness = context_initial_sharpness\n",
    "        self.train_context = train_context\n",
    "        self.noise_rate = noise_rate\n",
    "        self.bypass_rate = bypass_rate\n",
    "    \n",
    "    def build(self, input_shape):        \n",
    "        self.context_aggregator = ContextAggregationLayer(\n",
    "            context_fan_in=self.context_fan_in,\n",
    "            position_dim=self.position_dim,\n",
    "            num_samples=self.context_num_samples,\n",
    "            initial_sharpness=self.context_initial_sharpness,\n",
    "            train_context=self.train_context,\n",
    "            dtype='mixed_float16',\n",
    "        )\n",
    "        \n",
    "        self.permanence_separator = PermanenceSeparatorLayer(\n",
    "            upstream_dim=self.upstream_dim,\n",
    "            position_dim=self.position_dim,\n",
    "            bypass_rate=self.bypass_rate,\n",
    "            noise_rate=self.noise_rate,\n",
    "        )\n",
    "        \n",
    "        self.column_selector = ColumnSelectorLayer(\n",
    "            num_column_instances=self.num_column_instances,\n",
    "        )\n",
    "        \n",
    "        super(ColumnLayer, self).build(input_shape)\n",
    "    \n",
    "    def reconstruct(self, upstream_state):\n",
    "        reconstruction = self.permanence_separator.reconstruct(upstream_state)\n",
    "        reconstruction = self.context_aggregator.reconstruct(reconstruction)\n",
    "        return reconstruction\n",
    "    \n",
    "    def call(self, centered_input, training, is_bootstrapping=False):\n",
    "        enriched_input = self.context_aggregator(centered_input)\n",
    "        \n",
    "        full_upstream_state, full_reconstruction = self.permanence_separator(\n",
    "            enriched_input,\n",
    "            is_bootstrapping=is_bootstrapping,\n",
    "        )\n",
    "        full_reconstruction = self.context_aggregator.reconstruct(full_reconstruction)\n",
    "\n",
    "        upstream_state = self.column_selector(full_upstream_state)\n",
    "        \n",
    "        # Restore unit length for the selected upstream states\n",
    "        upstream_state = tf.math.l2_normalize(upstream_state, axis=-1, epsilon=tf.keras.backend.epsilon())\n",
    "        \n",
    "        reconstruction = self.permanence_separator.reconstruct(upstream_state, training=training)\n",
    "        reconstruction = self.context_aggregator.reconstruct(reconstruction)\n",
    "        \n",
    "        return [upstream_state, reconstruction, full_reconstruction]"
   ]
  },
  {
   "cell_type": "markdown",
   "id": "0e1fb18c",
   "metadata": {},
   "source": [
    "### Multi-column overall layer"
   ]
  },
  {
   "cell_type": "code",
   "execution_count": 976,
   "id": "02c99755",
   "metadata": {},
   "outputs": [],
   "source": [
    "def compute_change_non_sparseness(prev_state, cur_state):\n",
    "    diff = cur_state - prev_state\n",
    "    l1 = l1_norm(diff, axis=-1)\n",
    "    # Minimum is to avoid negative values due to the espilon in stable_norm\n",
    "    l2 = tf.minimum(l1, stable_norm(diff, axis=-1))\n",
    "    \n",
    "    bias = 0.1\n",
    "\n",
    "    non_sparseness = (l1 + bias) / (l2 + bias)\n",
    "    \n",
    "    return non_sparseness\n",
    "\n",
    "def compute_permanence_loss(prev_upstream_state, cur_upstream_state, prev_reconstruction, cur_reconstruction):\n",
    "    prev_upstream_state = tf.cast(prev_upstream_state, tf.float32)\n",
    "    cur_upstream_state = tf.cast(cur_upstream_state, tf.float32)\n",
    "    prev_reconstruction = tf.cast(tf.stop_gradient(prev_reconstruction), tf.float32)\n",
    "    cur_reconstruction = tf.cast(tf.stop_gradient(cur_reconstruction), tf.float32)\n",
    "    \n",
    "    upstream_non_sparseness = tf.reduce_mean(\n",
    "        compute_change_non_sparseness(prev_upstream_state, cur_upstream_state),\n",
    "        axis=-1,\n",
    "    )\n",
    "    reconstruction_non_sparseness = tf.reduce_mean(\n",
    "        compute_change_non_sparseness(prev_reconstruction, cur_reconstruction),\n",
    "        axis=-1,\n",
    "    )\n",
    "    \n",
    "    non_sparseness_ratio = upstream_non_sparseness / reconstruction_non_sparseness\n",
    "    \n",
    "    return tf.reduce_mean(non_sparseness_ratio)\n",
    "\n",
    "class PtolemyLayer(tf.keras.layers.Layer):\n",
    "    def __init__(\n",
    "        self,\n",
    "        num_channels,\n",
    "        num_instances_per_channel,\n",
    "        context_fan_in,\n",
    "        upstream_dim,\n",
    "        position_dim,\n",
    "        stride=1,\n",
    "        permanence_loss_rho=0.01,\n",
    "        initial_sharpness=3.0,\n",
    "        noise_rate=0.1,\n",
    "        bypass_rate=0.5,\n",
    "        train_context=True,\n",
    "    ):\n",
    "        super(PtolemyLayer, self).__init__()\n",
    "        \n",
    "        self.num_channels = num_channels\n",
    "        self.num_instances_per_channel = num_instances_per_channel\n",
    "        self.context_fan_in = context_fan_in\n",
    "        self.upstream_dim = upstream_dim\n",
    "        self.position_dim = position_dim\n",
    "        self.stride = stride\n",
    "        self.permanence_loss_rho = permanence_loss_rho\n",
    "        self.initial_sharpness = initial_sharpness\n",
    "        self.noise_rate = noise_rate\n",
    "        self.bypass_rate = bypass_rate\n",
    "        self.train_context = train_context\n",
    "        \n",
    "        self.is_bootstrapping = tf.Variable(\n",
    "            name='is_bootstrapping',\n",
    "            initial_value=True,\n",
    "            trainable=False,\n",
    "            shape=(),\n",
    "            dtype=tf.bool,\n",
    "        )\n",
    "    \n",
    "    def get_config(self):\n",
    "        return {\n",
    "            'num_channels': self.num_channels,\n",
    "            'num_instances_per_channel': self.num_instances_per_channel,\n",
    "            'context_fan_in': self.context_fan_in,\n",
    "            'upstream_dim': self.upstream_dim,\n",
    "            'position_dim': self.position_dim,\n",
    "            'stride': self.stride,\n",
    "            'permanence_loss_rho': self.permanence_loss_rho,\n",
    "            'initial_sharpness': self.initial_sharpness,\n",
    "            'noise_rate': self.noise_rate,\n",
    "            'bypass_rate': self.bypass_rate,\n",
    "            'train_context': self.train_context,\n",
    "        }\n",
    "    \n",
    "    def build(self, input_shape):\n",
    "        self.downstream_num = input_shape[-2]\n",
    "        self.downstream_dim = input_shape[-1]\n",
    "        \n",
    "        num_samples = int(self.downstream_num / self.stride)\n",
    "        \n",
    "        self.columns = []\n",
    "        for c in range(0, self.num_channels):\n",
    "            self.columns.append(\n",
    "                ColumnLayer(\n",
    "                    upstream_dim=self.upstream_dim,\n",
    "                    num_column_instances=self.num_instances_per_channel,\n",
    "                    position_dim=self.position_dim,\n",
    "                    context_fan_in=self.context_fan_in,\n",
    "                    context_num_samples=num_samples,\n",
    "                    context_initial_sharpness=self.initial_sharpness,\n",
    "                    train_context=self.train_context,\n",
    "                    noise_rate=self.noise_rate,\n",
    "                    bypass_rate=self.bypass_rate,\n",
    "                )\n",
    "            )\n",
    "        \n",
    "        self.bias = self.add_weight(\n",
    "            shape=(self.downstream_num, self.downstream_dim),\n",
    "            trainable=False,\n",
    "            initializer=tf.keras.initializers.Zeros(),\n",
    "            use_resource=True,\n",
    "            name='bias',\n",
    "        )\n",
    "        \n",
    "        super(PtolemyLayer, self).build(input_shape)\n",
    "    \n",
    "    @tf.function(jit_compile=True)\n",
    "    def reconstruct(self, upstream_state):\n",
    "        upstream_states = tf.split(upstream_state, self.num_channels, axis=-2)\n",
    "        channel_reconstructions = []\n",
    "        for c in range(0, self.num_channels):\n",
    "            channel_reconstruction = self.columns[c].reconstruct(upstream_states[c])\n",
    "            channel_reconstructions.append(channel_reconstruction)\n",
    "            \n",
    "        reconstruction = self.reconstruct_from_channel_reconstructions(channel_reconstructions)\n",
    "        \n",
    "        return reconstruction\n",
    "    \n",
    "    def reconstruct_from_channel_reconstructions(self, channel_reconstructions):       \n",
    "        reconstruction = tf.math.accumulate_n(channel_reconstructions)\n",
    "\n",
    "        reconstruction += 0.01 * tf.cast(self.bias, self.compute_dtype)\n",
    "    \n",
    "        # Normalize reconstruction\n",
    "        reconstruction = tf.math.l2_normalize(reconstruction, axis=-1, epsilon=tf.keras.backend.epsilon())\n",
    "        \n",
    "        return reconstruction\n",
    "    \n",
    "    def call(self, downstream_input, training=False):\n",
    "        # Update bias to be the mean of the inputs\n",
    "        batch_mean = tf.reduce_mean(tf.reduce_mean(tf.cast(downstream_input, tf.float32), axis=0), axis=0)\n",
    "        if training:\n",
    "            self.bias.assign(0.9 * tf.cast(self.bias, tf.float32) + 0.1 * batch_mean)\n",
    "        \n",
    "        upstream_states = []\n",
    "        channel_reconstructions = []\n",
    "        channel_full_reconstructions = []\n",
    "        for c in range(0, self.num_channels):\n",
    "            upstream_state, channel_reconstruction, channel_full_reconstruction = self.columns[c](\n",
    "                downstream_input,\n",
    "                is_bootstrapping=self.is_bootstrapping,\n",
    "            )\n",
    " \n",
    "            upstream_states.append(upstream_state)\n",
    "            channel_reconstructions.append(channel_reconstruction)\n",
    "            channel_full_reconstructions.append(channel_full_reconstruction)\n",
    "        \n",
    "        upstream_state = tf.concat(upstream_states, axis=-2)\n",
    "        reconstruction = self.reconstruct_from_channel_reconstructions(channel_reconstructions)\n",
    "        full_reconstruction = self.reconstruct_from_channel_reconstructions(channel_full_reconstructions)\n",
    "\n",
    "        if self.permanence_loss_rho:\n",
    "            # Currently only works for pairs\n",
    "            permanence_loss = compute_permanence_loss(\n",
    "                upstream_state[:, 0],\n",
    "                upstream_state[:, 1],\n",
    "                reconstruction[:, 0],\n",
    "                reconstruction[:, 1],\n",
    "            )\n",
    "            self.add_metric(permanence_loss, 'permanence_loss')\n",
    "            self.add_loss(self.permanence_loss_rho * (1.0 - tf.cast(self.is_bootstrapping, tf.float32)) * permanence_loss)\n",
    "        \n",
    "        full_reconstruction_error = compute_full_reconstruction_error(downstream_input, full_reconstruction)\n",
    "        self.add_metric(full_reconstruction_error, 'full_reconstruction_error')\n",
    "        self.add_loss(tf.cast(self.is_bootstrapping, tf.float32) * full_reconstruction_error)\n",
    "\n",
    "        reconstruction_error = compute_full_reconstruction_error(downstream_input, reconstruction)\n",
    "        self.add_metric(reconstruction_error, 'reconstruction_error')\n",
    "        self.add_loss(reconstruction_error)\n",
    "\n",
    "        return [upstream_state, reconstruction]"
   ]
  },
  {
   "cell_type": "markdown",
   "id": "0fd0b5c8",
   "metadata": {},
   "source": [
    "# Model"
   ]
  },
  {
   "cell_type": "code",
   "execution_count": 977,
   "id": "9fc36b51",
   "metadata": {
    "scrolled": true
   },
   "outputs": [
    {
     "name": "stdout",
     "output_type": "stream",
     "text": [
      "WARNING:tensorflow:@custom_gradient grad_fn has 'variables' in signature, but no ResourceVariables were used on the forward pass.\n",
      "WARNING:tensorflow:@custom_gradient grad_fn has 'variables' in signature, but no ResourceVariables were used on the forward pass.\n"
     ]
    }
   ],
   "source": [
    "X = X\n",
    "Y = X\n",
    "\n",
    "inp = Input(shape=(2, 28*28, 2))\n",
    "l1 = PtolemyLayer(\n",
    "    num_channels=1,\n",
    "    num_instances_per_channel=16,\n",
    "    context_fan_in=32,\n",
    "    upstream_dim=16,\n",
    "    position_dim=8,\n",
    "    stride=2,\n",
    "    permanence_loss_rho=0.01,\n",
    "    initial_sharpness=4.0,\n",
    "    noise_rate=0.25,\n",
    "    bypass_rate=0.5,\n",
    "    train_context=True,\n",
    ")\n",
    "\n",
    "# inp = Input(shape=(2, 2500, 2))\n",
    "# l1 = PtolemyLayer(\n",
    "#    num_channels=1,\n",
    "#    num_instances_per_channel=1,\n",
    "#    context_fan_in=32,\n",
    "#    upstream_dim=16,\n",
    "#    position_dim=8,\n",
    "#    stride=7,\n",
    "#    permanence_loss_rho=0.01,\n",
    "#    initial_sharpness=4.0,\n",
    "#    train_context=False, # TODO: Likely True is going to work better now.\n",
    "#    noise_rate=0.1,\n",
    "#    bypass_rate=0.5,\n",
    "# )\n",
    "\n",
    "# inp = Input(shape=(2, 2500, 2))\n",
    "# l1 = PtolemyLayer(\n",
    "#    num_channels=1,\n",
    "#    num_instances_per_channel=16,\n",
    "#    context_fan_in=32,\n",
    "#    upstream_dim=16,\n",
    "#    position_dim=8,\n",
    "#    stride=7,\n",
    "#    permanence_loss_rho=0.01,\n",
    "#    initial_sharpness=4.0,\n",
    "#    train_context=True,\n",
    "#    noise_rate=0.25,\n",
    "#    bypass_rate=0.5,\n",
    "# )\n",
    "\n",
    "upstream_state_1, downstream_reconstruction_1 = l1(inp)\n",
    "\n",
    "upstream_state = upstream_state_1\n",
    "downstream_reconstruction = downstream_reconstruction_1"
   ]
  },
  {
   "cell_type": "code",
   "execution_count": 978,
   "id": "b58f31ff",
   "metadata": {
    "scrolled": true
   },
   "outputs": [
    {
     "name": "stdout",
     "output_type": "stream",
     "text": [
      "Model: \"model_136\"\n",
      "_________________________________________________________________\n",
      "Layer (type)                 Output Shape              Param #   \n",
      "=================================================================\n",
      "input_76 (InputLayer)        [(None, 2, 784, 2)]       0         \n",
      "_________________________________________________________________\n",
      "ptolemy_layer_73 (PtolemyLay [(None, 2, 16, 16), (None 76993     \n",
      "=================================================================\n",
      "Total params: 76,993\n",
      "Trainable params: 75,424\n",
      "Non-trainable params: 1,569\n",
      "_________________________________________________________________\n"
     ]
    }
   ],
   "source": [
    "reconstruction_model = tf.keras.models.Model(inputs=[inp], outputs=downstream_reconstruction)\n",
    "upstream_state_model = tf.keras.models.Model(inputs=[inp], outputs=upstream_state)\n",
    "\n",
    "@tf.function\n",
    "def zero_loss(t, p):\n",
    "    return 0.0\n",
    "\n",
    "optimizer = tf.keras.optimizers.Adam(\n",
    "    learning_rate = 0.005,\n",
    ")\n",
    "optimizer = tf.keras.mixed_precision.LossScaleOptimizer(optimizer)\n",
    "reconstruction_model.compile(\n",
    "    loss = zero_loss,\n",
    "    optimizer = optimizer,\n",
    "    metrics = ['cosine_similarity'],\n",
    ")\n",
    "reconstruction_model.summary()"
   ]
  },
  {
   "cell_type": "code",
   "execution_count": 979,
   "id": "2f96f33c",
   "metadata": {
    "scrolled": true
   },
   "outputs": [
    {
     "name": "stdout",
     "output_type": "stream",
     "text": [
      "Epoch 1/4\n",
      "WARNING:tensorflow:@custom_gradient grad_fn has 'variables' in signature, but no ResourceVariables were used on the forward pass.\n",
      "WARNING:tensorflow:@custom_gradient grad_fn has 'variables' in signature, but no ResourceVariables were used on the forward pass.\n",
      "938/938 [==============================] - 207s 214ms/step - loss: 0.3764 - cosine_similarity: 0.8042 - permanence_loss: 2.2434 - full_reconstruction_error: 0.1396 - reconstruction_error: 0.1958 - mean_l1_activity: 0.9677 - position_reconstruction_error: 0.0336 - upstream_scale_loss: 0.7128 - reconstruction_scale_loss: 0.0303\n",
      "Epoch 2/4\n",
      "938/938 [==============================] - 201s 215ms/step - loss: 0.2017 - cosine_similarity: 0.8802 - permanence_loss: 2.5466 - full_reconstruction_error: 0.0534 - reconstruction_error: 0.1198 - mean_l1_activity: 0.5315 - position_reconstruction_error: 0.0167 - upstream_scale_loss: 0.8315 - reconstruction_scale_loss: 0.0319\n",
      "Epoch 3/4\n",
      "938/938 [==============================] - 202s 215ms/step - loss: 0.1622 - cosine_similarity: 0.9057 - permanence_loss: 2.6158 - full_reconstruction_error: 0.0402 - reconstruction_error: 0.0942 - mean_l1_activity: 0.4469 - position_reconstruction_error: 0.0172 - upstream_scale_loss: 0.8583 - reconstruction_scale_loss: 0.0317\n",
      "Epoch 4/4\n",
      "918/938 [============================>.] - ETA: 4s - loss: 0.1398 - cosine_similarity: 0.9212 - permanence_loss: 2.6529 - full_reconstruction_error: 0.0340 - reconstruction_error: 0.0788 - mean_l1_activity: 0.3965 - position_reconstruction_error: 0.0168 - upstream_scale_loss: 0.8740 - reconstruction_scale_loss: 0.0321"
     ]
    },
    {
     "ename": "KeyboardInterrupt",
     "evalue": "",
     "output_type": "error",
     "traceback": [
      "\u001b[0;31m---------------------------------------------------------------------------\u001b[0m",
      "\u001b[0;31mKeyboardInterrupt\u001b[0m                         Traceback (most recent call last)",
      "\u001b[0;32m<ipython-input-979-d0f120bf1922>\u001b[0m in \u001b[0;36m<module>\u001b[0;34m\u001b[0m\n\u001b[1;32m      4\u001b[0m \u001b[0;34m\u001b[0m\u001b[0m\n\u001b[1;32m      5\u001b[0m \u001b[0mtf\u001b[0m\u001b[0;34m.\u001b[0m\u001b[0mconfig\u001b[0m\u001b[0;34m.\u001b[0m\u001b[0mexperimental\u001b[0m\u001b[0;34m.\u001b[0m\u001b[0mreset_memory_stats\u001b[0m\u001b[0;34m(\u001b[0m\u001b[0;34m'GPU:0'\u001b[0m\u001b[0;34m)\u001b[0m\u001b[0;34m\u001b[0m\u001b[0;34m\u001b[0m\u001b[0m\n\u001b[0;32m----> 6\u001b[0;31m \u001b[0mhistory\u001b[0m \u001b[0;34m=\u001b[0m \u001b[0mreconstruction_model\u001b[0m\u001b[0;34m.\u001b[0m\u001b[0mfit\u001b[0m\u001b[0;34m(\u001b[0m\u001b[0;34m[\u001b[0m\u001b[0mX\u001b[0m\u001b[0;34m]\u001b[0m\u001b[0;34m,\u001b[0m \u001b[0mY\u001b[0m\u001b[0;34m,\u001b[0m \u001b[0mepochs\u001b[0m\u001b[0;34m=\u001b[0m\u001b[0;36m4\u001b[0m\u001b[0;34m,\u001b[0m \u001b[0mbatch_size\u001b[0m\u001b[0;34m=\u001b[0m\u001b[0;36m32\u001b[0m\u001b[0;34m)\u001b[0m \u001b[0;31m#, callbacks=[tensorboard_callback])\u001b[0m\u001b[0;34m\u001b[0m\u001b[0;34m\u001b[0m\u001b[0m\n\u001b[0m\u001b[1;32m      7\u001b[0m \u001b[0mtf\u001b[0m\u001b[0;34m.\u001b[0m\u001b[0mconfig\u001b[0m\u001b[0;34m.\u001b[0m\u001b[0mexperimental\u001b[0m\u001b[0;34m.\u001b[0m\u001b[0mget_memory_info\u001b[0m\u001b[0;34m(\u001b[0m\u001b[0;34m'GPU:0'\u001b[0m\u001b[0;34m)\u001b[0m\u001b[0;34m\u001b[0m\u001b[0;34m\u001b[0m\u001b[0m\n",
      "\u001b[0;32m~/Programming/Python/ArithTrainExperiment/ArithTrainExperiment_env/lib/python3.6/site-packages/keras/engine/training.py\u001b[0m in \u001b[0;36mfit\u001b[0;34m(self, x, y, batch_size, epochs, verbose, callbacks, validation_split, validation_data, shuffle, class_weight, sample_weight, initial_epoch, steps_per_epoch, validation_steps, validation_batch_size, validation_freq, max_queue_size, workers, use_multiprocessing)\u001b[0m\n\u001b[1;32m   1182\u001b[0m                 _r=1):\n\u001b[1;32m   1183\u001b[0m               \u001b[0mcallbacks\u001b[0m\u001b[0;34m.\u001b[0m\u001b[0mon_train_batch_begin\u001b[0m\u001b[0;34m(\u001b[0m\u001b[0mstep\u001b[0m\u001b[0;34m)\u001b[0m\u001b[0;34m\u001b[0m\u001b[0;34m\u001b[0m\u001b[0m\n\u001b[0;32m-> 1184\u001b[0;31m               \u001b[0mtmp_logs\u001b[0m \u001b[0;34m=\u001b[0m \u001b[0mself\u001b[0m\u001b[0;34m.\u001b[0m\u001b[0mtrain_function\u001b[0m\u001b[0;34m(\u001b[0m\u001b[0miterator\u001b[0m\u001b[0;34m)\u001b[0m\u001b[0;34m\u001b[0m\u001b[0;34m\u001b[0m\u001b[0m\n\u001b[0m\u001b[1;32m   1185\u001b[0m               \u001b[0;32mif\u001b[0m \u001b[0mdata_handler\u001b[0m\u001b[0;34m.\u001b[0m\u001b[0mshould_sync\u001b[0m\u001b[0;34m:\u001b[0m\u001b[0;34m\u001b[0m\u001b[0;34m\u001b[0m\u001b[0m\n\u001b[1;32m   1186\u001b[0m                 \u001b[0mcontext\u001b[0m\u001b[0;34m.\u001b[0m\u001b[0masync_wait\u001b[0m\u001b[0;34m(\u001b[0m\u001b[0;34m)\u001b[0m\u001b[0;34m\u001b[0m\u001b[0;34m\u001b[0m\u001b[0m\n",
      "\u001b[0;32m~/Programming/Python/ArithTrainExperiment/ArithTrainExperiment_env/lib/python3.6/site-packages/tensorflow/python/eager/def_function.py\u001b[0m in \u001b[0;36m__call__\u001b[0;34m(self, *args, **kwds)\u001b[0m\n\u001b[1;32m    883\u001b[0m \u001b[0;34m\u001b[0m\u001b[0m\n\u001b[1;32m    884\u001b[0m       \u001b[0;32mwith\u001b[0m \u001b[0mOptionalXlaContext\u001b[0m\u001b[0;34m(\u001b[0m\u001b[0mself\u001b[0m\u001b[0;34m.\u001b[0m\u001b[0m_jit_compile\u001b[0m\u001b[0;34m)\u001b[0m\u001b[0;34m:\u001b[0m\u001b[0;34m\u001b[0m\u001b[0;34m\u001b[0m\u001b[0m\n\u001b[0;32m--> 885\u001b[0;31m         \u001b[0mresult\u001b[0m \u001b[0;34m=\u001b[0m \u001b[0mself\u001b[0m\u001b[0;34m.\u001b[0m\u001b[0m_call\u001b[0m\u001b[0;34m(\u001b[0m\u001b[0;34m*\u001b[0m\u001b[0margs\u001b[0m\u001b[0;34m,\u001b[0m \u001b[0;34m**\u001b[0m\u001b[0mkwds\u001b[0m\u001b[0;34m)\u001b[0m\u001b[0;34m\u001b[0m\u001b[0;34m\u001b[0m\u001b[0m\n\u001b[0m\u001b[1;32m    886\u001b[0m \u001b[0;34m\u001b[0m\u001b[0m\n\u001b[1;32m    887\u001b[0m       \u001b[0mnew_tracing_count\u001b[0m \u001b[0;34m=\u001b[0m \u001b[0mself\u001b[0m\u001b[0;34m.\u001b[0m\u001b[0mexperimental_get_tracing_count\u001b[0m\u001b[0;34m(\u001b[0m\u001b[0;34m)\u001b[0m\u001b[0;34m\u001b[0m\u001b[0;34m\u001b[0m\u001b[0m\n",
      "\u001b[0;32m~/Programming/Python/ArithTrainExperiment/ArithTrainExperiment_env/lib/python3.6/site-packages/tensorflow/python/eager/def_function.py\u001b[0m in \u001b[0;36m_call\u001b[0;34m(self, *args, **kwds)\u001b[0m\n\u001b[1;32m    915\u001b[0m       \u001b[0;31m# In this case we have created variables on the first call, so we run the\u001b[0m\u001b[0;34m\u001b[0m\u001b[0;34m\u001b[0m\u001b[0;34m\u001b[0m\u001b[0m\n\u001b[1;32m    916\u001b[0m       \u001b[0;31m# defunned version which is guaranteed to never create variables.\u001b[0m\u001b[0;34m\u001b[0m\u001b[0;34m\u001b[0m\u001b[0;34m\u001b[0m\u001b[0m\n\u001b[0;32m--> 917\u001b[0;31m       \u001b[0;32mreturn\u001b[0m \u001b[0mself\u001b[0m\u001b[0;34m.\u001b[0m\u001b[0m_stateless_fn\u001b[0m\u001b[0;34m(\u001b[0m\u001b[0;34m*\u001b[0m\u001b[0margs\u001b[0m\u001b[0;34m,\u001b[0m \u001b[0;34m**\u001b[0m\u001b[0mkwds\u001b[0m\u001b[0;34m)\u001b[0m  \u001b[0;31m# pylint: disable=not-callable\u001b[0m\u001b[0;34m\u001b[0m\u001b[0;34m\u001b[0m\u001b[0m\n\u001b[0m\u001b[1;32m    918\u001b[0m     \u001b[0;32melif\u001b[0m \u001b[0mself\u001b[0m\u001b[0;34m.\u001b[0m\u001b[0m_stateful_fn\u001b[0m \u001b[0;32mis\u001b[0m \u001b[0;32mnot\u001b[0m \u001b[0;32mNone\u001b[0m\u001b[0;34m:\u001b[0m\u001b[0;34m\u001b[0m\u001b[0;34m\u001b[0m\u001b[0m\n\u001b[1;32m    919\u001b[0m       \u001b[0;31m# Release the lock early so that multiple threads can perform the call\u001b[0m\u001b[0;34m\u001b[0m\u001b[0;34m\u001b[0m\u001b[0;34m\u001b[0m\u001b[0m\n",
      "\u001b[0;32m~/Programming/Python/ArithTrainExperiment/ArithTrainExperiment_env/lib/python3.6/site-packages/tensorflow/python/eager/function.py\u001b[0m in \u001b[0;36m__call__\u001b[0;34m(self, *args, **kwargs)\u001b[0m\n\u001b[1;32m   3038\u001b[0m        filtered_flat_args) = self._maybe_define_function(args, kwargs)\n\u001b[1;32m   3039\u001b[0m     return graph_function._call_flat(\n\u001b[0;32m-> 3040\u001b[0;31m         filtered_flat_args, captured_inputs=graph_function.captured_inputs)  # pylint: disable=protected-access\n\u001b[0m\u001b[1;32m   3041\u001b[0m \u001b[0;34m\u001b[0m\u001b[0m\n\u001b[1;32m   3042\u001b[0m   \u001b[0;34m@\u001b[0m\u001b[0mproperty\u001b[0m\u001b[0;34m\u001b[0m\u001b[0;34m\u001b[0m\u001b[0m\n",
      "\u001b[0;32m~/Programming/Python/ArithTrainExperiment/ArithTrainExperiment_env/lib/python3.6/site-packages/tensorflow/python/eager/function.py\u001b[0m in \u001b[0;36m_call_flat\u001b[0;34m(self, args, captured_inputs, cancellation_manager)\u001b[0m\n\u001b[1;32m   1962\u001b[0m       \u001b[0;31m# No tape is watching; skip to running the function.\u001b[0m\u001b[0;34m\u001b[0m\u001b[0;34m\u001b[0m\u001b[0;34m\u001b[0m\u001b[0m\n\u001b[1;32m   1963\u001b[0m       return self._build_call_outputs(self._inference_function.call(\n\u001b[0;32m-> 1964\u001b[0;31m           ctx, args, cancellation_manager=cancellation_manager))\n\u001b[0m\u001b[1;32m   1965\u001b[0m     forward_backward = self._select_forward_and_backward_functions(\n\u001b[1;32m   1966\u001b[0m         \u001b[0margs\u001b[0m\u001b[0;34m,\u001b[0m\u001b[0;34m\u001b[0m\u001b[0;34m\u001b[0m\u001b[0m\n",
      "\u001b[0;32m~/Programming/Python/ArithTrainExperiment/ArithTrainExperiment_env/lib/python3.6/site-packages/tensorflow/python/eager/function.py\u001b[0m in \u001b[0;36mcall\u001b[0;34m(self, ctx, args, cancellation_manager)\u001b[0m\n\u001b[1;32m    594\u001b[0m               \u001b[0minputs\u001b[0m\u001b[0;34m=\u001b[0m\u001b[0margs\u001b[0m\u001b[0;34m,\u001b[0m\u001b[0;34m\u001b[0m\u001b[0;34m\u001b[0m\u001b[0m\n\u001b[1;32m    595\u001b[0m               \u001b[0mattrs\u001b[0m\u001b[0;34m=\u001b[0m\u001b[0mattrs\u001b[0m\u001b[0;34m,\u001b[0m\u001b[0;34m\u001b[0m\u001b[0;34m\u001b[0m\u001b[0m\n\u001b[0;32m--> 596\u001b[0;31m               ctx=ctx)\n\u001b[0m\u001b[1;32m    597\u001b[0m         \u001b[0;32melse\u001b[0m\u001b[0;34m:\u001b[0m\u001b[0;34m\u001b[0m\u001b[0;34m\u001b[0m\u001b[0m\n\u001b[1;32m    598\u001b[0m           outputs = execute.execute_with_cancellation(\n",
      "\u001b[0;32m~/Programming/Python/ArithTrainExperiment/ArithTrainExperiment_env/lib/python3.6/site-packages/tensorflow/python/eager/execute.py\u001b[0m in \u001b[0;36mquick_execute\u001b[0;34m(op_name, num_outputs, inputs, attrs, ctx, name)\u001b[0m\n\u001b[1;32m     58\u001b[0m     \u001b[0mctx\u001b[0m\u001b[0;34m.\u001b[0m\u001b[0mensure_initialized\u001b[0m\u001b[0;34m(\u001b[0m\u001b[0;34m)\u001b[0m\u001b[0;34m\u001b[0m\u001b[0;34m\u001b[0m\u001b[0m\n\u001b[1;32m     59\u001b[0m     tensors = pywrap_tfe.TFE_Py_Execute(ctx._handle, device_name, op_name,\n\u001b[0;32m---> 60\u001b[0;31m                                         inputs, attrs, num_outputs)\n\u001b[0m\u001b[1;32m     61\u001b[0m   \u001b[0;32mexcept\u001b[0m \u001b[0mcore\u001b[0m\u001b[0;34m.\u001b[0m\u001b[0m_NotOkStatusException\u001b[0m \u001b[0;32mas\u001b[0m \u001b[0me\u001b[0m\u001b[0;34m:\u001b[0m\u001b[0;34m\u001b[0m\u001b[0;34m\u001b[0m\u001b[0m\n\u001b[1;32m     62\u001b[0m     \u001b[0;32mif\u001b[0m \u001b[0mname\u001b[0m \u001b[0;32mis\u001b[0m \u001b[0;32mnot\u001b[0m \u001b[0;32mNone\u001b[0m\u001b[0;34m:\u001b[0m\u001b[0;34m\u001b[0m\u001b[0;34m\u001b[0m\u001b[0m\n",
      "\u001b[0;31mKeyboardInterrupt\u001b[0m: "
     ]
    }
   ],
   "source": [
    "log_dir = \"ptolemynet_logs/fit/\" + datetime.datetime.now().strftime(\"%Y%m%d-%H%M%S\")\n",
    "tensorboard_callback = tf.keras.callbacks.TensorBoard(log_dir=log_dir, histogram_freq=1)\n",
    "l1.is_bootstrapping.assign(True)\n",
    "\n",
    "tf.config.experimental.reset_memory_stats('GPU:0')\n",
    "history = reconstruction_model.fit([X], Y, epochs=4, batch_size=32) #, callbacks=[tensorboard_callback])\n",
    "tf.config.experimental.get_memory_info('GPU:0')"
   ]
  },
  {
   "cell_type": "code",
   "execution_count": 998,
   "id": "ad35a256",
   "metadata": {
    "scrolled": true
   },
   "outputs": [
    {
     "name": "stdout",
     "output_type": "stream",
     "text": [
      "Epoch 1/6\n",
      "938/938 [==============================] - 200s 214ms/step - loss: 0.1057 - cosine_similarity: 0.9366 - permanence_loss: 2.5420 - full_reconstruction_error: 0.0550 - reconstruction_error: 0.0634 - mean_l1_activity: 0.2558 - position_reconstruction_error: 0.0464 - upstream_scale_loss: 0.9165 - reconstruction_scale_loss: 0.0281\n",
      "Epoch 2/6\n",
      "938/938 [==============================] - 201s 215ms/step - loss: 0.0949 - cosine_similarity: 0.9447 - permanence_loss: 2.3908 - full_reconstruction_error: 0.0712 - reconstruction_error: 0.0553 - mean_l1_activity: 0.1594 - position_reconstruction_error: 0.0646 - upstream_scale_loss: 0.9474 - reconstruction_scale_loss: 0.0234\n",
      "Epoch 3/6\n",
      "938/938 [==============================] - 201s 215ms/step - loss: 0.0873 - cosine_similarity: 0.9505 - permanence_loss: 2.2647 - full_reconstruction_error: 0.0819 - reconstruction_error: 0.0495 - mean_l1_activity: 0.1311 - position_reconstruction_error: 0.0765 - upstream_scale_loss: 0.9566 - reconstruction_scale_loss: 0.0198\n",
      "Epoch 4/6\n",
      "938/938 [==============================] - 201s 215ms/step - loss: 0.0813 - cosine_similarity: 0.9549 - permanence_loss: 2.1489 - full_reconstruction_error: 0.0868 - reconstruction_error: 0.0451 - mean_l1_activity: 0.1147 - position_reconstruction_error: 0.0904 - upstream_scale_loss: 0.9616 - reconstruction_scale_loss: 0.0178\n",
      "Epoch 5/6\n",
      "938/938 [==============================] - 202s 215ms/step - loss: 0.0770 - cosine_similarity: 0.9580 - permanence_loss: 2.0652 - full_reconstruction_error: 0.0922 - reconstruction_error: 0.0420 - mean_l1_activity: 0.1024 - position_reconstruction_error: 0.1128 - upstream_scale_loss: 0.9652 - reconstruction_scale_loss: 0.0157\n",
      "Epoch 6/6\n",
      "938/938 [==============================] - 202s 215ms/step - loss: 0.0745 - cosine_similarity: 0.9597 - permanence_loss: 2.0078 - full_reconstruction_error: 0.1084 - reconstruction_error: 0.0403 - mean_l1_activity: 0.0941 - position_reconstruction_error: 0.1353 - upstream_scale_loss: 0.9674 - reconstruction_scale_loss: 0.0144\n"
     ]
    }
   ],
   "source": [
    "l1.is_bootstrapping.assign(False)\n",
    "tf.keras.backend.set_value(reconstruction_model.optimizer.learning_rate, 0.002)\n",
    "history = reconstruction_model.fit([X], Y, epochs=6, batch_size=32) #, callbacks=[tensorboard_callback])"
   ]
  },
  {
   "cell_type": "code",
   "execution_count": null,
   "id": "3d9ce7ce",
   "metadata": {},
   "outputs": [],
   "source": [
    "reconstruction_model.save('ptolemy_model_saves/2021-11-18_PtolemyNet31_mnist_layer1')"
   ]
  },
  {
   "cell_type": "code",
   "execution_count": 997,
   "id": "2f2dd7cc",
   "metadata": {},
   "outputs": [
    {
     "name": "stdout",
     "output_type": "stream",
     "text": [
      "context sharpness [4.515914  4.4035926 4.083499  4.591174  4.4828105 4.293237  4.089463\n",
      " 3.9757698 4.4045725 4.4552307 4.064937  4.258491  6.1506724 6.6685567\n",
      " 5.4870796 5.255266  4.1909585 3.6945662 4.275864  4.2332654 4.3150387\n",
      " 4.190185  5.559449  4.377109  4.2142224 6.222899  4.2248516 4.3358455\n",
      " 4.4304543 4.0814915 4.40875   4.4548125]\n"
     ]
    }
   ],
   "source": [
    "print('context sharpness', l1.columns[0].context_aggregator.context_sharpness.numpy())"
   ]
  },
  {
   "cell_type": "code",
   "execution_count": null,
   "id": "9c396ffe",
   "metadata": {},
   "outputs": [],
   "source": [
    "%tensorboard --logdir ptolemynet_logs/fit\n",
    "#reconstruction_model.save(\"reconstruction_model/200_columns\" + datetime.datetime.now().strftime(\"%Y%m%d-%H%M%S\"))"
   ]
  },
  {
   "cell_type": "code",
   "execution_count": 995,
   "id": "d678f7d6",
   "metadata": {},
   "outputs": [
    {
     "data": {
      "image/png": "[encoded data removed]",
      "text/plain": [
       "<PIL.Image.Image image mode=L size=28x28 at 0x7FC88CF117B8>"
      ]
     },
     "execution_count": 995,
     "metadata": {},
     "output_type": "execute_result"
    }
   ],
   "source": [
    "x = X[1]\n",
    "x_img = vecs_to_img(x[0])\n",
    "tf.keras.utils.array_to_img(x_img, scale=False)"
   ]
  },
  {
   "cell_type": "code",
   "execution_count": 996,
   "id": "4654b3ed",
   "metadata": {
    "scrolled": false
   },
   "outputs": [
    {
     "name": "stdout",
     "output_type": "stream",
     "text": [
      "-1.0000001\n",
      "0.9999759\n",
      "0.0\n",
      "254.43741\n"
     ]
    },
    {
     "data": {
      "image/png": "[encoded data removed]",
      "text/plain": [
       "<PIL.Image.Image image mode=L size=28x28 at 0x7FC8B6D41B70>"
      ]
     },
     "execution_count": 996,
     "metadata": {},
     "output_type": "execute_result"
    }
   ],
   "source": [
    "#y = reconstruction_model.predict(tf.reshape(x, (1, 2, 2500, 2)))\n",
    "y = reconstruction_model.predict(tf.reshape(x, (1, 2, 28*28, 2)))\n",
    "print(tf.reduce_min(y[0][0]).numpy())\n",
    "print(tf.reduce_max(y[0][0]).numpy())\n",
    "y_img = vecs_to_img(tf.squeeze(y[0][0]).numpy())\n",
    "print(tf.reduce_min(y_img).numpy())\n",
    "print(tf.reduce_max(y_img).numpy())\n",
    "tf.keras.utils.array_to_img(y_img, scale=False)"
   ]
  },
  {
   "cell_type": "code",
   "execution_count": 844,
   "id": "31b7bcc3",
   "metadata": {},
   "outputs": [
    {
     "name": "stdout",
     "output_type": "stream",
     "text": [
      "shape (16, 16)\n",
      "min -0.6276409\n",
      "max 0.57942635\n",
      "norm 4.0\n",
      "max of diff 0.27929002\n",
      "norm of diff 1.3339691\n"
     ]
    },
    {
     "data": {
      "text/plain": [
       "<matplotlib.image.AxesImage at 0x7fc7a0549048>"
      ]
     },
     "execution_count": 844,
     "metadata": {},
     "output_type": "execute_result"
    },
    {
     "data": {
      "image/png": "[encoded data removed]",
      "text/plain": [
       "<Figure size 288x288 with 1 Axes>"
      ]
     },
     "metadata": {
      "needs_background": "light"
     },
     "output_type": "display_data"
    },
    {
     "data": {
      "image/png": "[encoded data removed]",
      "text/plain": [
       "<Figure size 288x288 with 1 Axes>"
      ]
     },
     "metadata": {
      "needs_background": "light"
     },
     "output_type": "display_data"
    }
   ],
   "source": [
    "us = reconstruction_model.get_layer(index=1)(x.reshape((1, 2, 2500, 2)), training=False)[0]\n",
    "# us = reconstruction_model.get_layer(index=1)(x.reshape((1, 2, 28*28, 2)), training=False)[0]\n",
    "us = tf.cast(us, tf.float32)\n",
    "one_us = us[0]\n",
    "usd = one_us[0] - one_us[1]\n",
    "one_us = one_us[0]\n",
    "print('shape', one_us.shape)\n",
    "print('min', tf.reduce_min(one_us).numpy())\n",
    "print('max', tf.reduce_max(one_us).numpy())\n",
    "print('norm', tf.norm(one_us).numpy())\n",
    "print('max of diff', tf.reduce_max(tf.abs(usd)).numpy())\n",
    "print('norm of diff', tf.norm(usd).numpy())\n",
    "plt.matshow(one_us.numpy().T)\n",
    "plt.matshow(usd.numpy().T)"
   ]
  },
  {
   "cell_type": "code",
   "execution_count": 889,
   "id": "661ccda4",
   "metadata": {},
   "outputs": [
    {
     "name": "stdout",
     "output_type": "stream",
     "text": [
      "norm of diff 4.4509697\n",
      "(1, 2, 16, 16)\n",
      "[ 0.35972115  0.1347226   0.01379196  0.07662514  0.03503884 -0.22209014\n",
      "  0.04756711  0.40138662 -0.20620035 -0.29124877 -0.15089206 -0.02192007\n",
      "  0.20096913 -0.06490839 -0.06307247  0.05250341]\n",
      "(1, 2, 2500, 2)\n"
     ]
    },
    {
     "data": {
      "image/png": "[encoded data removed]",
      "text/plain": [
       "<PIL.Image.Image image mode=L size=50x50 at 0x7FC8400A6FD0>"
      ]
     },
     "execution_count": 889,
     "metadata": {},
     "output_type": "execute_result"
    }
   ],
   "source": [
    "# us1 = reconstruction_model.get_layer(index=1)(tf.reshape(X[0], (1, 2, 28*28, 2)), training=False)[0]\n",
    "# us2 = reconstruction_model.get_layer(index=1)(tf.reshape(X[1], (1, 2, 28*28, 2)), training=False)[0]\n",
    "us1 = reconstruction_model.get_layer(index=1)(tf.reshape(X[1], (1, 2, 2500, 2)), training=False)[0]\n",
    "us2 = reconstruction_model.get_layer(index=1)(tf.reshape(X[5], (1, 2, 2500, 2)), training=False)[0]\n",
    "us1 = tf.cast(us1, tf.float32)\n",
    "us2 = tf.cast(us2, tf.float32)\n",
    "print('norm of diff', tf.norm(us2-us1).numpy())\n",
    "us_mod = (us1 + 0.5 * (us2 - us1)).numpy()\n",
    "print(us_mod.shape)\n",
    "print(us_mod[0][0][0])\n",
    "#us_mod[0][0][1] = np.zeros((16))\n",
    "#us_mod[0][0][0][15] = 0.2\n",
    "r = l1.reconstruct(tf.cast(us_mod, tf.float32))\n",
    "print(r.shape)\n",
    "r_one = r[0][0]\n",
    "r_img = vecs_to_img(tf.squeeze(r_one).numpy())\n",
    "tf.keras.utils.array_to_img(r_img, scale=False)"
   ]
  },
  {
   "cell_type": "code",
   "execution_count": 980,
   "id": "fbf977be",
   "metadata": {},
   "outputs": [
    {
     "name": "stdout",
     "output_type": "stream",
     "text": [
      "-0.6036593\n",
      "0.7033222\n"
     ]
    },
    {
     "data": {
      "image/png": "[encoded data removed]",
      "text/plain": [
       "<Figure size 288x288 with 1 Axes>"
      ]
     },
     "metadata": {
      "needs_background": "light"
     },
     "output_type": "display_data"
    },
    {
     "data": {
      "image/png": "[encoded data removed]",
      "text/plain": [
       "<Figure size 288x288 with 1 Axes>"
      ]
     },
     "metadata": {
      "needs_background": "light"
     },
     "output_type": "display_data"
    },
    {
     "data": {
      "image/png": "[encoded data removed]",
      "text/plain": [
       "<Figure size 288x288 with 1 Axes>"
      ]
     },
     "metadata": {
      "needs_background": "light"
     },
     "output_type": "display_data"
    },
    {
     "data": {
      "image/png": "[encoded data removed]",
      "text/plain": [
       "<Figure size 288x288 with 1 Axes>"
      ]
     },
     "metadata": {
      "needs_background": "light"
     },
     "output_type": "display_data"
    },
    {
     "data": {
      "image/png": "[encoded data removed]",
      "text/plain": [
       "<Figure size 288x288 with 1 Axes>"
      ]
     },
     "metadata": {
      "needs_background": "light"
     },
     "output_type": "display_data"
    },
    {
     "data": {
      "image/png": "[encoded data removed]",
      "text/plain": [
       "<Figure size 288x288 with 1 Axes>"
      ]
     },
     "metadata": {
      "needs_background": "light"
     },
     "output_type": "display_data"
    },
    {
     "data": {
      "image/png": "[encoded data removed]",
      "text/plain": [
       "<Figure size 288x288 with 1 Axes>"
      ]
     },
     "metadata": {
      "needs_background": "light"
     },
     "output_type": "display_data"
    },
    {
     "data": {
      "image/png": "[encoded data removed]",
      "text/plain": [
       "<Figure size 288x288 with 1 Axes>"
      ]
     },
     "metadata": {
      "needs_background": "light"
     },
     "output_type": "display_data"
    }
   ],
   "source": [
    "le = l1.columns[0].context_aggregator.downstream_positions.numpy()\n",
    "#le = le.reshape((50,50,-1))\n",
    "le = le.reshape((28,28,-1))\n",
    "print(tf.reduce_min(le[:, :, 0]).numpy())\n",
    "print(tf.reduce_max(le[:, :, 0]).numpy())\n",
    "for d in range(0, le.shape[2]):\n",
    "    plt.matshow(le[:, :, d])"
   ]
  },
  {
   "cell_type": "markdown",
   "id": "a5146334",
   "metadata": {},
   "source": [
    "# Layer 2"
   ]
  },
  {
   "cell_type": "code",
   "execution_count": 999,
   "id": "3fc1bd21",
   "metadata": {
    "scrolled": true
   },
   "outputs": [],
   "source": [
    "X_2 = upstream_state_model.predict(X, batch_size=64)\n",
    "Y_2 = X_2"
   ]
  },
  {
   "cell_type": "code",
   "execution_count": 1161,
   "id": "61692468",
   "metadata": {},
   "outputs": [
    {
     "name": "stdout",
     "output_type": "stream",
     "text": [
      "Model: \"model_146\"\n",
      "_________________________________________________________________\n",
      "Layer (type)                 Output Shape              Param #   \n",
      "=================================================================\n",
      "input_86 (InputLayer)        [(None, 2, 16, 16)]       0         \n",
      "_________________________________________________________________\n",
      "ptolemy_layer_78 (PtolemyLay [(None, 2, 1, 10), (None, 822203    \n",
      "=================================================================\n",
      "Total params: 822,203\n",
      "Trainable params: 821,946\n",
      "Non-trainable params: 257\n",
      "_________________________________________________________________\n"
     ]
    }
   ],
   "source": [
    "inp_2 = Input(shape=(2, 16, 16))\n",
    "l2 = PtolemyLayer(\n",
    "    num_channels=1,\n",
    "    num_instances_per_channel=1,\n",
    "    context_fan_in=16,\n",
    "    upstream_dim=10, # TODO! Was 32\n",
    "    position_dim=4,\n",
    "    stride=1,\n",
    "    permanence_loss_rho=0.1, # TODO! Was 0.01,\n",
    "    initial_sharpness=1.0,\n",
    "    noise_rate=0.1,\n",
    "    train_context=True,\n",
    "    bypass_rate=0.75,\n",
    ")\n",
    "\n",
    "# inp_2 = Input(shape=(2, 16, 16))\n",
    "# l2 = PtolemyLayer(\n",
    "#     num_channels=1,\n",
    "#     num_instances_per_channel=1,\n",
    "#     context_fan_in=16,\n",
    "#     upstream_dim=32,\n",
    "#     position_dim=4,\n",
    "#     stride=1,\n",
    "#     permanence_loss_rho=0.01,\n",
    "#     initial_sharpness=1.0,\n",
    "#     noise_rate=0.1,\n",
    "#     train_context=True,\n",
    "#     bypass_rate=0.75,\n",
    "# )\n",
    "\n",
    "\n",
    "upstream_state_2, downstream_reconstruction_2 = l2(inp_2)\n",
    "\n",
    "reconstruction_model_2 = tf.keras.models.Model(inputs=[inp_2], outputs=downstream_reconstruction_2)\n",
    "upstream_state_model_2 = tf.keras.models.Model(inputs=[inp_2], outputs=upstream_state_2)\n",
    "\n",
    "optimizer_2 = tf.keras.optimizers.Adam(\n",
    "    learning_rate = 0.002,\n",
    ")\n",
    "optimizer_2 = tf.keras.mixed_precision.LossScaleOptimizer(optimizer_2)\n",
    "reconstruction_model_2.compile(\n",
    "    loss = zero_loss, #'mean_squared_error',\n",
    "    optimizer = optimizer_2,\n",
    "    metrics = ['cosine_similarity'],\n",
    ")\n",
    "reconstruction_model_2.summary()"
   ]
  },
  {
   "cell_type": "code",
   "execution_count": 1162,
   "id": "21aa5c0a",
   "metadata": {
    "scrolled": true
   },
   "outputs": [
    {
     "name": "stdout",
     "output_type": "stream",
     "text": [
      "Epoch 1/32\n",
      "235/235 [==============================] - 18s 49ms/step - loss: 1.0752 - cosine_similarity: 0.6559 - permanence_loss: 1.3953 - full_reconstruction_error: 0.6397 - reconstruction_error: 0.3437 - mean_l1_activity: 0.8352 - position_reconstruction_error: 0.0180 - upstream_scale_loss: 0.6976 - reconstruction_scale_loss: 3.6065e-06\n",
      "Epoch 2/32\n",
      "235/235 [==============================] - 10s 44ms/step - loss: 0.7984 - cosine_similarity: 0.8009 - permanence_loss: 1.5138 - full_reconstruction_error: 0.5389 - reconstruction_error: 0.1991 - mean_l1_activity: 0.3301 - position_reconstruction_error: 0.0087 - upstream_scale_loss: 0.8652 - reconstruction_scale_loss: 6.2968e-09\n",
      "Epoch 3/32\n",
      "235/235 [==============================] - 10s 44ms/step - loss: 0.4789 - cosine_similarity: 0.8256 - permanence_loss: 1.4582 - full_reconstruction_error: 0.2567 - reconstruction_error: 0.1744 - mean_l1_activity: 0.4400 - position_reconstruction_error: 0.0056 - upstream_scale_loss: 0.8173 - reconstruction_scale_loss: 3.1774e-06\n",
      "Epoch 4/32\n",
      "235/235 [==============================] - 11s 45ms/step - loss: 0.2578 - cosine_similarity: 0.8397 - permanence_loss: 1.4217 - full_reconstruction_error: 0.0572 - reconstruction_error: 0.1602 - mean_l1_activity: 0.4557 - position_reconstruction_error: 0.0054 - upstream_scale_loss: 0.8077 - reconstruction_scale_loss: 3.6495e-04\n",
      "Epoch 5/32\n",
      "235/235 [==============================] - 11s 45ms/step - loss: 0.1954 - cosine_similarity: 0.8534 - permanence_loss: 1.2391 - full_reconstruction_error: 0.0140 - reconstruction_error: 0.1466 - mean_l1_activity: 0.3900 - position_reconstruction_error: 0.0038 - upstream_scale_loss: 0.8353 - reconstruction_scale_loss: 0.0021\n",
      "Epoch 6/32\n",
      "235/235 [==============================] - 11s 45ms/step - loss: 0.1662 - cosine_similarity: 0.8749 - permanence_loss: 1.1736 - full_reconstruction_error: 0.0101 - reconstruction_error: 0.1251 - mean_l1_activity: 0.3440 - position_reconstruction_error: 0.0019 - upstream_scale_loss: 0.8552 - reconstruction_scale_loss: 0.0048\n",
      "Epoch 7/32\n",
      "235/235 [==============================] - 10s 44ms/step - loss: 0.1549 - cosine_similarity: 0.8822 - permanence_loss: 1.1516 - full_reconstruction_error: 0.0086 - reconstruction_error: 0.1178 - mean_l1_activity: 0.2987 - position_reconstruction_error: 0.0016 - upstream_scale_loss: 0.8742 - reconstruction_scale_loss: 0.0078\n",
      "Epoch 8/32\n",
      "235/235 [==============================] - 11s 45ms/step - loss: 0.1472 - cosine_similarity: 0.8870 - permanence_loss: 1.1179 - full_reconstruction_error: 0.0077 - reconstruction_error: 0.1130 - mean_l1_activity: 0.2626 - position_reconstruction_error: 0.0014 - upstream_scale_loss: 0.8896 - reconstruction_scale_loss: 0.0104\n",
      "Epoch 9/32\n",
      "235/235 [==============================] - 11s 45ms/step - loss: 0.1398 - cosine_similarity: 0.8925 - permanence_loss: 1.1031 - full_reconstruction_error: 0.0071 - reconstruction_error: 0.1075 - mean_l1_activity: 0.2385 - position_reconstruction_error: 0.0014 - upstream_scale_loss: 0.8999 - reconstruction_scale_loss: 0.0122\n",
      "Epoch 10/32\n",
      "235/235 [==============================] - 10s 45ms/step - loss: 0.1340 - cosine_similarity: 0.8970 - permanence_loss: 1.0857 - full_reconstruction_error: 0.0068 - reconstruction_error: 0.1030 - mean_l1_activity: 0.2243 - position_reconstruction_error: 0.0013 - upstream_scale_loss: 0.9060 - reconstruction_scale_loss: 0.0144\n",
      "Epoch 11/32\n",
      "235/235 [==============================] - 10s 44ms/step - loss: 0.1284 - cosine_similarity: 0.9011 - permanence_loss: 1.0869 - full_reconstruction_error: 0.0062 - reconstruction_error: 0.0989 - mean_l1_activity: 0.2097 - position_reconstruction_error: 0.0012 - upstream_scale_loss: 0.9123 - reconstruction_scale_loss: 0.0150\n",
      "Epoch 12/32\n",
      "235/235 [==============================] - 10s 45ms/step - loss: 0.1238 - cosine_similarity: 0.9047 - permanence_loss: 1.0916 - full_reconstruction_error: 0.0058 - reconstruction_error: 0.0953 - mean_l1_activity: 0.1970 - position_reconstruction_error: 0.0012 - upstream_scale_loss: 0.9176 - reconstruction_scale_loss: 0.0155\n",
      "Epoch 13/32\n",
      "235/235 [==============================] - 11s 45ms/step - loss: 0.1159 - cosine_similarity: 0.9120 - permanence_loss: 1.0923 - full_reconstruction_error: 0.0057 - reconstruction_error: 0.0880 - mean_l1_activity: 0.1877 - position_reconstruction_error: 0.0012 - upstream_scale_loss: 0.9217 - reconstruction_scale_loss: 0.0170\n",
      "Epoch 14/32\n",
      "235/235 [==============================] - 11s 45ms/step - loss: 0.1109 - cosine_similarity: 0.9162 - permanence_loss: 1.0924 - full_reconstruction_error: 0.0054 - reconstruction_error: 0.0838 - mean_l1_activity: 0.1759 - position_reconstruction_error: 0.0010 - upstream_scale_loss: 0.9267 - reconstruction_scale_loss: 0.0173\n",
      "Epoch 15/32\n",
      "235/235 [==============================] - 11s 45ms/step - loss: 0.1084 - cosine_similarity: 0.9182 - permanence_loss: 1.0937 - full_reconstruction_error: 0.0052 - reconstruction_error: 0.0818 - mean_l1_activity: 0.1665 - position_reconstruction_error: 0.0010 - upstream_scale_loss: 0.9308 - reconstruction_scale_loss: 0.0179\n",
      "Epoch 16/32\n",
      "235/235 [==============================] - 11s 45ms/step - loss: 0.1060 - cosine_similarity: 0.9200 - permanence_loss: 1.0945 - full_reconstruction_error: 0.0050 - reconstruction_error: 0.0800 - mean_l1_activity: 0.1585 - position_reconstruction_error: 0.0010 - upstream_scale_loss: 0.9342 - reconstruction_scale_loss: 0.0181\n",
      "Epoch 17/32\n",
      "235/235 [==============================] - 11s 45ms/step - loss: 0.1048 - cosine_similarity: 0.9209 - permanence_loss: 1.0955 - full_reconstruction_error: 0.0049 - reconstruction_error: 0.0791 - mean_l1_activity: 0.1511 - position_reconstruction_error: 9.9592e-04 - upstream_scale_loss: 0.9373 - reconstruction_scale_loss: 0.0183\n",
      "Epoch 18/32\n",
      "235/235 [==============================] - 11s 45ms/step - loss: 0.1034 - cosine_similarity: 0.9219 - permanence_loss: 1.0963 - full_reconstruction_error: 0.0048 - reconstruction_error: 0.0781 - mean_l1_activity: 0.1437 - position_reconstruction_error: 9.7517e-04 - upstream_scale_loss: 0.9404 - reconstruction_scale_loss: 0.0181\n",
      "Epoch 19/32\n",
      "235/235 [==============================] - 11s 45ms/step - loss: 0.1023 - cosine_similarity: 0.9227 - permanence_loss: 1.0967 - full_reconstruction_error: 0.0047 - reconstruction_error: 0.0773 - mean_l1_activity: 0.1374 - position_reconstruction_error: 9.5624e-04 - upstream_scale_loss: 0.9431 - reconstruction_scale_loss: 0.0180\n",
      "Epoch 20/32\n",
      "235/235 [==============================] - 11s 45ms/step - loss: 0.1018 - cosine_similarity: 0.9229 - permanence_loss: 1.0970 - full_reconstruction_error: 0.0045 - reconstruction_error: 0.0771 - mean_l1_activity: 0.1339 - position_reconstruction_error: 9.4904e-04 - upstream_scale_loss: 0.9446 - reconstruction_scale_loss: 0.0178\n",
      "Epoch 21/32\n",
      "235/235 [==============================] - 11s 45ms/step - loss: 0.1010 - cosine_similarity: 0.9236 - permanence_loss: 1.0974 - full_reconstruction_error: 0.0045 - reconstruction_error: 0.0764 - mean_l1_activity: 0.1314 - position_reconstruction_error: 9.2116e-04 - upstream_scale_loss: 0.9456 - reconstruction_scale_loss: 0.0176\n",
      "Epoch 22/32\n",
      "235/235 [==============================] - 11s 45ms/step - loss: 0.1003 - cosine_similarity: 0.9240 - permanence_loss: 1.0976 - full_reconstruction_error: 0.0044 - reconstruction_error: 0.0760 - mean_l1_activity: 0.1255 - position_reconstruction_error: 9.0986e-04 - upstream_scale_loss: 0.9481 - reconstruction_scale_loss: 0.0171\n",
      "Epoch 23/32\n",
      "235/235 [==============================] - 11s 45ms/step - loss: 0.0997 - cosine_similarity: 0.9245 - permanence_loss: 1.0970 - full_reconstruction_error: 0.0044 - reconstruction_error: 0.0755 - mean_l1_activity: 0.1225 - position_reconstruction_error: 9.2492e-04 - upstream_scale_loss: 0.9494 - reconstruction_scale_loss: 0.0171\n",
      "Epoch 24/32\n",
      "235/235 [==============================] - 11s 45ms/step - loss: 0.0994 - cosine_similarity: 0.9247 - permanence_loss: 1.0970 - full_reconstruction_error: 0.0044 - reconstruction_error: 0.0753 - mean_l1_activity: 0.1212 - position_reconstruction_error: 9.0690e-04 - upstream_scale_loss: 0.9499 - reconstruction_scale_loss: 0.0170\n",
      "Epoch 25/32\n",
      "235/235 [==============================] - 11s 45ms/step - loss: 0.0989 - cosine_similarity: 0.9251 - permanence_loss: 1.0976 - full_reconstruction_error: 0.0043 - reconstruction_error: 0.0749 - mean_l1_activity: 0.1187 - position_reconstruction_error: 9.1372e-04 - upstream_scale_loss: 0.9510 - reconstruction_scale_loss: 0.0169\n",
      "Epoch 26/32\n",
      "235/235 [==============================] - 11s 45ms/step - loss: 0.0989 - cosine_similarity: 0.9251 - permanence_loss: 1.0971 - full_reconstruction_error: 0.0043 - reconstruction_error: 0.0749 - mean_l1_activity: 0.1187 - position_reconstruction_error: 9.2603e-04 - upstream_scale_loss: 0.9510 - reconstruction_scale_loss: 0.0169\n",
      "Epoch 27/32\n",
      "235/235 [==============================] - 11s 45ms/step - loss: 0.0978 - cosine_similarity: 0.9258 - permanence_loss: 1.0969 - full_reconstruction_error: 0.0041 - reconstruction_error: 0.0742 - mean_l1_activity: 0.1127 - position_reconstruction_error: 8.7884e-04 - upstream_scale_loss: 0.9535 - reconstruction_scale_loss: 0.0166\n",
      "Epoch 28/32\n",
      "235/235 [==============================] - 11s 45ms/step - loss: 0.0964 - cosine_similarity: 0.9272 - permanence_loss: 1.0987 - full_reconstruction_error: 0.0041 - reconstruction_error: 0.0728 - mean_l1_activity: 0.1113 - position_reconstruction_error: 9.0490e-04 - upstream_scale_loss: 0.9541 - reconstruction_scale_loss: 0.0175\n",
      "Epoch 29/32\n",
      "235/235 [==============================] - 11s 45ms/step - loss: 0.0901 - cosine_similarity: 0.9336 - permanence_loss: 1.1139 - full_reconstruction_error: 0.0043 - reconstruction_error: 0.0664 - mean_l1_activity: 0.1120 - position_reconstruction_error: 8.7572e-04 - upstream_scale_loss: 0.9539 - reconstruction_scale_loss: 0.0195\n",
      "Epoch 30/32\n",
      "235/235 [==============================] - 10s 45ms/step - loss: 0.0886 - cosine_similarity: 0.9352 - permanence_loss: 1.1184 - full_reconstruction_error: 0.0042 - reconstruction_error: 0.0648 - mean_l1_activity: 0.1147 - position_reconstruction_error: 8.7560e-04 - upstream_scale_loss: 0.9528 - reconstruction_scale_loss: 0.0181\n",
      "Epoch 31/32\n",
      "235/235 [==============================] - 11s 45ms/step - loss: 0.0874 - cosine_similarity: 0.9362 - permanence_loss: 1.1199 - full_reconstruction_error: 0.0041 - reconstruction_error: 0.0638 - mean_l1_activity: 0.1129 - position_reconstruction_error: 8.3654e-04 - upstream_scale_loss: 0.9535 - reconstruction_scale_loss: 0.0174\n",
      "Epoch 32/32\n",
      "235/235 [==============================] - 11s 45ms/step - loss: 0.0867 - cosine_similarity: 0.9367 - permanence_loss: 1.1210 - full_reconstruction_error: 0.0039 - reconstruction_error: 0.0633 - mean_l1_activity: 0.1102 - position_reconstruction_error: 8.2161e-04 - upstream_scale_loss: 0.9546 - reconstruction_scale_loss: 0.0167\n"
     ]
    },
    {
     "data": {
      "text/plain": [
       "{'current': 172362752, 'peak': 726628352}"
      ]
     },
     "execution_count": 1162,
     "metadata": {},
     "output_type": "execute_result"
    }
   ],
   "source": [
    "log_dir = \"ptolemynet_logs/fit/\" + datetime.datetime.now().strftime(\"%Y%m%d-%H%M%S\")\n",
    "tensorboard_callback = tf.keras.callbacks.TensorBoard(log_dir=log_dir, histogram_freq=1)\n",
    "l2.is_bootstrapping.assign(True)\n",
    "\n",
    "#tf.keras.backend.set_value(reconstruction_model_2.optimizer.learning_rate, 0.001)\n",
    "\n",
    "tf.config.experimental.reset_memory_stats('GPU:0')\n",
    "history = reconstruction_model_2.fit([X_2], Y_2, epochs=32, batch_size=128) #, callbacks=[tensorboard_callback])\n",
    "tf.config.experimental.get_memory_info('GPU:0')"
   ]
  },
  {
   "cell_type": "code",
   "execution_count": 1163,
   "id": "d6b1d6a4",
   "metadata": {
    "scrolled": true
   },
   "outputs": [
    {
     "name": "stdout",
     "output_type": "stream",
     "text": [
      "Epoch 1/32\n",
      "235/235 [==============================] - 10s 45ms/step - loss: 0.1887 - cosine_similarity: 0.9373 - permanence_loss: 1.0730 - full_reconstruction_error: 0.1685 - reconstruction_error: 0.0627 - mean_l1_activity: 0.0939 - position_reconstruction_error: 0.0569 - upstream_scale_loss: 0.9609 - reconstruction_scale_loss: 0.0134\n",
      "Epoch 2/32\n",
      "235/235 [==============================] - 11s 45ms/step - loss: 0.1837 - cosine_similarity: 0.9345 - permanence_loss: 0.9991 - full_reconstruction_error: 0.5220 - reconstruction_error: 0.0655 - mean_l1_activity: 0.0833 - position_reconstruction_error: 0.2571 - upstream_scale_loss: 0.9639 - reconstruction_scale_loss: 0.0144\n",
      "Epoch 3/32\n",
      "235/235 [==============================] - 10s 45ms/step - loss: 0.1804 - cosine_similarity: 0.9328 - permanence_loss: 0.9507 - full_reconstruction_error: 0.6497 - reconstruction_error: 0.0672 - mean_l1_activity: 0.0806 - position_reconstruction_error: 0.4824 - upstream_scale_loss: 0.9634 - reconstruction_scale_loss: 0.0151\n",
      "Epoch 4/32\n",
      "235/235 [==============================] - 10s 45ms/step - loss: 0.1782 - cosine_similarity: 0.9320 - permanence_loss: 0.9230 - full_reconstruction_error: 0.6257 - reconstruction_error: 0.0680 - mean_l1_activity: 0.0793 - position_reconstruction_error: 0.6598 - upstream_scale_loss: 0.9631 - reconstruction_scale_loss: 0.0146\n",
      "Epoch 5/32\n",
      "235/235 [==============================] - 11s 45ms/step - loss: 0.1769 - cosine_similarity: 0.9317 - permanence_loss: 0.9079 - full_reconstruction_error: 0.5937 - reconstruction_error: 0.0683 - mean_l1_activity: 0.0787 - position_reconstruction_error: 0.7570 - upstream_scale_loss: 0.9631 - reconstruction_scale_loss: 0.0140\n",
      "Epoch 6/32\n",
      "235/235 [==============================] - 10s 45ms/step - loss: 0.1758 - cosine_similarity: 0.9316 - permanence_loss: 0.8977 - full_reconstruction_error: 0.5347 - reconstruction_error: 0.0683 - mean_l1_activity: 0.0785 - position_reconstruction_error: 0.8014 - upstream_scale_loss: 0.9626 - reconstruction_scale_loss: 0.0138\n",
      "Epoch 7/32\n",
      "235/235 [==============================] - 10s 44ms/step - loss: 0.1749 - cosine_similarity: 0.9318 - permanence_loss: 0.8913 - full_reconstruction_error: 0.5233 - reconstruction_error: 0.0682 - mean_l1_activity: 0.0766 - position_reconstruction_error: 0.8263 - upstream_scale_loss: 0.9635 - reconstruction_scale_loss: 0.0133\n",
      "Epoch 8/32\n",
      "235/235 [==============================] - 11s 45ms/step - loss: 0.1744 - cosine_similarity: 0.9317 - permanence_loss: 0.8860 - full_reconstruction_error: 0.4736 - reconstruction_error: 0.0683 - mean_l1_activity: 0.0761 - position_reconstruction_error: 0.8440 - upstream_scale_loss: 0.9637 - reconstruction_scale_loss: 0.0129\n",
      "Epoch 9/32\n",
      "235/235 [==============================] - 10s 44ms/step - loss: 0.1739 - cosine_similarity: 0.9317 - permanence_loss: 0.8823 - full_reconstruction_error: 0.4300 - reconstruction_error: 0.0683 - mean_l1_activity: 0.0760 - position_reconstruction_error: 0.8568 - upstream_scale_loss: 0.9634 - reconstruction_scale_loss: 0.0131\n",
      "Epoch 10/32\n",
      "235/235 [==============================] - 10s 45ms/step - loss: 0.1723 - cosine_similarity: 0.9328 - permanence_loss: 0.8776 - full_reconstruction_error: 0.4352 - reconstruction_error: 0.0672 - mean_l1_activity: 0.0758 - position_reconstruction_error: 0.8535 - upstream_scale_loss: 0.9633 - reconstruction_scale_loss: 0.0140\n",
      "Epoch 11/32\n",
      "235/235 [==============================] - 10s 45ms/step - loss: 0.1683 - cosine_similarity: 0.9367 - permanence_loss: 0.8767 - full_reconstruction_error: 0.4510 - reconstruction_error: 0.0633 - mean_l1_activity: 0.0749 - position_reconstruction_error: 0.8562 - upstream_scale_loss: 0.9637 - reconstruction_scale_loss: 0.0148\n",
      "Epoch 12/32\n",
      "235/235 [==============================] - 10s 45ms/step - loss: 0.1672 - cosine_similarity: 0.9379 - permanence_loss: 0.8776 - full_reconstruction_error: 0.4135 - reconstruction_error: 0.0621 - mean_l1_activity: 0.0759 - position_reconstruction_error: 0.8625 - upstream_scale_loss: 0.9629 - reconstruction_scale_loss: 0.0142\n",
      "Epoch 13/32\n",
      "235/235 [==============================] - 11s 45ms/step - loss: 0.1665 - cosine_similarity: 0.9384 - permanence_loss: 0.8762 - full_reconstruction_error: 0.3823 - reconstruction_error: 0.0616 - mean_l1_activity: 0.0754 - position_reconstruction_error: 0.8680 - upstream_scale_loss: 0.9631 - reconstruction_scale_loss: 0.0138\n",
      "Epoch 14/32\n",
      "235/235 [==============================] - 10s 45ms/step - loss: 0.1657 - cosine_similarity: 0.9391 - permanence_loss: 0.8745 - full_reconstruction_error: 0.3601 - reconstruction_error: 0.0609 - mean_l1_activity: 0.0761 - position_reconstruction_error: 0.8699 - upstream_scale_loss: 0.9625 - reconstruction_scale_loss: 0.0141\n",
      "Epoch 15/32\n",
      "235/235 [==============================] - 10s 45ms/step - loss: 0.1643 - cosine_similarity: 0.9401 - permanence_loss: 0.8709 - full_reconstruction_error: 0.3487 - reconstruction_error: 0.0599 - mean_l1_activity: 0.0751 - position_reconstruction_error: 0.8732 - upstream_scale_loss: 0.9629 - reconstruction_scale_loss: 0.0155\n",
      "Epoch 16/32\n",
      "235/235 [==============================] - 10s 45ms/step - loss: 0.1630 - cosine_similarity: 0.9415 - permanence_loss: 0.8718 - full_reconstruction_error: 0.3285 - reconstruction_error: 0.0585 - mean_l1_activity: 0.0744 - position_reconstruction_error: 0.8715 - upstream_scale_loss: 0.9632 - reconstruction_scale_loss: 0.0165\n",
      "Epoch 17/32\n",
      "235/235 [==============================] - 10s 44ms/step - loss: 0.1626 - cosine_similarity: 0.9421 - permanence_loss: 0.8740 - full_reconstruction_error: 0.3135 - reconstruction_error: 0.0579 - mean_l1_activity: 0.0748 - position_reconstruction_error: 0.8700 - upstream_scale_loss: 0.9629 - reconstruction_scale_loss: 0.0169\n",
      "Epoch 18/32\n",
      "235/235 [==============================] - 10s 44ms/step - loss: 0.1622 - cosine_similarity: 0.9426 - permanence_loss: 0.8751 - full_reconstruction_error: 0.3024 - reconstruction_error: 0.0574 - mean_l1_activity: 0.0756 - position_reconstruction_error: 0.8689 - upstream_scale_loss: 0.9624 - reconstruction_scale_loss: 0.0174\n",
      "Epoch 19/32\n",
      "235/235 [==============================] - 11s 45ms/step - loss: 0.1617 - cosine_similarity: 0.9431 - permanence_loss: 0.8748 - full_reconstruction_error: 0.3029 - reconstruction_error: 0.0569 - mean_l1_activity: 0.0753 - position_reconstruction_error: 0.8676 - upstream_scale_loss: 0.9624 - reconstruction_scale_loss: 0.0178\n",
      "Epoch 20/32\n",
      "235/235 [==============================] - 10s 45ms/step - loss: 0.1615 - cosine_similarity: 0.9433 - permanence_loss: 0.8752 - full_reconstruction_error: 0.3051 - reconstruction_error: 0.0567 - mean_l1_activity: 0.0751 - position_reconstruction_error: 0.8682 - upstream_scale_loss: 0.9627 - reconstruction_scale_loss: 0.0180\n",
      "Epoch 21/32\n",
      "235/235 [==============================] - 11s 45ms/step - loss: 0.1610 - cosine_similarity: 0.9437 - permanence_loss: 0.8751 - full_reconstruction_error: 0.3096 - reconstruction_error: 0.0563 - mean_l1_activity: 0.0745 - position_reconstruction_error: 0.8678 - upstream_scale_loss: 0.9626 - reconstruction_scale_loss: 0.0182\n",
      "Epoch 22/32\n",
      "235/235 [==============================] - 11s 45ms/step - loss: 0.1608 - cosine_similarity: 0.9439 - permanence_loss: 0.8750 - full_reconstruction_error: 0.3109 - reconstruction_error: 0.0561 - mean_l1_activity: 0.0746 - position_reconstruction_error: 0.8680 - upstream_scale_loss: 0.9626 - reconstruction_scale_loss: 0.0184\n",
      "Epoch 23/32\n",
      "235/235 [==============================] - 11s 45ms/step - loss: 0.1606 - cosine_similarity: 0.9441 - permanence_loss: 0.8749 - full_reconstruction_error: 0.3142 - reconstruction_error: 0.0559 - mean_l1_activity: 0.0739 - position_reconstruction_error: 0.8675 - upstream_scale_loss: 0.9628 - reconstruction_scale_loss: 0.0185\n",
      "Epoch 24/32\n",
      "235/235 [==============================] - 11s 45ms/step - loss: 0.1603 - cosine_similarity: 0.9444 - permanence_loss: 0.8743 - full_reconstruction_error: 0.3220 - reconstruction_error: 0.0556 - mean_l1_activity: 0.0738 - position_reconstruction_error: 0.8661 - upstream_scale_loss: 0.9629 - reconstruction_scale_loss: 0.0185\n",
      "Epoch 25/32\n",
      "235/235 [==============================] - 11s 45ms/step - loss: 0.1602 - cosine_similarity: 0.9445 - permanence_loss: 0.8746 - full_reconstruction_error: 0.3265 - reconstruction_error: 0.0555 - mean_l1_activity: 0.0738 - position_reconstruction_error: 0.8632 - upstream_scale_loss: 0.9629 - reconstruction_scale_loss: 0.0184\n",
      "Epoch 26/32\n",
      "235/235 [==============================] - 11s 45ms/step - loss: 0.1601 - cosine_similarity: 0.9445 - permanence_loss: 0.8748 - full_reconstruction_error: 0.3284 - reconstruction_error: 0.0555 - mean_l1_activity: 0.0732 - position_reconstruction_error: 0.8613 - upstream_scale_loss: 0.9630 - reconstruction_scale_loss: 0.0184\n",
      "Epoch 27/32\n",
      "235/235 [==============================] - 10s 45ms/step - loss: 0.1597 - cosine_similarity: 0.9449 - permanence_loss: 0.8749 - full_reconstruction_error: 0.3329 - reconstruction_error: 0.0551 - mean_l1_activity: 0.0725 - position_reconstruction_error: 0.8576 - upstream_scale_loss: 0.9633 - reconstruction_scale_loss: 0.0183\n",
      "Epoch 28/32\n",
      "235/235 [==============================] - 10s 44ms/step - loss: 0.1596 - cosine_similarity: 0.9450 - permanence_loss: 0.8746 - full_reconstruction_error: 0.3333 - reconstruction_error: 0.0550 - mean_l1_activity: 0.0716 - position_reconstruction_error: 0.8546 - upstream_scale_loss: 0.9636 - reconstruction_scale_loss: 0.0182\n",
      "Epoch 29/32\n",
      "235/235 [==============================] - 11s 45ms/step - loss: 0.1596 - cosine_similarity: 0.9450 - permanence_loss: 0.8754 - full_reconstruction_error: 0.3367 - reconstruction_error: 0.0550 - mean_l1_activity: 0.0729 - position_reconstruction_error: 0.8525 - upstream_scale_loss: 0.9628 - reconstruction_scale_loss: 0.0178\n",
      "Epoch 30/32\n",
      "235/235 [==============================] - 10s 44ms/step - loss: 0.1595 - cosine_similarity: 0.9451 - permanence_loss: 0.8748 - full_reconstruction_error: 0.3458 - reconstruction_error: 0.0549 - mean_l1_activity: 0.0723 - position_reconstruction_error: 0.8482 - upstream_scale_loss: 0.9630 - reconstruction_scale_loss: 0.0176\n",
      "Epoch 31/32\n",
      "235/235 [==============================] - 11s 45ms/step - loss: 0.1592 - cosine_similarity: 0.9453 - permanence_loss: 0.8748 - full_reconstruction_error: 0.3461 - reconstruction_error: 0.0547 - mean_l1_activity: 0.0714 - position_reconstruction_error: 0.8438 - upstream_scale_loss: 0.9633 - reconstruction_scale_loss: 0.0173\n",
      "Epoch 32/32\n",
      "235/235 [==============================] - 10s 45ms/step - loss: 0.1591 - cosine_similarity: 0.9453 - permanence_loss: 0.8743 - full_reconstruction_error: 0.3488 - reconstruction_error: 0.0547 - mean_l1_activity: 0.0711 - position_reconstruction_error: 0.8429 - upstream_scale_loss: 0.9634 - reconstruction_scale_loss: 0.0173\n"
     ]
    }
   ],
   "source": [
    "l2.is_bootstrapping.assign(False)\n",
    "tf.keras.backend.set_value(reconstruction_model_2.optimizer.learning_rate, 0.001)\n",
    "history = reconstruction_model_2.fit([X_2], Y_2, epochs=32, batch_size=128)"
   ]
  },
  {
   "cell_type": "code",
   "execution_count": null,
   "id": "f1fe5635",
   "metadata": {},
   "outputs": [],
   "source": [
    "%tensorboard --logdir ptolemynet_logs/fit"
   ]
  },
  {
   "cell_type": "code",
   "execution_count": 1164,
   "id": "a9c80664",
   "metadata": {},
   "outputs": [
    {
     "data": {
      "image/png": "[encoded data removed]",
      "text/plain": [
       "<PIL.Image.Image image mode=L size=28x28 at 0x7FC93121C470>"
      ]
     },
     "execution_count": 1164,
     "metadata": {},
     "output_type": "execute_result"
    }
   ],
   "source": [
    "x_2 = X_2[1]\n",
    "x_2_img = vecs_to_img(l1.reconstruct(tf.cast(x_2, tf.float32))[0].numpy())\n",
    "tf.keras.utils.array_to_img(x_2_img, scale=False)"
   ]
  },
  {
   "cell_type": "code",
   "execution_count": 1165,
   "id": "19d9f870",
   "metadata": {},
   "outputs": [
    {
     "data": {
      "image/png": "[encoded data removed]",
      "text/plain": [
       "<PIL.Image.Image image mode=L size=28x28 at 0x7FC788693908>"
      ]
     },
     "execution_count": 1165,
     "metadata": {},
     "output_type": "execute_result"
    }
   ],
   "source": [
    "y_2 = reconstruction_model_2.predict(tf.reshape(x_2, (1, 2, 16, 16)))[0]\n",
    "y_2_img = vecs_to_img(l1.reconstruct(tf.cast(y_2, tf.float32))[0].numpy())\n",
    "tf.keras.utils.array_to_img(y_2_img, scale=False)"
   ]
  },
  {
   "cell_type": "code",
   "execution_count": 1166,
   "id": "0a05ebb1",
   "metadata": {
    "scrolled": true
   },
   "outputs": [
    {
     "name": "stdout",
     "output_type": "stream",
     "text": [
      "4.0\n",
      "4.0\n"
     ]
    },
    {
     "data": {
      "text/plain": [
       "<matplotlib.image.AxesImage at 0x7fc88a1a1a90>"
      ]
     },
     "execution_count": 1166,
     "metadata": {},
     "output_type": "execute_result"
    },
    {
     "data": {
      "image/png": "[encoded data removed]",
      "text/plain": [
       "<Figure size 288x288 with 1 Axes>"
      ]
     },
     "metadata": {
      "needs_background": "light"
     },
     "output_type": "display_data"
    },
    {
     "data": {
      "image/png": "[encoded data removed]",
      "text/plain": [
       "<Figure size 288x288 with 1 Axes>"
      ]
     },
     "metadata": {
      "needs_background": "light"
     },
     "output_type": "display_data"
    },
    {
     "data": {
      "image/png": "[encoded data removed]",
      "text/plain": [
       "<Figure size 288x288 with 1 Axes>"
      ]
     },
     "metadata": {
      "needs_background": "light"
     },
     "output_type": "display_data"
    }
   ],
   "source": [
    "plt.matshow(tf.cast(x_2[0], tf.float32).numpy().T)\n",
    "plt.matshow(tf.cast(y_2[0], tf.float32).numpy().T)\n",
    "print(tf.norm(x_2[0]).numpy())\n",
    "print(tf.norm(y_2[0]).numpy())\n",
    "rd = tf.cast(x_2[0], tf.float32).numpy() - tf.cast(y_2[0], tf.float32).numpy()\n",
    "plt.matshow(np.abs(rd.T), vmin=0.0, vmax=0.5)"
   ]
  },
  {
   "cell_type": "code",
   "execution_count": 1167,
   "id": "68f9bc50",
   "metadata": {
    "scrolled": false
   },
   "outputs": [
    {
     "name": "stdout",
     "output_type": "stream",
     "text": [
      "shape (1, 10)\n",
      "min -0.22455914\n",
      "max 0.7840623\n",
      "norm 1.0\n",
      "max of diff 1.3489616\n",
      "norm of diff 1.4127182\n"
     ]
    },
    {
     "data": {
      "text/plain": [
       "<matplotlib.image.AxesImage at 0x7fc7704b8240>"
      ]
     },
     "execution_count": 1167,
     "metadata": {},
     "output_type": "execute_result"
    },
    {
     "data": {
      "image/png": "[encoded data removed]",
      "text/plain": [
       "<Figure size 1152x144 with 1 Axes>"
      ]
     },
     "metadata": {
      "needs_background": "light"
     },
     "output_type": "display_data"
    },
    {
     "data": {
      "image/png": "[encoded data removed]",
      "text/plain": [
       "<Figure size 1152x144 with 1 Axes>"
      ]
     },
     "metadata": {
      "needs_background": "light"
     },
     "output_type": "display_data"
    },
    {
     "data": {
      "image/png": "[encoded data removed]",
      "text/plain": [
       "<Figure size 1152x144 with 1 Axes>"
      ]
     },
     "metadata": {
      "needs_background": "light"
     },
     "output_type": "display_data"
    }
   ],
   "source": [
    "us = reconstruction_model_2.get_layer(index=1)(x_2.reshape((1, 2, 16, 16)), training=False)[0]\n",
    "us = tf.cast(us, tf.float32)\n",
    "one_us = us[0]\n",
    "usd = one_us[0] - one_us[1]\n",
    "print('shape', one_us[0].shape)\n",
    "print('min', tf.reduce_min(one_us[0]).numpy())\n",
    "print('max', tf.reduce_max(one_us[0]).numpy())\n",
    "print('norm', tf.norm(one_us[0]).numpy())\n",
    "print('max of diff', tf.reduce_max(tf.abs(usd)).numpy())\n",
    "print('norm of diff', tf.norm(usd).numpy())\n",
    "plt.matshow(one_us[0].numpy())\n",
    "plt.matshow(one_us[1].numpy())\n",
    "plt.matshow(usd.numpy())"
   ]
  },
  {
   "cell_type": "code",
   "execution_count": 1216,
   "id": "f8a4813a",
   "metadata": {},
   "outputs": [
    {
     "name": "stdout",
     "output_type": "stream",
     "text": [
      "(1, 2, 1, 10)\n"
     ]
    },
    {
     "data": {
      "image/png": "[encoded data removed]",
      "text/plain": [
       "<PIL.Image.Image image mode=L size=28x28 at 0x7FC88A6346D8>"
      ]
     },
     "execution_count": 1216,
     "metadata": {},
     "output_type": "execute_result"
    }
   ],
   "source": [
    "us_mod = us.numpy()\n",
    "print(us_mod.shape)\n",
    "#us_mod[0][0][0] = np.zeros((10))\n",
    "\n",
    "# Thickness\n",
    "#us_mod[0][0][0][1] = -0.1\n",
    "#us_mod[0][0][0][1] = 0.8\n",
    "\n",
    "us_mod[0][0][0][4] = -0.2\n",
    "us_mod[0][0][0][7] = -0.2\n",
    "\n",
    "#us_mod[0][0] = us_mod[0][0] + 1.5 * (us_mod[0][1] - us_mod[0][0])\n",
    "r = l2.reconstruct(us_mod)\n",
    "r = l1.reconstruct(r)\n",
    "y_2_mod_img = vecs_to_img(r[0][0].numpy())\n",
    "tf.keras.utils.array_to_img(y_2_mod_img, scale=False)"
   ]
  },
  {
   "cell_type": "markdown",
   "id": "dfcd8b8d",
   "metadata": {},
   "source": [
    "# Toy application: Mnist classifier"
   ]
  },
  {
   "cell_type": "code",
   "execution_count": 248,
   "id": "8b7612c4",
   "metadata": {},
   "outputs": [],
   "source": [
    "Y_train_sorted = np.take_along_axis(Y_train, sorted_indexes, axis=0)"
   ]
  },
  {
   "cell_type": "code",
   "execution_count": 1149,
   "id": "a1d87d39",
   "metadata": {
    "scrolled": true
   },
   "outputs": [],
   "source": [
    "#embeddings = upstream_state_model.predict(X, batch_size=32)\n",
    "embeddings = upstream_state_model_2.predict(X_2, batch_size=32)"
   ]
  },
  {
   "cell_type": "code",
   "execution_count": 1150,
   "id": "750d2bce",
   "metadata": {},
   "outputs": [],
   "source": [
    "flattened_embeddings = embeddings.reshape((60000, -1))"
   ]
  },
  {
   "cell_type": "code",
   "execution_count": 1159,
   "id": "6c0a5ca7",
   "metadata": {},
   "outputs": [
    {
     "name": "stdout",
     "output_type": "stream",
     "text": [
      "Model: \"sequential_6\"\n",
      "_________________________________________________________________\n",
      "Layer (type)                 Output Shape              Param #   \n",
      "=================================================================\n",
      "batch_normalization (BatchNo (None, 10)                40        \n",
      "_________________________________________________________________\n",
      "dense_11 (Dense)             (None, 128)               1408      \n",
      "_________________________________________________________________\n",
      "dense_12 (Dense)             (None, 10)                1290      \n",
      "=================================================================\n",
      "Total params: 2,738\n",
      "Trainable params: 2,718\n",
      "Non-trainable params: 20\n",
      "_________________________________________________________________\n"
     ]
    }
   ],
   "source": [
    "p = np.random.permutation(len(flattened_embeddings))\n",
    "X_classifier = flattened_embeddings[p]\n",
    "Y_classifier = tf.keras.utils.to_categorical(Y_train_sorted, 10)[p]\n",
    "\n",
    "\n",
    "model = tf.keras.Sequential(\n",
    "    [\n",
    "        #Input(shape=(256)),\n",
    "        Input(shape=(10)),\n",
    "        #BatchNormalization(),\n",
    "        #Dropout(0.25),\n",
    "        #Dense(256, activation=\"relu\"),\n",
    "        #Dropout(0.25),\n",
    "        Dense(128, activation=\"relu\"),\n",
    "        #Dropout(0.25),\n",
    "        Dense(10, activation=\"softmax\"),\n",
    "    ]\n",
    ")\n",
    "\n",
    "model.summary()"
   ]
  },
  {
   "cell_type": "code",
   "execution_count": 1160,
   "id": "0da4eedb",
   "metadata": {
    "scrolled": true
   },
   "outputs": [
    {
     "name": "stdout",
     "output_type": "stream",
     "text": [
      "Epoch 1/32\n",
      "844/844 [==============================] - 2s 2ms/step - loss: 0.4373 - accuracy: 0.8911 - val_loss: 0.1835 - val_accuracy: 0.9470\n",
      "Epoch 2/32\n",
      "844/844 [==============================] - 2s 2ms/step - loss: 0.1992 - accuracy: 0.9431 - val_loss: 0.1370 - val_accuracy: 0.9613\n",
      "Epoch 3/32\n",
      "844/844 [==============================] - 2s 2ms/step - loss: 0.1669 - accuracy: 0.9511 - val_loss: 0.1199 - val_accuracy: 0.9642\n",
      "Epoch 4/32\n",
      "844/844 [==============================] - 2s 2ms/step - loss: 0.1532 - accuracy: 0.9547 - val_loss: 0.1122 - val_accuracy: 0.9660\n",
      "Epoch 5/32\n",
      "844/844 [==============================] - 2s 2ms/step - loss: 0.1481 - accuracy: 0.9563 - val_loss: 0.1084 - val_accuracy: 0.9670\n",
      "Epoch 6/32\n",
      "844/844 [==============================] - 2s 2ms/step - loss: 0.1428 - accuracy: 0.9572 - val_loss: 0.1021 - val_accuracy: 0.9690\n",
      "Epoch 7/32\n",
      "844/844 [==============================] - 2s 2ms/step - loss: 0.1384 - accuracy: 0.9587 - val_loss: 0.1009 - val_accuracy: 0.9675\n",
      "Epoch 8/32\n",
      "844/844 [==============================] - 2s 2ms/step - loss: 0.1375 - accuracy: 0.9586 - val_loss: 0.1028 - val_accuracy: 0.9672\n",
      "Epoch 9/32\n",
      "844/844 [==============================] - 2s 2ms/step - loss: 0.1361 - accuracy: 0.9587 - val_loss: 0.1001 - val_accuracy: 0.9670\n",
      "Epoch 10/32\n",
      "844/844 [==============================] - 2s 2ms/step - loss: 0.1337 - accuracy: 0.9599 - val_loss: 0.0945 - val_accuracy: 0.9682\n",
      "Epoch 11/32\n",
      "844/844 [==============================] - 2s 2ms/step - loss: 0.1307 - accuracy: 0.9603 - val_loss: 0.0963 - val_accuracy: 0.9677\n",
      "Epoch 12/32\n",
      "844/844 [==============================] - 2s 2ms/step - loss: 0.1298 - accuracy: 0.9604 - val_loss: 0.0958 - val_accuracy: 0.9698\n",
      "Epoch 13/32\n",
      "844/844 [==============================] - 2s 2ms/step - loss: 0.1301 - accuracy: 0.9603 - val_loss: 0.0946 - val_accuracy: 0.9695\n",
      "Epoch 14/32\n",
      "844/844 [==============================] - 2s 2ms/step - loss: 0.1268 - accuracy: 0.9628 - val_loss: 0.0928 - val_accuracy: 0.9690\n",
      "Epoch 15/32\n",
      "844/844 [==============================] - 2s 2ms/step - loss: 0.1262 - accuracy: 0.9613 - val_loss: 0.0976 - val_accuracy: 0.9678\n",
      "Epoch 16/32\n",
      "844/844 [==============================] - 2s 2ms/step - loss: 0.1251 - accuracy: 0.9625 - val_loss: 0.0951 - val_accuracy: 0.9693\n",
      "Epoch 17/32\n",
      "844/844 [==============================] - 2s 2ms/step - loss: 0.1233 - accuracy: 0.9630 - val_loss: 0.0943 - val_accuracy: 0.9680\n",
      "Epoch 18/32\n",
      "844/844 [==============================] - 2s 2ms/step - loss: 0.1242 - accuracy: 0.9630 - val_loss: 0.0910 - val_accuracy: 0.9692\n",
      "Epoch 19/32\n",
      "844/844 [==============================] - 2s 2ms/step - loss: 0.1215 - accuracy: 0.9632 - val_loss: 0.0872 - val_accuracy: 0.9713\n",
      "Epoch 20/32\n",
      "844/844 [==============================] - 2s 2ms/step - loss: 0.1194 - accuracy: 0.9632 - val_loss: 0.0931 - val_accuracy: 0.9672\n",
      "Epoch 21/32\n",
      "844/844 [==============================] - 2s 2ms/step - loss: 0.1207 - accuracy: 0.9635 - val_loss: 0.0902 - val_accuracy: 0.9688\n",
      "Epoch 22/32\n",
      "844/844 [==============================] - 2s 2ms/step - loss: 0.1176 - accuracy: 0.9644 - val_loss: 0.0903 - val_accuracy: 0.9710\n",
      "Epoch 23/32\n",
      "844/844 [==============================] - 2s 2ms/step - loss: 0.1198 - accuracy: 0.9635 - val_loss: 0.0917 - val_accuracy: 0.9672\n",
      "Epoch 24/32\n",
      "844/844 [==============================] - 2s 2ms/step - loss: 0.1189 - accuracy: 0.9640 - val_loss: 0.0896 - val_accuracy: 0.9703\n",
      "Epoch 25/32\n",
      "844/844 [==============================] - 2s 2ms/step - loss: 0.1190 - accuracy: 0.9641 - val_loss: 0.0894 - val_accuracy: 0.9683\n",
      "Epoch 26/32\n",
      "844/844 [==============================] - 2s 2ms/step - loss: 0.1145 - accuracy: 0.9650 - val_loss: 0.0910 - val_accuracy: 0.9703\n",
      "Epoch 27/32\n",
      "844/844 [==============================] - 2s 2ms/step - loss: 0.1150 - accuracy: 0.9647 - val_loss: 0.0897 - val_accuracy: 0.9695\n",
      "Epoch 28/32\n",
      "844/844 [==============================] - 2s 2ms/step - loss: 0.1176 - accuracy: 0.9636 - val_loss: 0.0834 - val_accuracy: 0.9717\n",
      "Epoch 29/32\n",
      "844/844 [==============================] - 2s 2ms/step - loss: 0.1152 - accuracy: 0.9651 - val_loss: 0.0895 - val_accuracy: 0.9703\n",
      "Epoch 30/32\n",
      "844/844 [==============================] - 2s 2ms/step - loss: 0.1162 - accuracy: 0.9645 - val_loss: 0.0878 - val_accuracy: 0.9723\n",
      "Epoch 31/32\n",
      "844/844 [==============================] - 2s 2ms/step - loss: 0.1150 - accuracy: 0.9643 - val_loss: 0.0846 - val_accuracy: 0.9728\n",
      "Epoch 32/32\n",
      "844/844 [==============================] - 2s 2ms/step - loss: 0.1146 - accuracy: 0.9644 - val_loss: 0.0857 - val_accuracy: 0.9698\n"
     ]
    },
    {
     "data": {
      "text/plain": [
       "<keras.callbacks.History at 0x7fc930fbc278>"
      ]
     },
     "execution_count": 1160,
     "metadata": {},
     "output_type": "execute_result"
    }
   ],
   "source": [
    "model.compile(loss=\"categorical_crossentropy\", optimizer='adam', metrics=[\"accuracy\"])\n",
    "model.fit(X_classifier, Y_classifier, batch_size=64, epochs=32, validation_split=0.1)"
   ]
  },
  {
   "cell_type": "markdown",
   "id": "c3313bee",
   "metadata": {},
   "source": [
    "## Exports and animations"
   ]
  },
  {
   "cell_type": "code",
   "execution_count": null,
   "id": "22da1456",
   "metadata": {},
   "outputs": [],
   "source": [
    "tf.keras.utils.plot_model(reconstruction_model, expand_nested=True)"
   ]
  },
  {
   "cell_type": "code",
   "execution_count": 950,
   "id": "a3e4fa79",
   "metadata": {},
   "outputs": [],
   "source": [
    "def animate_interpolation(x1, x2, reconstruction_fun, filename, min_coeff=0.0, max_coeff=1.0, steps=20):\n",
    "    fig = plt.figure()\n",
    "    animate = lambda i: reconstruction_fun(x1 + (min_coeff + float(i) / steps * (max_coeff - min_coeff)) * (x2 - x1))\n",
    "    anim = animation.FuncAnimation(fig, animate, frames=steps, interval=100, blit=True)\n",
    "    anim.save(filename, fps=15, writer='imagemagick')\n",
    "    plt.close(fig)"
   ]
  },
  {
   "cell_type": "code",
   "execution_count": 951,
   "id": "627e07b3",
   "metadata": {},
   "outputs": [],
   "source": [
    "def reconstruct_l1(x):\n",
    "    recon = l1.reconstruct(x)[0][0]\n",
    "    recon_im_array = vecs_to_img(tf.squeeze(recon).numpy())\n",
    "    recon_im = tf.keras.utils.array_to_img(recon_im_array, scale=False)\n",
    "    return plt.imshow(recon_im, cmap='gray', vmin=0, vmax=255),\n",
    "\n",
    "def reconstruct_l2(x):\n",
    "    recon = l2.reconstruct(x)\n",
    "    recon = l1.reconstruct(recon)[0][0]\n",
    "    recon_im_array = vecs_to_img(tf.squeeze(recon).numpy())\n",
    "    recon_im = tf.keras.utils.array_to_img(recon_im_array, scale=False)\n",
    "    return plt.imshow(recon_im, cmap='gray', vmin=0, vmax=255),"
   ]
  },
  {
   "cell_type": "code",
   "execution_count": 759,
   "id": "69e03bde",
   "metadata": {},
   "outputs": [],
   "source": [
    "#us1 = reconstruction_model.get_layer(index=1)(tf.reshape(X[0], (1, 2, 28*28, 2)), training=False)[0]\n",
    "#us2 = reconstruction_model.get_layer(index=1)(tf.reshape(X[1], (1, 2, 28*28, 2)), training=False)[0]\n",
    "us1 = reconstruction_model.get_layer(index=1)(tf.reshape(X[1], (1, 2, 2500, 2)), training=False)[0]\n",
    "us2 = reconstruction_model.get_layer(index=1)(tf.reshape(X[5], (1, 2, 2500, 2)), training=False)[0]\n",
    "\n",
    "animate_interpolation(us1, us2, reconstruct_l1, 'test.gif', min_coeff=0.0, max_coeff=1.0, steps=40)"
   ]
  },
  {
   "cell_type": "code",
   "execution_count": 968,
   "id": "98bc3623",
   "metadata": {},
   "outputs": [],
   "source": [
    "us1_mod1 = us.numpy()\n",
    "us1_mod2 = us.numpy()\n",
    "# Parameter 29: Thickness\n",
    "#us1_mod1[0][0][0][29] = -20.0\n",
    "#us1_mod2[0][0][0][29] = 7.0\n",
    "# Parameter 9: Bottom/top heavy\n",
    "#us1_mod1[0][0][0][9] = -2.0\n",
    "#us1_mod2[0][0][0][9] = 2.0\n",
    "# Parameter 21: tilt\n",
    "#us1_mod1[0][0][0][21] = -0.5\n",
    "#us1_mod2[0][0][0][21] = 2.0\n",
    "# Parameter 23: \"negative threenes\"\n",
    "#us1_mod1[0][0][0][2] = -0.5\n",
    "#us1_mod2[0][0][0][2] = 0.5\n",
    "us1_mod2[0][0] = us1_mod2[0][1]\n",
    "\n",
    "animate_interpolation(us1_mod1, us1_mod2, reconstruct_l2, 'level_2_boxes_rotation_blend.gif', min_coeff=-1.0, max_coeff=2.0, steps=40)"
   ]
  },
  {
   "cell_type": "code",
   "execution_count": null,
   "id": "aaf9de01",
   "metadata": {},
   "outputs": [],
   "source": []
  }
 ],
 "metadata": {
  "kernelspec": {
   "display_name": "Python 3",
   "language": "python",
   "name": "python3"
  },
  "language_info": {
   "codemirror_mode": {
    "name": "ipython",
    "version": 3
   },
   "file_extension": ".py",
   "mimetype": "text/x-python",
   "name": "python",
   "nbconvert_exporter": "python",
   "pygments_lexer": "ipython3",
   "version": "3.6.9"
  }
 },
 "nbformat": 4,
 "nbformat_minor": 5
}
