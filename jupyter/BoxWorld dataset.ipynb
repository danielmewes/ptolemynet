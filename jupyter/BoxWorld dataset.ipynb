{
 "cells": [
  {
   "cell_type": "code",
   "execution_count": 9,
   "metadata": {},
   "outputs": [],
   "source": [
    "import numpy as np\n",
    "import matplotlib.pyplot as plt\n",
    "import tensorflow as tf"
   ]
  },
  {
   "cell_type": "code",
   "execution_count": 19,
   "metadata": {},
   "outputs": [],
   "source": [
    "width = 50\n",
    "height = 50\n",
    "\n",
    "num_runs = 200\n",
    "sample_speed = lambda: np.random.uniform(0.01, 0.1)\n",
    "sample_box_size = lambda: np.random.uniform(0.1, 0.4)\n",
    "sample_position = lambda: np.random.uniform(0, 1, (2,))\n",
    "def sample_velocity(speed):\n",
    "    rad = np.random.uniform(0.0, 2 * np.pi)\n",
    "    vel = np.zeros((2,))\n",
    "    vel[0] = np.sin(rad)\n",
    "    vel[1] = np.cos(rad)\n",
    "    return speed * vel\n",
    "\n",
    "num_frames = 60"
   ]
  },
  {
   "cell_type": "code",
   "execution_count": 20,
   "metadata": {},
   "outputs": [],
   "source": [
    "class Box:\n",
    "    def __init__(self, size, initial_position, initial_velocity):\n",
    "        self.size = size\n",
    "        self.position = initial_position\n",
    "        self.velocity = initial_velocity\n",
    "        \n",
    "    def draw(self, frame):\n",
    "        frame_width, frame_height = frame.shape\n",
    "        px_density = min(frame_width, frame_height)\n",
    "        x_min = max(int((self.position[0] - self.size / 2) * px_density), 0)\n",
    "        x_max = min(int((self.position[0] + self.size / 2) * px_density), frame_width - 1)\n",
    "        y_min = max(int((self.position[1] - self.size / 2) * px_density), 0)\n",
    "        y_max = min(int((self.position[1] + self.size / 2) * px_density), frame_height - 1)\n",
    "        for x in range(x_min, x_max + 1):\n",
    "            for y in range(y_min, y_max + 1):\n",
    "                frame[x][y] = 0.5\n",
    "                frame[x][y] = 0.5\n",
    "                frame[x_min][y] = 1.0\n",
    "                frame[x_max][y] = 1.0\n",
    "        \n",
    "            frame[x][y_min] = 1.0\n",
    "            frame[x][y_max] = 1.0\n",
    "    \n",
    "    def progress(self):\n",
    "        self.position += self.velocity\n",
    "        \n",
    "        # Bounce off walls\n",
    "        low_bound = self.size / 2\n",
    "        high_bound = 1.0 - self.size / 2\n",
    "        for dim in range(2):\n",
    "            if self.position[dim] < low_bound:\n",
    "                self.velocity[dim] = -self.velocity[dim]\n",
    "                self.position[dim] = 2.0 * low_bound - self.position[dim]\n",
    "            elif self.position[dim] > high_bound:\n",
    "                self.velocity[dim] = -self.velocity[dim]\n",
    "                self.position[dim] = 2.0 * high_bound - self.position[dim]"
   ]
  },
  {
   "cell_type": "code",
   "execution_count": 22,
   "metadata": {},
   "outputs": [],
   "source": [
    "def sample_box():\n",
    "    speed = sample_speed()\n",
    "    box_size = sample_box_size()\n",
    "\n",
    "    return Box(box_size, sample_position(), sample_velocity(speed))\n",
    "\n",
    "num_boxes = 2\n",
    "\n",
    "for run_idx in range(num_runs):\n",
    "    boxes = [sample_box() for i in range(num_boxes)]\n",
    "    \n",
    "    for frame_idx in range(num_frames):\n",
    "        frame = np.zeros((width, height))\n",
    "        for box in boxes:\n",
    "            box.draw(frame)\n",
    "            box.progress()\n",
    "\n",
    "        img_path = f\"./box_world_{num_boxes}/{str(run_idx).zfill(4)}-{str(frame_idx).zfill(4)}.png\"\n",
    "        tf.keras.utils.save_img(img_path, np.reshape(frame, (width, height, 1)))"
   ]
  },
  {
   "cell_type": "code",
   "execution_count": 23,
   "metadata": {},
   "outputs": [
    {
     "data": {
      "image/png": "[encoded data removed]",
      "text/plain": [
       "<PIL.PngImagePlugin.PngImageFile image mode=L size=50x50 at 0x7FEBA5C6BC50>"
      ]
     },
     "execution_count": 23,
     "metadata": {},
     "output_type": "execute_result"
    }
   ],
   "source": [
    "test_img = tf.keras.utils.load_img('./box_world_2/0004-0010.png', color_mode=\"grayscale\")\n",
    "test_img"
   ]
  },
  {
   "cell_type": "code",
   "execution_count": null,
   "metadata": {},
   "outputs": [],
   "source": []
  }
 ],
 "metadata": {
  "kernelspec": {
   "display_name": "Python 3",
   "language": "python",
   "name": "python3"
  },
  "language_info": {
   "codemirror_mode": {
    "name": "ipython",
    "version": 3
   },
   "file_extension": ".py",
   "mimetype": "text/x-python",
   "name": "python",
   "nbconvert_exporter": "python",
   "pygments_lexer": "ipython3",
   "version": "3.8.10"
  }
 },
 "nbformat": 4,
 "nbformat_minor": 5
}
