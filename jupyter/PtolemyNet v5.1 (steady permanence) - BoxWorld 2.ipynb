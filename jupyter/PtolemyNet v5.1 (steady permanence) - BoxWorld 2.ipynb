{
 "cells": [
  {
   "cell_type": "code",
   "execution_count": 1,
   "metadata": {},
   "outputs": [],
   "source": [
    "import tensorflow as tf\n",
    "import numpy as np\n",
    "from tensorflow.keras.layers import *\n",
    "import matplotlib.pyplot as plt\n",
    "from matplotlib import animation\n",
    "import scipy\n",
    "\n",
    "%load_ext tensorboard\n",
    "import datetime"
   ]
  },
  {
   "cell_type": "markdown",
   "metadata": {},
   "source": [
    "# Image loading"
   ]
  },
  {
   "cell_type": "code",
   "execution_count": 2,
   "metadata": {},
   "outputs": [],
   "source": [
    "x_size = 50\n",
    "y_size = 50"
   ]
  },
  {
   "cell_type": "code",
   "execution_count": 3,
   "metadata": {},
   "outputs": [],
   "source": [
    "def img_to_vecs(img):\n",
    "    output = np.zeros((x_size * y_size, 2))\n",
    "    rescaled_img = 2.0 * img.flatten() - 1.0\n",
    "    output[:, 0] = np.sin(rescaled_img * np.pi / 2.0)\n",
    "    output[:, 1] = np.cos(rescaled_img * np.pi / 2.0)\n",
    "    return output\n",
    "\n",
    "def vecs_to_img(vecs):\n",
    "    v = vecs.reshape((x_size, y_size, 2))\n",
    "    v = v / np.linalg.norm(v, axis=-1, keepdims=True)\n",
    "    img = np.arcsin(v[:, :, 0:1]) / np.pi * 2.0\n",
    "    img = (1.0 + img) / 2.0\n",
    "    img = 255.0 * np.clip(img, 0.0, 1.0)\n",
    "    return img"
   ]
  },
  {
   "cell_type": "code",
   "execution_count": 4,
   "metadata": {},
   "outputs": [],
   "source": [
    "num_runs = 200\n",
    "num_frames = 60\n",
    "num_t = 3\n",
    "\n",
    "num_inputs_per_run = num_frames // num_t\n",
    "num_inputs = num_runs * num_inputs_per_run\n",
    "X = np.zeros((num_inputs, num_t, x_size * y_size, 2))\n",
    "for run_idx in range(num_runs):\n",
    "    for frame_idx in range(0, num_frames, num_t):\n",
    "        i = run_idx * num_inputs_per_run + frame_idx // num_t\n",
    "        for t in range(num_t):\n",
    "            img_path = f\"./box_world_1/{str(run_idx).zfill(4)}-{str(frame_idx + t).zfill(4)}.png\"\n",
    "            img = tf.keras.utils.load_img(img_path, color_mode=\"grayscale\", target_size=(x_size, y_size))\n",
    "            img_arr = tf.keras.utils.img_to_array(img) / 255.0\n",
    "            X[i][t] = img_to_vecs(img_arr)"
   ]
  },
  {
   "cell_type": "code",
   "execution_count": 5,
   "metadata": {},
   "outputs": [],
   "source": [
    "X2 = np.zeros((num_inputs, num_t, x_size * y_size, 2))\n",
    "for run_idx in range(num_runs):\n",
    "    for frame_idx in range(0, num_frames, num_t):\n",
    "        i = run_idx * num_inputs_per_run + frame_idx // num_t\n",
    "        for t in range(num_t):\n",
    "            img_path = f\"./box_world_2/{str(run_idx).zfill(4)}-{str(frame_idx + t).zfill(4)}.png\"\n",
    "            img = tf.keras.utils.load_img(img_path, color_mode=\"grayscale\", target_size=(x_size, y_size))\n",
    "            img_arr = tf.keras.utils.img_to_array(img) / 255.0\n",
    "            X2[i][t] = img_to_vecs(img_arr)"
   ]
  },
  {
   "cell_type": "code",
   "execution_count": 21,
   "metadata": {},
   "outputs": [
    {
     "data": {
      "image/png": "[encoded data removed]",
      "text/plain": [
       "<PIL.Image.Image image mode=L size=50x50 at 0x7FF13719B460>"
      ]
     },
     "execution_count": 21,
     "metadata": {},
     "output_type": "execute_result"
    }
   ],
   "source": [
    "img = vecs_to_img(X2[101][0])\n",
    "tf.keras.utils.array_to_img(img, scale=False)"
   ]
  },
  {
   "cell_type": "markdown",
   "metadata": {},
   "source": [
    "# Layer architecture"
   ]
  },
  {
   "cell_type": "code",
   "execution_count": 7,
   "metadata": {},
   "outputs": [],
   "source": [
    "def stable_norm(t, axis, keepdims=False):\n",
    "    return tf.sqrt(tf.maximum(tf.reduce_sum(tf.square(t), axis=axis, keepdims=keepdims), tf.keras.backend.epsilon()))\n",
    "\n",
    "def l1_norm(t, axis, keepdims=False):\n",
    "    return tf.reduce_sum(tf.abs(t), axis=axis, keepdims=keepdims)"
   ]
  },
  {
   "cell_type": "markdown",
   "metadata": {},
   "source": [
    "### Locality and context layers"
   ]
  },
  {
   "cell_type": "code",
   "execution_count": 8,
   "metadata": {},
   "outputs": [],
   "source": [
    "class ContextAggregationLayer(tf.keras.layers.Layer):\n",
    "    def __init__(self, context_fan_in, position_dim, num_samples, initial_sharpness, train_context, dtype=None):\n",
    "        super(ContextAggregationLayer, self).__init__(dtype=dtype)\n",
    "\n",
    "        self.context_fan_in = context_fan_in\n",
    "        self.position_dim = position_dim\n",
    "        self.num_samples = num_samples\n",
    "        self.initial_sharpness = initial_sharpness\n",
    "        self.train_context = train_context\n",
    "    \n",
    "    def build(self, input_shape):\n",
    "        self.downstream_dim = input_shape[-1]\n",
    "        self.downstream_num = input_shape[-2]\n",
    "\n",
    "        # Encodes the positions of downstream columns\n",
    "        # Positions are within a unit ball.\n",
    "        self.downstream_positions = self.add_weight(\n",
    "            shape=(self.downstream_num, self.position_dim),\n",
    "            initializer=self.initialize_positions,\n",
    "            name='downstream_positions',\n",
    "            trainable=True,\n",
    "            use_resource=True,\n",
    "            constraint=tf.keras.constraints.MaxNorm(max_value=1, axis=1),\n",
    "        )\n",
    "        \n",
    "        # These rotations form the \"neighborhood\" of a given position.    \n",
    "        # Shape: position_dim -> position_dim * context_fan_in\n",
    "        self.context_queries = Dense(\n",
    "            self.position_dim * self.context_fan_in,\n",
    "            use_bias=False,\n",
    "            kernel_initializer=self.initialize_rotations,\n",
    "            name='context_queries',\n",
    "            trainable=self.train_context,\n",
    "            kernel_constraint=self.constrain_to_rotations,\n",
    "        )\n",
    "        \n",
    "        self.context_sharpness = self.add_weight(\n",
    "            shape=(self.context_fan_in),\n",
    "            initializer=tf.keras.initializers.Constant(value=self.initial_sharpness),\n",
    "            name='context_sharpness',\n",
    "            trainable=True,\n",
    "            use_resource=True,\n",
    "        )\n",
    "\n",
    "        super(ContextAggregationLayer, self).build(input_shape)\n",
    "    \n",
    "    def initialize_positions(self, shape, dtype):\n",
    "        rn = tf.keras.initializers.TruncatedNormal()(shape, dtype=dtype)\n",
    "        # Initializing to smaller values initially helps positions converge faster.\n",
    "        return 0.1 * tf.keras.constraints.UnitNorm(axis=1)(rn)\n",
    "    \n",
    "    def constrain_to_rotations(self, a):\n",
    "        rs = tf.split(a, self.context_fan_in, axis=1)\n",
    "        constrained_rs = []\n",
    "        for r in rs:\n",
    "            s, u, v = tf.linalg.svd(r)\n",
    "            vh = tf.linalg.adjoint(v)\n",
    "            constrained_rs.append(tf.matmul(u, vh))\n",
    "            \n",
    "        return tf.concat(constrained_rs, axis=1)\n",
    "    \n",
    "    def initialize_rotations(self, shape, dtype):\n",
    "        identity = tf.keras.initializers.Identity()((self.position_dim, self.position_dim), dtype=dtype)\n",
    "        rotations = []\n",
    "        # The first rotation is always the identity (i.e. the seed value itself)\n",
    "        rotations.append(identity)\n",
    "        for i in range(1, self.context_fan_in):\n",
    "            rotation = tf.keras.initializers.Orthogonal(gain=0.1)((self.position_dim, self.position_dim), dtype=dtype)\n",
    "            rotations.append(identity + rotation)\n",
    "        rotations = tf.concat(rotations, axis=1)\n",
    "        return self.constrain_to_rotations(rotations)\n",
    "    \n",
    "    def sample_seed_indexes(self):\n",
    "        # This tensorflow sampling method is inspired by https://stackoverflow.com/a/54755281\n",
    "        # It approximates Numpy's np.random.choice with replace=False\n",
    "        # Sampling different seed indexes for each batch helps the positions and contexts\n",
    "        # to converge better to true neighborhoods. I was previously using a fixed sampling\n",
    "        # throughout the whole training, and it led to the seed positions to get stuck\n",
    "        # in specific values that didn't resemble their neighbors.\n",
    "\n",
    "        uniform_distribution = tf.random.uniform([self.downstream_num], minval=0.0, maxval=1.0)\n",
    "        _, top_indexes = tf.nn.top_k(uniform_distribution, self.num_samples)\n",
    "\n",
    "        return top_indexes\n",
    "    \n",
    "    def reconstruct(self, full_context):        \n",
    "        # Position shape: (..., num_columns, position_dim)\n",
    "        # Value shape: (..., num_columns, context_fan_in * downstream_dim)\n",
    "        position, values = tf.split(\n",
    "            full_context,\n",
    "            [\n",
    "                self.position_dim,\n",
    "                self.context_fan_in * self.downstream_dim,\n",
    "            ],\n",
    "            axis=-1,\n",
    "        )\n",
    "        \n",
    "        # Restore scale\n",
    "        values *= np.sqrt(self.context_fan_in)\n",
    "\n",
    "        # Shape: (context_fan_in, ..., num_columns, downstream_dim)\n",
    "        values = tf.stack(tf.split(values, self.context_fan_in, axis=-1), axis=0)\n",
    "\n",
    "        # Shape: (..., num_columns, context_fan_in * position_dim)\n",
    "        queries = self.context_queries(position)\n",
    "        \n",
    "        # Shape: (context_fan_in, ..., num_columns, position_dim)\n",
    "        queries = tf.stack(tf.split(queries, self.context_fan_in, axis=-1), axis=0)\n",
    "        \n",
    "        # Shape: (context_fan_in)\n",
    "        exp_sharpness = tf.exp(self.context_sharpness)\n",
    "        \n",
    "        # Needed so we can call reconstruct directly when in mixed precision\n",
    "        cast_downstream_positions = tf.cast(self.downstream_positions, self.compute_dtype)\n",
    "        exp_sharpness = tf.cast(exp_sharpness, self.compute_dtype)\n",
    "        queries = tf.cast(queries, self.compute_dtype)\n",
    "        values = tf.cast(values, self.compute_dtype)\n",
    "        \n",
    "        # Process heads in sequence to reduce memory footprint\n",
    "        reconstruction_shape = tf.concat([tf.shape(full_context)[0:-2], [self.downstream_num, self.downstream_dim]], axis=0)\n",
    "        reconstruction = tf.zeros(reconstruction_shape, dtype=full_context.dtype)\n",
    "        for head_idx in tf.range(0, self.context_fan_in):\n",
    "            # Shape: (..., num_columns, position_dim)\n",
    "            head_query = queries[head_idx]\n",
    "            # Shape: (..., num_columns, downstream_dim)\n",
    "            head_values = values[head_idx]\n",
    "            # Shape: (1)\n",
    "            head_sharpness = exp_sharpness[head_idx]\n",
    "            # Shape: (..., num_samples, downstream_dim)\n",
    "            head_output = self.compute_reconstruction_head_output(\n",
    "                cast_downstream_positions,\n",
    "                head_values,\n",
    "                head_query,\n",
    "                head_sharpness,\n",
    "            )\n",
    "            reconstruction = reconstruction + tf.cast(head_output, full_context.dtype)\n",
    "\n",
    "        return reconstruction\n",
    "\n",
    "    def call(self, downstream_input):\n",
    "        # Shape: (num_samples, position_dim)\n",
    "        seed_positions = tf.gather(self.downstream_positions, self.sample_seed_indexes(), axis=-2)\n",
    "        \n",
    "        # Shape: (num_samples, context_fan_in * position_dim)\n",
    "        queries = self.context_queries(seed_positions)\n",
    "        \n",
    "        # Shape: (context_fan_in, num_samples, position_dim)\n",
    "        queries = tf.stack(tf.split(queries, self.context_fan_in, axis=-1), axis=0)\n",
    "        \n",
    "        # Shape: (context_fan_in)\n",
    "        exp_sharpness = tf.exp(self.context_sharpness)\n",
    "        \n",
    "        # Cast for mixed precision\n",
    "        queries = tf.cast(queries, self.compute_dtype)\n",
    "        exp_sharpness = tf.cast(exp_sharpness, self.compute_dtype)\n",
    "        \n",
    "        # Process heads in sequence to reduce memory footprint\n",
    "        head_buffer = tf.TensorArray(dtype=self.compute_dtype, size=self.context_fan_in, clear_after_read=True)\n",
    "        for head_idx in tf.range(0, self.context_fan_in):\n",
    "            # Shape: (..., num_samples, position_dim)\n",
    "            head_query = queries[head_idx]\n",
    "            # Shape: (1)\n",
    "            head_sharpness = exp_sharpness[head_idx]\n",
    "            # Shape: (..., num_samples, downstream_dim)\n",
    "            head_output = self.compute_attention_head_output(self.downstream_positions, downstream_input, head_query, head_sharpness)\n",
    "            head_buffer = head_buffer.write(head_idx, head_output)\n",
    "\n",
    "        # Restore scale\n",
    "        head_values = head_buffer.stack() / np.sqrt(self.context_fan_in)\n",
    "        head_values = tf.unstack(head_values)\n",
    "        \n",
    "        # Shape: (..., num_samples, position_dim + context_fan_in * downstream_dim)\n",
    "        expanded_seed_positions = tf.broadcast_to(\n",
    "            seed_positions,\n",
    "            tf.concat([tf.shape(head_values[0])[0:-1], [self.position_dim]], axis=0),\n",
    "        )\n",
    "        full_context = tf.concat([expanded_seed_positions] + head_values, axis=-1)\n",
    "\n",
    "        return full_context\n",
    "    \n",
    "    @staticmethod\n",
    "    @tf.function(jit_compile=True)\n",
    "    #@tf.recompute_grad\n",
    "    def compute_attention_head_output(downstream_positions, downstream_input, query, sharpness):\n",
    "        # Shape: (downstream_num, position_dim), (num_samples, position_dim) -> (num_samples, downstream_num)\n",
    "        attention_similarities = sharpness * tf.einsum('ND,SD->SN', downstream_positions, query)\n",
    "\n",
    "        # Shape: (num_samples, downstream_num) -> (num_samples, downstream_num)\n",
    "        attention_scores = tf.nn.softmax(attention_similarities, axis=-1)\n",
    "        \n",
    "        # Shape: (..., downstream_num, downstream_dim), (num_samples, downstream_num) -> (..., num_samples, downstream_dim)\n",
    "        head_output = tf.einsum('...ND,SN->...SD', downstream_input, attention_scores)\n",
    "        \n",
    "        return head_output\n",
    "    \n",
    "    @staticmethod\n",
    "    @tf.function(jit_compile=True)\n",
    "    @tf.recompute_grad\n",
    "    def compute_reconstruction_head_output(downstream_positions, values, query, sharpness):\n",
    "        # Shape: (downstream_num, position_dim), (..., num_columns, position_dim) -> (..., num_columns, downstream_num)\n",
    "        attention_similarities = sharpness * tf.einsum('ND,...SD->...SN', downstream_positions, query)\n",
    "        \n",
    "        # Shape: (..., num_columns, downstream_num) -> (..., num_columns, downstream_num)\n",
    "        attention_scores = tf.nn.softmax(attention_similarities, axis=-1)\n",
    "        \n",
    "        # Shape: (..., num_columns, downstream_dim), (..., num_columns, downstream_num) -> (..., downstream_num, downstream_dim)\n",
    "        head_reconstruction = tf.einsum('...CD,...CN->...ND', values, attention_scores)\n",
    "        \n",
    "        return head_reconstruction"
   ]
  },
  {
   "cell_type": "markdown",
   "metadata": {},
   "source": [
    "### Coding / decoding layer"
   ]
  },
  {
   "cell_type": "code",
   "execution_count": 9,
   "metadata": {},
   "outputs": [],
   "source": [
    "def compute_full_reconstruction_error(y_true, y_pred):\n",
    "    y_true = tf.cast(y_true, tf.float32)\n",
    "    y_pred = tf.cast(y_pred, tf.float32)\n",
    "    \n",
    "    # Like cosine similarity, but weighted by the norm of the true vectors\n",
    "    similarity = tf.reduce_sum(y_true * tf.math.l2_normalize(y_pred, axis=-1, epsilon=tf.keras.backend.epsilon()), axis=-1)\n",
    "    weights = stable_norm(y_true, axis=-1)\n",
    "\n",
    "    # Quadratic formulation. The idea behind this is to put more emphasis on reconstructing vectors *approximately*\n",
    "    # correctly, rather than exactly correctly.\n",
    "    return 4 * tf.reduce_mean(tf.square(weights - similarity))\n",
    "    # Linear formulation\n",
    "    #return tf.reduce_mean(weights - similarity)\n",
    "\n",
    "def compute_partial_reconstruction_error(y_true, y_pred):\n",
    "    y_true = tf.cast(y_true, tf.float32)\n",
    "    y_pred = tf.cast(y_pred, tf.float32)\n",
    "    \n",
    "    # Compare the L1 norm size change when adding y_pred vectors to y_true vectors\n",
    "    norm_y_true = y_true / tf.maximum(l1_norm(y_true, axis=-1, keepdims=True), tf.keras.backend.epsilon())\n",
    "    norm_y_pred = y_pred / tf.maximum(l1_norm(y_pred, axis=-1, keepdims=True), tf.keras.backend.epsilon())\n",
    "    weights = stable_norm(y_true, axis=-1)\n",
    "    partial_loss = weights * (2.0 - l1_norm(norm_y_true + norm_y_pred, axis=-1))\n",
    "    \n",
    "    return tf.reduce_mean(partial_loss)\n",
    "\n",
    "def compute_scale_error(y_true, y_pred):\n",
    "    y_true = tf.cast(tf.stop_gradient(y_true), tf.float32)\n",
    "    y_pred = tf.cast(y_pred, tf.float32)\n",
    "    \n",
    "    # Alternative formulation: Scale in the \"correct direction\" (norm of differences)\n",
    "    #diffs = stable_norm(y_true - y_pred, axis=-1)\n",
    "    \n",
    "    # Traditional formulation (scale only):\n",
    "    # Penalize scale differences between y_true and y_pred\n",
    "    diffs = tf.abs(stable_norm(y_true, -1) - stable_norm(y_pred, -1))\n",
    "\n",
    "    return tf.reduce_mean(diffs)\n",
    "\n",
    "def mean_l1_activity(t):\n",
    "    t = tf.cast(t, tf.float32)\n",
    "    return tf.reduce_mean(tf.reduce_sum(tf.abs(t), axis=-1))\n",
    "\n",
    "def mean_l2_activity(t):\n",
    "    t = tf.cast(t, tf.float32)\n",
    "    return tf.reduce_mean(tf.reduce_sum(tf.square(t), axis=-1))\n",
    "\n",
    "class PermanenceSeparatorLayer(tf.keras.layers.Layer):\n",
    "    def __init__(self, upstream_dim, position_dim, noise_rate):\n",
    "        super(PermanenceSeparatorLayer, self).__init__()\n",
    "        \n",
    "        self.upstream_dim = upstream_dim\n",
    "        self.position_dim = position_dim\n",
    "        self.noise_rate = noise_rate\n",
    "    \n",
    "    def build(self, input_shape):\n",
    "        self.internal_dim = input_shape[-1]\n",
    "\n",
    "        separation_initializer_stddev = np.sqrt(2 / self.internal_dim)\n",
    "        reconstruction_initializer_stddev = 0.1 * np.sqrt(2 / self.upstream_dim)\n",
    "\n",
    "        self.separation_layers = [\n",
    "            Dense(\n",
    "                np.ceil(2 * self.internal_dim / 8.0) * 8,\n",
    "                use_bias=False,\n",
    "                kernel_initializer=tf.keras.initializers.TruncatedNormal(stddev=separation_initializer_stddev),\n",
    "                name='separation_layer_1',\n",
    "            ),\n",
    "            LeakyReLU(alpha=0.1),\n",
    "            Dense(\n",
    "                np.ceil(2 * self.internal_dim / 8.0) * 8,\n",
    "                use_bias=False,\n",
    "                kernel_initializer=tf.keras.initializers.TruncatedNormal(stddev=separation_initializer_stddev),\n",
    "                name='separation_layer_2',\n",
    "            ),\n",
    "            LeakyReLU(alpha=0.1),\n",
    "            Dense(\n",
    "                self.upstream_dim,\n",
    "                use_bias=False,\n",
    "                kernel_initializer=tf.keras.initializers.TruncatedNormal(stddev=separation_initializer_stddev),\n",
    "                name='separation_layer_3',\n",
    "            ),\n",
    "        ]\n",
    "        \n",
    "        self.reconstruction_layers = [\n",
    "            Dense(\n",
    "                np.ceil(2 * self.internal_dim / 8.0) * 8,\n",
    "                use_bias=False,\n",
    "                kernel_initializer=tf.keras.initializers.TruncatedNormal(stddev=reconstruction_initializer_stddev),\n",
    "                name='reconstruction_layer_1',\n",
    "            ),\n",
    "            LeakyReLU(alpha=0.1),\n",
    "            Dense(\n",
    "                np.ceil(2 * self.internal_dim / 8.0) * 8,\n",
    "                use_bias=False,\n",
    "                kernel_initializer=tf.keras.initializers.TruncatedNormal(stddev=reconstruction_initializer_stddev),\n",
    "                name='reconstruction_layer_2',\n",
    "            ),\n",
    "            LeakyReLU(alpha=0.1),\n",
    "            Dense(\n",
    "                self.internal_dim,\n",
    "                use_bias=False,\n",
    "                kernel_initializer=tf.keras.initializers.TruncatedNormal(stddev=reconstruction_initializer_stddev),\n",
    "                name='reconstruction_layer_3',\n",
    "            )\n",
    "        ]\n",
    "        \n",
    "        super(PermanenceSeparatorLayer, self).build(input_shape)\n",
    "     \n",
    "    @tf.function(jit_compile=True)\n",
    "    def reconstruct(self, separated_input, training=False):\n",
    "        # Inject noise to increase robustness.\n",
    "        if self.noise_rate and training:\n",
    "            noise = tf.random.normal(\n",
    "                shape=tf.shape(separated_input),\n",
    "                mean=0.0,\n",
    "                stddev=self.noise_rate/np.sqrt(self.upstream_dim),\n",
    "                dtype=separated_input.dtype,\n",
    "            )\n",
    "            separated_input += tf.stop_gradient(noise)\n",
    "        \n",
    "        enriched_input = separated_input\n",
    "        for l in self.reconstruction_layers:\n",
    "            enriched_input = l(enriched_input)\n",
    "        \n",
    "        return enriched_input\n",
    "    \n",
    "    def call(self, enriched_input, training):        \n",
    "        separated_input = enriched_input\n",
    "        for l in self.separation_layers:\n",
    "            separated_input = l(separated_input)\n",
    "        \n",
    "        # Try to keep the state sparse if we can - this makes the work of upstream layers easier, and encourages\n",
    "        # the encoder to identify distinct recurring patterns in the inputs.\n",
    "        activity_reg = mean_l1_activity(separated_input)\n",
    "        self.add_metric(activity_reg, 'mean_l1_activity')\n",
    "        self.add_loss(0.01 * activity_reg)\n",
    "\n",
    "        return separated_input"
   ]
  },
  {
   "cell_type": "markdown",
   "metadata": {},
   "source": [
    "### Single column type"
   ]
  },
  {
   "cell_type": "code",
   "execution_count": 10,
   "metadata": {},
   "outputs": [],
   "source": [
    "class ColumnSelectorLayer(tf.keras.layers.Layer):\n",
    "    def __init__(self, num_column_instances):\n",
    "        super(ColumnSelectorLayer, self).__init__()\n",
    "    \n",
    "        self.num_column_instances = num_column_instances\n",
    "        \n",
    "    def build(self, input_shape):\n",
    "        self.upstream_dim = input_shape[-1]\n",
    "        \n",
    "        # One query per column instance.\n",
    "        self.instance_queries = self.add_weight(\n",
    "            shape=(self.num_column_instances, self.upstream_dim),\n",
    "            initializer=tf.keras.initializers.TruncatedNormal(mean=0.0, stddev=np.sqrt(2.0 / self.upstream_dim)),\n",
    "            name='instance_queries',\n",
    "            use_resource=True,\n",
    "            trainable=True,\n",
    "        )\n",
    "        \n",
    "        self.instance_sharpness = self.add_weight(\n",
    "            shape=(self.num_column_instances,),\n",
    "            initializer=tf.keras.initializers.Constant(3.0),\n",
    "            name='instance_sharpness',\n",
    "            use_resource=True,\n",
    "            trainable=True,\n",
    "        )\n",
    "        \n",
    "        # How much of the previous instance activation we add to the queries at the next\n",
    "        # time step. This is to facilitate \"lock on\" behavior to improve permanence.\n",
    "        self.stickiness = self.add_weight(\n",
    "            shape=(self.num_column_instances,),\n",
    "            initializer=tf.keras.initializers.Constant(0.1),\n",
    "            constraint=tf.keras.constraints.NonNeg(),\n",
    "            name='stickiness',\n",
    "            use_resource=True,\n",
    "            trainable=True,\n",
    "        )\n",
    "        \n",
    "        super(ColumnSelectorLayer, self).build(input_shape)\n",
    "    \n",
    "    def call(self, upstream_candidates):        \n",
    "        # We propagate selected inputs through time, so enable \"locking on\" to a particular input.\n",
    "        num_time_steps = tf.shape(upstream_candidates)[1]\n",
    "        \n",
    "        selected_inputs_shape_at_t = [tf.shape(upstream_candidates)[0], self.num_column_instances, self.upstream_dim]\n",
    "        \n",
    "        # Initialize to self.queries to have the same magnitude at t=0 as at subsequent time steps\n",
    "        previous_selected_inputs = tf.broadcast_to(self.instance_queries, selected_inputs_shape_at_t)\n",
    "        selected_inputs_buffer = tf.TensorArray(dtype=upstream_candidates.dtype, size=num_time_steps, clear_after_read=True)\n",
    "        for t_idx in tf.range(0, num_time_steps):\n",
    "            upstream_candidates_at_t = upstream_candidates[:, t_idx, :, :]\n",
    "            instance_queries_at_t = (\n",
    "                self.instance_queries +\n",
    "                tf.einsum('I,...ID->...ID', self.stickiness, previous_selected_inputs)\n",
    "            )\n",
    "            instance_queries_at_t = tf.math.l2_normalize(instance_queries_at_t, axis=-1, epsilon=tf.keras.backend.epsilon())\n",
    "            instance_queries_at_t = tf.einsum(\n",
    "                'I,...ID->...ID',\n",
    "                tf.math.exp(self.instance_sharpness),\n",
    "                instance_queries_at_t,\n",
    "            )\n",
    "\n",
    "            # Have each column instance compete for the samples\n",
    "            # Shape: (..., num_samples, upstream_dim), (..., num_column_instances, upstream_dim) -> (..., num_samples, num_column_instances)\n",
    "            instance_interests = tf.einsum('...SD,...ID->...SI', upstream_candidates_at_t, instance_queries_at_t)\n",
    "\n",
    "            # Compute softmax over num_column_instances to \"assign\" each input to one column instance\n",
    "            column_selection = tf.nn.softmax(instance_interests, axis=-1)\n",
    "\n",
    "            # Shape: (..., num_samples, num_column_instances), (..., num_samples, upstream_dim) -> (..., num_column_instances, upstream_dim)\n",
    "            selected_inputs_at_t = tf.einsum('...SI,...SD->...ID', column_selection, upstream_candidates_at_t)\n",
    "\n",
    "            previous_selected_inputs = selected_inputs_at_t\n",
    "            selected_inputs_buffer = selected_inputs_buffer.write(t_idx, selected_inputs_at_t)\n",
    "\n",
    "        # Concatenate the results for each time index back together into a single tensor\n",
    "        # Shape: (num_time_steps, ..., num_column_instances, upstream_dim)\n",
    "        selected_inputs = selected_inputs_buffer.stack()\n",
    "        # Shape: (..., num_time_steps, num_column_instances, upstream_dim)\n",
    "        selected_inputs = tf.transpose(selected_inputs, perm=[1, 0, 2, 3])\n",
    "\n",
    "        return selected_inputs\n",
    "        \n",
    "class ColumnLayer(tf.keras.layers.Layer):\n",
    "    def __init__(\n",
    "        self,\n",
    "        upstream_dim,\n",
    "        num_column_instances,\n",
    "        position_dim,\n",
    "        context_fan_in,\n",
    "        context_num_samples,\n",
    "        context_initial_sharpness,\n",
    "        train_context,\n",
    "        noise_rate,\n",
    "    ):\n",
    "        super(ColumnLayer, self).__init__()\n",
    "\n",
    "        self.upstream_dim = upstream_dim\n",
    "        self.num_column_instances = num_column_instances\n",
    "        self.position_dim = position_dim\n",
    "        self.context_fan_in = context_fan_in\n",
    "        self.context_num_samples = context_num_samples\n",
    "        self.context_initial_sharpness = context_initial_sharpness\n",
    "        self.train_context = train_context\n",
    "        self.noise_rate = noise_rate\n",
    "    \n",
    "    def build(self, input_shape):        \n",
    "        self.context_aggregator = ContextAggregationLayer(\n",
    "            context_fan_in=self.context_fan_in,\n",
    "            position_dim=self.position_dim,\n",
    "            num_samples=self.context_num_samples,\n",
    "            initial_sharpness=self.context_initial_sharpness,\n",
    "            train_context=self.train_context,\n",
    "            # mixed_float16 is supported, but actually runs more slowly on the current architecture.\n",
    "            # dtype='mixed_float16',\n",
    "            dtype='float32',\n",
    "        )\n",
    "        \n",
    "        self.permanence_separator = PermanenceSeparatorLayer(\n",
    "            upstream_dim=self.upstream_dim,\n",
    "            position_dim=self.position_dim,\n",
    "            noise_rate=self.noise_rate,\n",
    "        )\n",
    "        \n",
    "        self.column_selector = ColumnSelectorLayer(\n",
    "            num_column_instances=self.num_column_instances,\n",
    "        )\n",
    "        \n",
    "        super(ColumnLayer, self).build(input_shape)\n",
    "    \n",
    "    def reconstruct(self, upstream_state):\n",
    "        reconstruction = self.permanence_separator.reconstruct(upstream_state)\n",
    "        reconstruction = self.context_aggregator.reconstruct(reconstruction)\n",
    "        return reconstruction\n",
    "    \n",
    "    def call(self, downstream_input, training):\n",
    "        # Aggregate contexts\n",
    "        enriched_input = self.context_aggregator(downstream_input)\n",
    "        \n",
    "        # Compute upstream state candidates by converting inputs into their permanence-separated representations\n",
    "        upstream_candidates = self.permanence_separator(enriched_input)\n",
    "\n",
    "        # Select a finite set of them\n",
    "        upstream_state = self.column_selector(upstream_candidates)\n",
    "\n",
    "        # Compute a reconstruction of the downstream input\n",
    "        reconstruction = self.permanence_separator.reconstruct(upstream_state, training=training)\n",
    "        reconstruction = self.context_aggregator.reconstruct(reconstruction)\n",
    "        \n",
    "        return [upstream_state, reconstruction]"
   ]
  },
  {
   "cell_type": "markdown",
   "metadata": {},
   "source": [
    "### Multi-column overall layer"
   ]
  },
  {
   "cell_type": "code",
   "execution_count": 74,
   "metadata": {},
   "outputs": [],
   "source": [
    "def compute_change_non_sparseness(cur_state, future_states, bias, diff_scale_factor):    \n",
    "    diff = future_states - cur_state\n",
    "    l1 = l1_norm(diff, axis=-1)\n",
    "    # Minimum is to avoid negative values due to the espilon in stable_norm\n",
    "    l2 = tf.minimum(l1, stable_norm(diff, axis=-1))\n",
    "\n",
    "    non_sparseness = (l1 + bias) / (l2 + bias) - 1.0\n",
    "    \n",
    "    # Also slightly penalize the absolute scale of the difference.\n",
    "    # If we don't have this regularizer, then networks can easily learn to bypass the permanence loss\n",
    "    # by creating a single component that responds to minor noise and changes with large magnitude, thereby\n",
    "    # making change always look sparse.\n",
    "    lin_scale = l1\n",
    "    sq_scale = tf.reduce_sum(tf.square(diff), axis=-1)\n",
    "    \n",
    "    return non_sparseness + diff_scale_factor * (lin_scale + sq_scale)\n",
    "\n",
    "def compute_permanence_loss(cur_upstream_state, future_upstream_states, cur_reconstruction, future_reconstructions):\n",
    "    cur_upstream_state = tf.cast(cur_upstream_state, tf.float32)\n",
    "    future_upstream_states = tf.cast(future_upstream_states, tf.float32)\n",
    "    # Reconstruction differences are used for normalization of the permanence loss. The bigger the\n",
    "    # reconstruction difference, the more weight we give the the permanence loss. This supports early\n",
    "    # convergence of the network, as it only starts applying permanence loss pressure as the network\n",
    "    # starts reconstructing differences between states.\n",
    "    cur_reconstruction = tf.cast(tf.stop_gradient(cur_reconstruction), tf.float32)\n",
    "    future_reconstructions = tf.cast(tf.stop_gradient(future_reconstructions), tf.float32)\n",
    "    \n",
    "    bias = 0.1\n",
    "    diff_scale_factor = 0.1\n",
    "    \n",
    "    upstream_non_sparseness = tf.reduce_mean(\n",
    "        compute_change_non_sparseness(\n",
    "            cur_upstream_state,\n",
    "            future_upstream_states,\n",
    "            bias=bias,\n",
    "            diff_scale_factor=diff_scale_factor,\n",
    "        ),\n",
    "        axis=-1,\n",
    "    )\n",
    "    \n",
    "    reconstruction_diff_scale = tf.reduce_mean(stable_norm(future_reconstructions - cur_reconstruction, axis=-1))\n",
    "    \n",
    "    scaled_non_sparseness = reconstruction_diff_scale * upstream_non_sparseness\n",
    "    \n",
    "    return tf.reduce_mean(scaled_non_sparseness)\n",
    "\n",
    "class PtolemyLayer(tf.keras.layers.Layer):\n",
    "    def __init__(\n",
    "        self,\n",
    "        num_channels,\n",
    "        num_instances_per_channel,\n",
    "        context_fan_in,\n",
    "        upstream_dim,\n",
    "        position_dim,\n",
    "        stride=1,\n",
    "        permanence_loss_rho=0.1,\n",
    "        initial_sharpness=3.0,\n",
    "        noise_rate=0.1,\n",
    "        train_context=True,\n",
    "        add_default=False,\n",
    "        train_default=True,\n",
    "    ):\n",
    "        super(PtolemyLayer, self).__init__()\n",
    "        \n",
    "        self.num_channels = num_channels\n",
    "        self.num_instances_per_channel = num_instances_per_channel\n",
    "        self.context_fan_in = context_fan_in\n",
    "        self.upstream_dim = upstream_dim\n",
    "        self.position_dim = position_dim\n",
    "        self.stride = stride\n",
    "        self.permanence_loss_rho = permanence_loss_rho\n",
    "        self.initial_sharpness = initial_sharpness\n",
    "        self.noise_rate = noise_rate\n",
    "        self.train_context = train_context\n",
    "        self.add_default = add_default\n",
    "        self.train_default = train_default\n",
    "    \n",
    "    def get_config(self):\n",
    "        return {\n",
    "            'num_channels': self.num_channels,\n",
    "            'num_instances_per_channel': self.num_instances_per_channel,\n",
    "            'context_fan_in': self.context_fan_in,\n",
    "            'upstream_dim': self.upstream_dim,\n",
    "            'position_dim': self.position_dim,\n",
    "            'stride': self.stride,\n",
    "            'permanence_loss_rho': self.permanence_loss_rho,\n",
    "            'initial_sharpness': self.initial_sharpness,\n",
    "            'noise_rate': self.noise_rate,\n",
    "            'train_context': self.train_context,\n",
    "            'add_default': self.add_default,\n",
    "            'train_default': self.train_default,\n",
    "        }\n",
    "    \n",
    "    def build(self, input_shape):\n",
    "        self.downstream_num = input_shape[-2]\n",
    "        self.downstream_dim = input_shape[-1]\n",
    "        \n",
    "        num_samples = int(self.downstream_num / self.stride)\n",
    "        \n",
    "        self.columns = []\n",
    "        for c in range(0, self.num_channels):\n",
    "            self.columns.append(\n",
    "                ColumnLayer(\n",
    "                    upstream_dim=self.upstream_dim,\n",
    "                    num_column_instances=self.num_instances_per_channel,\n",
    "                    position_dim=self.position_dim,\n",
    "                    context_fan_in=self.context_fan_in,\n",
    "                    context_num_samples=num_samples,\n",
    "                    context_initial_sharpness=self.initial_sharpness,\n",
    "                    train_context=self.train_context,\n",
    "                    noise_rate=self.noise_rate,\n",
    "                )\n",
    "            )\n",
    "        \n",
    "        if self.add_default:\n",
    "            self.default = self.add_weight(\n",
    "                shape=(self.downstream_num, self.downstream_dim),\n",
    "                trainable=self.train_default,\n",
    "                initializer=tf.keras.initializers.Zeros(),\n",
    "                use_resource=True,\n",
    "                name='default',\n",
    "            )\n",
    "        else:\n",
    "            self.default = None\n",
    "        \n",
    "        super(PtolemyLayer, self).build(input_shape)\n",
    "    \n",
    "    @tf.function(jit_compile=True)\n",
    "    def reconstruct(self, upstream_state):\n",
    "        upstream_states = tf.split(upstream_state, self.num_channels, axis=-2)\n",
    "        channel_reconstructions = []\n",
    "        for c in range(0, self.num_channels):\n",
    "            channel_reconstruction = self.columns[c].reconstruct(upstream_states[c])\n",
    "            channel_reconstructions.append(channel_reconstruction)\n",
    "            \n",
    "        reconstruction = self.reconstruct_from_channel_reconstructions(channel_reconstructions)\n",
    "        \n",
    "        return reconstruction\n",
    "    \n",
    "    def reconstruct_from_channel_reconstructions(self, channel_reconstructions):       \n",
    "        reconstruction = tf.math.add_n(channel_reconstructions)\n",
    "\n",
    "        if self.add_default:\n",
    "            reconstruction += tf.cast(self.default, self.compute_dtype)\n",
    "        \n",
    "        return reconstruction\n",
    "    \n",
    "    def call(self, downstream_input, training=False):\n",
    "        if self.add_default and not self.train_default:\n",
    "            # Update default to be the mean of the inputs\n",
    "            batch_mean = tf.reduce_mean(tf.reduce_mean(tf.cast(downstream_input, tf.float32), axis=0), axis=0)\n",
    "            if training:\n",
    "                self.default.assign(0.9 * tf.cast(self.default, tf.float32) + 0.1 * batch_mean)\n",
    "    \n",
    "        upstream_states = []\n",
    "        channel_reconstructions = []\n",
    "        for c in range(0, self.num_channels):\n",
    "            upstream_state, channel_reconstruction = self.columns[c](\n",
    "                downstream_input,\n",
    "            )\n",
    " \n",
    "            upstream_states.append(upstream_state)\n",
    "            channel_reconstructions.append(channel_reconstruction)\n",
    "        \n",
    "        upstream_state = tf.concat(upstream_states, axis=-2)\n",
    "        reconstruction = self.reconstruct_from_channel_reconstructions(channel_reconstructions)\n",
    "\n",
    "        if self.permanence_loss_rho:\n",
    "            # Compute pairwise permanence losses of all time steps compared to the 0th step\n",
    "            permanence_loss = compute_permanence_loss(\n",
    "                upstream_state[:, :1],\n",
    "                upstream_state[:, 1:],\n",
    "                reconstruction[:, :1],\n",
    "                reconstruction[:, 1:],\n",
    "            )\n",
    "            self.add_metric(permanence_loss, 'permanence_loss')\n",
    "            self.add_loss(self.permanence_loss_rho * permanence_loss)\n",
    "        \n",
    "        reconstruction_error = compute_full_reconstruction_error(tf.stop_gradient(downstream_input), reconstruction)\n",
    "        self.add_metric(reconstruction_error, 'reconstruction_error')\n",
    "        self.add_loss(reconstruction_error)\n",
    "        \n",
    "        scale_error = compute_scale_error(downstream_input, reconstruction)\n",
    "        self.add_metric(scale_error, 'scale_error')\n",
    "        self.add_loss(0.1 * scale_error)\n",
    "\n",
    "        return [upstream_state, reconstruction]"
   ]
  },
  {
   "cell_type": "markdown",
   "metadata": {},
   "source": [
    "# Model"
   ]
  },
  {
   "cell_type": "code",
   "execution_count": 75,
   "metadata": {
    "scrolled": true
   },
   "outputs": [],
   "source": [
    "inp = Input(shape=(3, x_size * y_size, 2))\n",
    "l1 = PtolemyLayer(\n",
    "   num_channels=1,\n",
    "   num_instances_per_channel=16,\n",
    "   context_fan_in=32,\n",
    "   upstream_dim=40,\n",
    "   position_dim=32,\n",
    "   stride=5,\n",
    "   permanence_loss_rho=0.1,\n",
    "   initial_sharpness=3.0,\n",
    "   add_default=True,\n",
    "   noise_rate=0.1,\n",
    ")\n",
    "\n",
    "upstream_state_1, downstream_reconstruction_1 = l1(inp)\n",
    "\n",
    "upstream_state = upstream_state_1\n",
    "downstream_reconstruction = downstream_reconstruction_1"
   ]
  },
  {
   "cell_type": "code",
   "execution_count": 76,
   "metadata": {
    "scrolled": true
   },
   "outputs": [
    {
     "name": "stdout",
     "output_type": "stream",
     "text": [
      "Model: \"model_19\"\n",
      "_________________________________________________________________\n",
      " Layer (type)                Output Shape              Param #   \n",
      "=================================================================\n",
      " input_13 (InputLayer)       [(None, 3, 2500, 2)]      0         \n",
      "                                                                 \n",
      " ptolemy_layer_12 (PtolemyL  [(None, None, 16, 40),    244424    \n",
      " ayer)                        (None, None, 2500, 2)]             \n",
      "                                                                 \n",
      "=================================================================\n",
      "Total params: 244424 (954.78 KB)\n",
      "Trainable params: 244424 (954.78 KB)\n",
      "Non-trainable params: 0 (0.00 Byte)\n",
      "_________________________________________________________________\n"
     ]
    }
   ],
   "source": [
    "reconstruction_model = tf.keras.models.Model(inputs=[inp], outputs=downstream_reconstruction)\n",
    "upstream_state_model = tf.keras.models.Model(inputs=[inp], outputs=upstream_state)\n",
    "\n",
    "@tf.function\n",
    "def zero_loss(t, p):\n",
    "    return 0.0\n",
    "\n",
    "optimizer = tf.keras.optimizers.Adam(\n",
    "    learning_rate = 0.001,\n",
    "    #clipnorm=0.1,\n",
    ")\n",
    "#optimizer = tf.keras.mixed_precision.LossScaleOptimizer(optimizer)\n",
    "reconstruction_model.compile(\n",
    "    loss = zero_loss,\n",
    "    optimizer = optimizer,\n",
    "    metrics = ['cosine_similarity'],\n",
    ")\n",
    "reconstruction_model.summary()"
   ]
  },
  {
   "cell_type": "code",
   "execution_count": 94,
   "metadata": {
    "scrolled": true
   },
   "outputs": [
    {
     "name": "stdout",
     "output_type": "stream",
     "text": [
      "Epoch 1/128\n",
      " 36/125 [=======>......................] - ETA: 16s - loss: 0.1466 - cosine_similarity: 0.9593 - permanence_loss: 0.2344 - reconstruction_error: 0.1022 - scale_error: 0.1855 - mean_l1_activity: 0.2361"
     ]
    },
    {
     "ename": "KeyboardInterrupt",
     "evalue": "",
     "output_type": "error",
     "traceback": [
      "\u001b[0;31m---------------------------------------------------------------------------\u001b[0m",
      "\u001b[0;31mKeyboardInterrupt\u001b[0m                         Traceback (most recent call last)",
      "\u001b[0;32m<ipython-input-94-78935678a11f>\u001b[0m in \u001b[0;36m<module>\u001b[0;34m\u001b[0m\n\u001b[1;32m      5\u001b[0m \u001b[0mX_1\u001b[0m \u001b[0;34m=\u001b[0m \u001b[0mnp\u001b[0m\u001b[0;34m.\u001b[0m\u001b[0mconcatenate\u001b[0m\u001b[0;34m(\u001b[0m\u001b[0;34m(\u001b[0m\u001b[0mX\u001b[0m\u001b[0;34m,\u001b[0m \u001b[0mX2\u001b[0m\u001b[0;34m)\u001b[0m\u001b[0;34m)\u001b[0m\u001b[0;34m\u001b[0m\u001b[0;34m\u001b[0m\u001b[0m\n\u001b[1;32m      6\u001b[0m \u001b[0;31m#X_1 = X\u001b[0m\u001b[0;34m\u001b[0m\u001b[0;34m\u001b[0m\u001b[0;34m\u001b[0m\u001b[0m\n\u001b[0;32m----> 7\u001b[0;31m \u001b[0mhistory\u001b[0m \u001b[0;34m=\u001b[0m \u001b[0mreconstruction_model\u001b[0m\u001b[0;34m.\u001b[0m\u001b[0mfit\u001b[0m\u001b[0;34m(\u001b[0m\u001b[0;34m[\u001b[0m\u001b[0mX_1\u001b[0m\u001b[0;34m]\u001b[0m\u001b[0;34m,\u001b[0m \u001b[0mX_1\u001b[0m\u001b[0;34m,\u001b[0m \u001b[0mepochs\u001b[0m\u001b[0;34m=\u001b[0m\u001b[0;36m128\u001b[0m\u001b[0;34m,\u001b[0m \u001b[0mbatch_size\u001b[0m\u001b[0;34m=\u001b[0m\u001b[0;36m64\u001b[0m\u001b[0;34m,\u001b[0m \u001b[0mcallbacks\u001b[0m\u001b[0;34m=\u001b[0m\u001b[0;34m[\u001b[0m\u001b[0mtensorboard_callback\u001b[0m\u001b[0;34m]\u001b[0m\u001b[0;34m)\u001b[0m\u001b[0;34m\u001b[0m\u001b[0;34m\u001b[0m\u001b[0m\n\u001b[0m\u001b[1;32m      8\u001b[0m \u001b[0mtf\u001b[0m\u001b[0;34m.\u001b[0m\u001b[0mconfig\u001b[0m\u001b[0;34m.\u001b[0m\u001b[0mexperimental\u001b[0m\u001b[0;34m.\u001b[0m\u001b[0mget_memory_info\u001b[0m\u001b[0;34m(\u001b[0m\u001b[0;34m'GPU:0'\u001b[0m\u001b[0;34m)\u001b[0m\u001b[0;34m\u001b[0m\u001b[0;34m\u001b[0m\u001b[0m\n",
      "\u001b[0;32m~/.local/lib/python3.8/site-packages/keras/src/utils/traceback_utils.py\u001b[0m in \u001b[0;36merror_handler\u001b[0;34m(*args, **kwargs)\u001b[0m\n\u001b[1;32m     63\u001b[0m         \u001b[0mfiltered_tb\u001b[0m \u001b[0;34m=\u001b[0m \u001b[0;32mNone\u001b[0m\u001b[0;34m\u001b[0m\u001b[0;34m\u001b[0m\u001b[0m\n\u001b[1;32m     64\u001b[0m         \u001b[0;32mtry\u001b[0m\u001b[0;34m:\u001b[0m\u001b[0;34m\u001b[0m\u001b[0;34m\u001b[0m\u001b[0m\n\u001b[0;32m---> 65\u001b[0;31m             \u001b[0;32mreturn\u001b[0m \u001b[0mfn\u001b[0m\u001b[0;34m(\u001b[0m\u001b[0;34m*\u001b[0m\u001b[0margs\u001b[0m\u001b[0;34m,\u001b[0m \u001b[0;34m**\u001b[0m\u001b[0mkwargs\u001b[0m\u001b[0;34m)\u001b[0m\u001b[0;34m\u001b[0m\u001b[0;34m\u001b[0m\u001b[0m\n\u001b[0m\u001b[1;32m     66\u001b[0m         \u001b[0;32mexcept\u001b[0m \u001b[0mException\u001b[0m \u001b[0;32mas\u001b[0m \u001b[0me\u001b[0m\u001b[0;34m:\u001b[0m\u001b[0;34m\u001b[0m\u001b[0;34m\u001b[0m\u001b[0m\n\u001b[1;32m     67\u001b[0m             \u001b[0mfiltered_tb\u001b[0m \u001b[0;34m=\u001b[0m \u001b[0m_process_traceback_frames\u001b[0m\u001b[0;34m(\u001b[0m\u001b[0me\u001b[0m\u001b[0;34m.\u001b[0m\u001b[0m__traceback__\u001b[0m\u001b[0;34m)\u001b[0m\u001b[0;34m\u001b[0m\u001b[0;34m\u001b[0m\u001b[0m\n",
      "\u001b[0;32m~/.local/lib/python3.8/site-packages/keras/src/engine/training.py\u001b[0m in \u001b[0;36mfit\u001b[0;34m(self, x, y, batch_size, epochs, verbose, callbacks, validation_split, validation_data, shuffle, class_weight, sample_weight, initial_epoch, steps_per_epoch, validation_steps, validation_batch_size, validation_freq, max_queue_size, workers, use_multiprocessing)\u001b[0m\n\u001b[1;32m   1740\u001b[0m                         ):\n\u001b[1;32m   1741\u001b[0m                             \u001b[0mcallbacks\u001b[0m\u001b[0;34m.\u001b[0m\u001b[0mon_train_batch_begin\u001b[0m\u001b[0;34m(\u001b[0m\u001b[0mstep\u001b[0m\u001b[0;34m)\u001b[0m\u001b[0;34m\u001b[0m\u001b[0;34m\u001b[0m\u001b[0m\n\u001b[0;32m-> 1742\u001b[0;31m                             \u001b[0mtmp_logs\u001b[0m \u001b[0;34m=\u001b[0m \u001b[0mself\u001b[0m\u001b[0;34m.\u001b[0m\u001b[0mtrain_function\u001b[0m\u001b[0;34m(\u001b[0m\u001b[0miterator\u001b[0m\u001b[0;34m)\u001b[0m\u001b[0;34m\u001b[0m\u001b[0;34m\u001b[0m\u001b[0m\n\u001b[0m\u001b[1;32m   1743\u001b[0m                             \u001b[0;32mif\u001b[0m \u001b[0mdata_handler\u001b[0m\u001b[0;34m.\u001b[0m\u001b[0mshould_sync\u001b[0m\u001b[0;34m:\u001b[0m\u001b[0;34m\u001b[0m\u001b[0;34m\u001b[0m\u001b[0m\n\u001b[1;32m   1744\u001b[0m                                 \u001b[0mcontext\u001b[0m\u001b[0;34m.\u001b[0m\u001b[0masync_wait\u001b[0m\u001b[0;34m(\u001b[0m\u001b[0;34m)\u001b[0m\u001b[0;34m\u001b[0m\u001b[0;34m\u001b[0m\u001b[0m\n",
      "\u001b[0;32m~/.local/lib/python3.8/site-packages/tensorflow/python/util/traceback_utils.py\u001b[0m in \u001b[0;36merror_handler\u001b[0;34m(*args, **kwargs)\u001b[0m\n\u001b[1;32m    148\u001b[0m     \u001b[0mfiltered_tb\u001b[0m \u001b[0;34m=\u001b[0m \u001b[0;32mNone\u001b[0m\u001b[0;34m\u001b[0m\u001b[0;34m\u001b[0m\u001b[0m\n\u001b[1;32m    149\u001b[0m     \u001b[0;32mtry\u001b[0m\u001b[0;34m:\u001b[0m\u001b[0;34m\u001b[0m\u001b[0;34m\u001b[0m\u001b[0m\n\u001b[0;32m--> 150\u001b[0;31m       \u001b[0;32mreturn\u001b[0m \u001b[0mfn\u001b[0m\u001b[0;34m(\u001b[0m\u001b[0;34m*\u001b[0m\u001b[0margs\u001b[0m\u001b[0;34m,\u001b[0m \u001b[0;34m**\u001b[0m\u001b[0mkwargs\u001b[0m\u001b[0;34m)\u001b[0m\u001b[0;34m\u001b[0m\u001b[0;34m\u001b[0m\u001b[0m\n\u001b[0m\u001b[1;32m    151\u001b[0m     \u001b[0;32mexcept\u001b[0m \u001b[0mException\u001b[0m \u001b[0;32mas\u001b[0m \u001b[0me\u001b[0m\u001b[0;34m:\u001b[0m\u001b[0;34m\u001b[0m\u001b[0;34m\u001b[0m\u001b[0m\n\u001b[1;32m    152\u001b[0m       \u001b[0mfiltered_tb\u001b[0m \u001b[0;34m=\u001b[0m \u001b[0m_process_traceback_frames\u001b[0m\u001b[0;34m(\u001b[0m\u001b[0me\u001b[0m\u001b[0;34m.\u001b[0m\u001b[0m__traceback__\u001b[0m\u001b[0;34m)\u001b[0m\u001b[0;34m\u001b[0m\u001b[0;34m\u001b[0m\u001b[0m\n",
      "\u001b[0;32m~/.local/lib/python3.8/site-packages/tensorflow/python/eager/polymorphic_function/polymorphic_function.py\u001b[0m in \u001b[0;36m__call__\u001b[0;34m(self, *args, **kwds)\u001b[0m\n\u001b[1;32m    823\u001b[0m \u001b[0;34m\u001b[0m\u001b[0m\n\u001b[1;32m    824\u001b[0m       \u001b[0;32mwith\u001b[0m \u001b[0mOptionalXlaContext\u001b[0m\u001b[0;34m(\u001b[0m\u001b[0mself\u001b[0m\u001b[0;34m.\u001b[0m\u001b[0m_jit_compile\u001b[0m\u001b[0;34m)\u001b[0m\u001b[0;34m:\u001b[0m\u001b[0;34m\u001b[0m\u001b[0;34m\u001b[0m\u001b[0m\n\u001b[0;32m--> 825\u001b[0;31m         \u001b[0mresult\u001b[0m \u001b[0;34m=\u001b[0m \u001b[0mself\u001b[0m\u001b[0;34m.\u001b[0m\u001b[0m_call\u001b[0m\u001b[0;34m(\u001b[0m\u001b[0;34m*\u001b[0m\u001b[0margs\u001b[0m\u001b[0;34m,\u001b[0m \u001b[0;34m**\u001b[0m\u001b[0mkwds\u001b[0m\u001b[0;34m)\u001b[0m\u001b[0;34m\u001b[0m\u001b[0;34m\u001b[0m\u001b[0m\n\u001b[0m\u001b[1;32m    826\u001b[0m \u001b[0;34m\u001b[0m\u001b[0m\n\u001b[1;32m    827\u001b[0m       \u001b[0mnew_tracing_count\u001b[0m \u001b[0;34m=\u001b[0m \u001b[0mself\u001b[0m\u001b[0;34m.\u001b[0m\u001b[0mexperimental_get_tracing_count\u001b[0m\u001b[0;34m(\u001b[0m\u001b[0;34m)\u001b[0m\u001b[0;34m\u001b[0m\u001b[0;34m\u001b[0m\u001b[0m\n",
      "\u001b[0;32m~/.local/lib/python3.8/site-packages/tensorflow/python/eager/polymorphic_function/polymorphic_function.py\u001b[0m in \u001b[0;36m_call\u001b[0;34m(self, *args, **kwds)\u001b[0m\n\u001b[1;32m    855\u001b[0m       \u001b[0;31m# In this case we have created variables on the first call, so we run the\u001b[0m\u001b[0;34m\u001b[0m\u001b[0;34m\u001b[0m\u001b[0;34m\u001b[0m\u001b[0m\n\u001b[1;32m    856\u001b[0m       \u001b[0;31m# defunned version which is guaranteed to never create variables.\u001b[0m\u001b[0;34m\u001b[0m\u001b[0;34m\u001b[0m\u001b[0;34m\u001b[0m\u001b[0m\n\u001b[0;32m--> 857\u001b[0;31m       \u001b[0;32mreturn\u001b[0m \u001b[0mself\u001b[0m\u001b[0;34m.\u001b[0m\u001b[0m_no_variable_creation_fn\u001b[0m\u001b[0;34m(\u001b[0m\u001b[0;34m*\u001b[0m\u001b[0margs\u001b[0m\u001b[0;34m,\u001b[0m \u001b[0;34m**\u001b[0m\u001b[0mkwds\u001b[0m\u001b[0;34m)\u001b[0m  \u001b[0;31m# pylint: disable=not-callable\u001b[0m\u001b[0;34m\u001b[0m\u001b[0;34m\u001b[0m\u001b[0m\n\u001b[0m\u001b[1;32m    858\u001b[0m     \u001b[0;32melif\u001b[0m \u001b[0mself\u001b[0m\u001b[0;34m.\u001b[0m\u001b[0m_variable_creation_fn\u001b[0m \u001b[0;32mis\u001b[0m \u001b[0;32mnot\u001b[0m \u001b[0;32mNone\u001b[0m\u001b[0;34m:\u001b[0m\u001b[0;34m\u001b[0m\u001b[0;34m\u001b[0m\u001b[0m\n\u001b[1;32m    859\u001b[0m       \u001b[0;31m# Release the lock early so that multiple threads can perform the call\u001b[0m\u001b[0;34m\u001b[0m\u001b[0;34m\u001b[0m\u001b[0;34m\u001b[0m\u001b[0m\n",
      "\u001b[0;32m~/.local/lib/python3.8/site-packages/tensorflow/python/eager/polymorphic_function/tracing_compiler.py\u001b[0m in \u001b[0;36m__call__\u001b[0;34m(self, *args, **kwargs)\u001b[0m\n\u001b[1;32m    146\u001b[0m       (concrete_function,\n\u001b[1;32m    147\u001b[0m        filtered_flat_args) = self._maybe_define_function(args, kwargs)\n\u001b[0;32m--> 148\u001b[0;31m     return concrete_function._call_flat(\n\u001b[0m\u001b[1;32m    149\u001b[0m         filtered_flat_args, captured_inputs=concrete_function.captured_inputs)  # pylint: disable=protected-access\n\u001b[1;32m    150\u001b[0m \u001b[0;34m\u001b[0m\u001b[0m\n",
      "\u001b[0;32m~/.local/lib/python3.8/site-packages/tensorflow/python/eager/polymorphic_function/monomorphic_function.py\u001b[0m in \u001b[0;36m_call_flat\u001b[0;34m(self, args, captured_inputs)\u001b[0m\n\u001b[1;32m   1347\u001b[0m         and executing_eagerly):\n\u001b[1;32m   1348\u001b[0m       \u001b[0;31m# No tape is watching; skip to running the function.\u001b[0m\u001b[0;34m\u001b[0m\u001b[0;34m\u001b[0m\u001b[0;34m\u001b[0m\u001b[0m\n\u001b[0;32m-> 1349\u001b[0;31m       \u001b[0;32mreturn\u001b[0m \u001b[0mself\u001b[0m\u001b[0;34m.\u001b[0m\u001b[0m_build_call_outputs\u001b[0m\u001b[0;34m(\u001b[0m\u001b[0mself\u001b[0m\u001b[0;34m.\u001b[0m\u001b[0m_inference_function\u001b[0m\u001b[0;34m(\u001b[0m\u001b[0;34m*\u001b[0m\u001b[0margs\u001b[0m\u001b[0;34m)\u001b[0m\u001b[0;34m)\u001b[0m\u001b[0;34m\u001b[0m\u001b[0;34m\u001b[0m\u001b[0m\n\u001b[0m\u001b[1;32m   1350\u001b[0m     forward_backward = self._select_forward_and_backward_functions(\n\u001b[1;32m   1351\u001b[0m         \u001b[0margs\u001b[0m\u001b[0;34m,\u001b[0m\u001b[0;34m\u001b[0m\u001b[0;34m\u001b[0m\u001b[0m\n",
      "\u001b[0;32m~/.local/lib/python3.8/site-packages/tensorflow/python/eager/polymorphic_function/atomic_function.py\u001b[0m in \u001b[0;36m__call__\u001b[0;34m(self, *args)\u001b[0m\n\u001b[1;32m    194\u001b[0m         \u001b[0;32mwith\u001b[0m \u001b[0mrecord\u001b[0m\u001b[0;34m.\u001b[0m\u001b[0mstop_recording\u001b[0m\u001b[0;34m(\u001b[0m\u001b[0;34m)\u001b[0m\u001b[0;34m:\u001b[0m\u001b[0;34m\u001b[0m\u001b[0;34m\u001b[0m\u001b[0m\n\u001b[1;32m    195\u001b[0m           \u001b[0;32mif\u001b[0m \u001b[0mself\u001b[0m\u001b[0;34m.\u001b[0m\u001b[0m_bound_context\u001b[0m\u001b[0;34m.\u001b[0m\u001b[0mexecuting_eagerly\u001b[0m\u001b[0;34m(\u001b[0m\u001b[0;34m)\u001b[0m\u001b[0;34m:\u001b[0m\u001b[0;34m\u001b[0m\u001b[0;34m\u001b[0m\u001b[0m\n\u001b[0;32m--> 196\u001b[0;31m             outputs = self._bound_context.call_function(\n\u001b[0m\u001b[1;32m    197\u001b[0m                 \u001b[0mself\u001b[0m\u001b[0;34m.\u001b[0m\u001b[0mname\u001b[0m\u001b[0;34m,\u001b[0m\u001b[0;34m\u001b[0m\u001b[0;34m\u001b[0m\u001b[0m\n\u001b[1;32m    198\u001b[0m                 \u001b[0mlist\u001b[0m\u001b[0;34m(\u001b[0m\u001b[0margs\u001b[0m\u001b[0;34m)\u001b[0m\u001b[0;34m,\u001b[0m\u001b[0;34m\u001b[0m\u001b[0;34m\u001b[0m\u001b[0m\n",
      "\u001b[0;32m~/.local/lib/python3.8/site-packages/tensorflow/python/eager/context.py\u001b[0m in \u001b[0;36mcall_function\u001b[0;34m(self, name, tensor_inputs, num_outputs)\u001b[0m\n\u001b[1;32m   1455\u001b[0m     \u001b[0mcancellation_context\u001b[0m \u001b[0;34m=\u001b[0m \u001b[0mcancellation\u001b[0m\u001b[0;34m.\u001b[0m\u001b[0mcontext\u001b[0m\u001b[0;34m(\u001b[0m\u001b[0;34m)\u001b[0m\u001b[0;34m\u001b[0m\u001b[0;34m\u001b[0m\u001b[0m\n\u001b[1;32m   1456\u001b[0m     \u001b[0;32mif\u001b[0m \u001b[0mcancellation_context\u001b[0m \u001b[0;32mis\u001b[0m \u001b[0;32mNone\u001b[0m\u001b[0;34m:\u001b[0m\u001b[0;34m\u001b[0m\u001b[0;34m\u001b[0m\u001b[0m\n\u001b[0;32m-> 1457\u001b[0;31m       outputs = execute.execute(\n\u001b[0m\u001b[1;32m   1458\u001b[0m           \u001b[0mname\u001b[0m\u001b[0;34m.\u001b[0m\u001b[0mdecode\u001b[0m\u001b[0;34m(\u001b[0m\u001b[0;34m\"utf-8\"\u001b[0m\u001b[0;34m)\u001b[0m\u001b[0;34m,\u001b[0m\u001b[0;34m\u001b[0m\u001b[0;34m\u001b[0m\u001b[0m\n\u001b[1;32m   1459\u001b[0m           \u001b[0mnum_outputs\u001b[0m\u001b[0;34m=\u001b[0m\u001b[0mnum_outputs\u001b[0m\u001b[0;34m,\u001b[0m\u001b[0;34m\u001b[0m\u001b[0;34m\u001b[0m\u001b[0m\n",
      "\u001b[0;32m~/.local/lib/python3.8/site-packages/tensorflow/python/eager/execute.py\u001b[0m in \u001b[0;36mquick_execute\u001b[0;34m(op_name, num_outputs, inputs, attrs, ctx, name)\u001b[0m\n\u001b[1;32m     51\u001b[0m   \u001b[0;32mtry\u001b[0m\u001b[0;34m:\u001b[0m\u001b[0;34m\u001b[0m\u001b[0;34m\u001b[0m\u001b[0m\n\u001b[1;32m     52\u001b[0m     \u001b[0mctx\u001b[0m\u001b[0;34m.\u001b[0m\u001b[0mensure_initialized\u001b[0m\u001b[0;34m(\u001b[0m\u001b[0;34m)\u001b[0m\u001b[0;34m\u001b[0m\u001b[0;34m\u001b[0m\u001b[0m\n\u001b[0;32m---> 53\u001b[0;31m     tensors = pywrap_tfe.TFE_Py_Execute(ctx._handle, device_name, op_name,\n\u001b[0m\u001b[1;32m     54\u001b[0m                                         inputs, attrs, num_outputs)\n\u001b[1;32m     55\u001b[0m   \u001b[0;32mexcept\u001b[0m \u001b[0mcore\u001b[0m\u001b[0;34m.\u001b[0m\u001b[0m_NotOkStatusException\u001b[0m \u001b[0;32mas\u001b[0m \u001b[0me\u001b[0m\u001b[0;34m:\u001b[0m\u001b[0;34m\u001b[0m\u001b[0;34m\u001b[0m\u001b[0m\n",
      "\u001b[0;31mKeyboardInterrupt\u001b[0m: "
     ]
    }
   ],
   "source": [
    "log_dir = \"ptolemynet_logs/fit_layer1/\" + datetime.datetime.now().strftime(\"%Y%m%d-%H%M%S\")\n",
    "tensorboard_callback = tf.keras.callbacks.TensorBoard(log_dir=log_dir, histogram_freq=1, write_images=True)\n",
    "\n",
    "tf.config.experimental.reset_memory_stats('GPU:0')\n",
    "X_1 = np.concatenate((X, X2))\n",
    "#X_1 = X\n",
    "history = reconstruction_model.fit([X_1], X_1, epochs=128, batch_size=64, callbacks=[tensorboard_callback])\n",
    "tf.config.experimental.get_memory_info('GPU:0')"
   ]
  },
  {
   "cell_type": "code",
   "execution_count": null,
   "metadata": {},
   "outputs": [],
   "source": [
    "#reconstruction_model.save('ptolemy_model_saves/2021-11-18_PtolemyNet31_mnist_layer1')"
   ]
  },
  {
   "cell_type": "code",
   "execution_count": 91,
   "metadata": {},
   "outputs": [
    {
     "name": "stdout",
     "output_type": "stream",
     "text": [
      "context sharpness [2.6464388 3.1983836 2.9100325 2.908774  2.958603  2.8402886 3.1335518\n",
      " 2.5074396 3.4335823 3.3292294 3.3852327 3.0921822 3.609473  2.9546738\n",
      " 3.1735432 3.453924  3.5433795 3.240994  3.2846622 3.2769117 3.5754757\n",
      " 3.6122873 2.6800134 3.3666742 2.9932966 2.1760802 3.3854496 3.1166945\n",
      " 3.0654547 3.529062  3.3832684 3.5040305]\n",
      "instance_sharpness [3.7654607 4.4656286 7.02694   3.5745468 7.6222906 7.3514233 7.528465\n",
      " 4.6192775 3.6535516 7.630462  7.173425  4.0367136 4.1028047 7.5123277\n",
      " 7.286149  6.973825 ]\n",
      "stickiness [ 0.00059343  0.00214174  0.41838312  0.00424639  0.03782145  0.4073644\n",
      "  0.20356396  0.00065986  0.00339905 -0.          0.41658816  0.00316029\n",
      "  0.00100319  0.10999686  0.03124692  0.197579  ]\n"
     ]
    }
   ],
   "source": [
    "print('context sharpness', l1.columns[0].context_aggregator.context_sharpness.numpy())\n",
    "print('instance_sharpness', l1.columns[0].column_selector.instance_sharpness.numpy())\n",
    "print('stickiness', l1.columns[0].column_selector.stickiness.numpy())"
   ]
  },
  {
   "cell_type": "code",
   "execution_count": 92,
   "metadata": {},
   "outputs": [
    {
     "data": {
      "image/png": "[encoded data removed]",
      "text/plain": [
       "<PIL.Image.Image image mode=L size=50x50 at 0x7FF18660CFA0>"
      ]
     },
     "execution_count": 92,
     "metadata": {},
     "output_type": "execute_result"
    }
   ],
   "source": [
    "x = X[570]\n",
    "x = X2[518]\n",
    "x_img = vecs_to_img(x[0])\n",
    "tf.keras.utils.array_to_img(x_img, scale=False)"
   ]
  },
  {
   "cell_type": "code",
   "execution_count": 93,
   "metadata": {
    "scrolled": false
   },
   "outputs": [
    {
     "name": "stdout",
     "output_type": "stream",
     "text": [
      "1/1 [==============================] - 0s 32ms/step\n",
      "-1.5016367\n",
      "4.1229606\n",
      "norm of x 1.0000000033069503\n",
      "norm of y 0.81320286\n",
      "0.0\n",
      "224.16882\n"
     ]
    },
    {
     "data": {
      "image/png": "[encoded data removed]",
      "text/plain": [
       "<PIL.Image.Image image mode=L size=50x50 at 0x7FF0455F37F0>"
      ]
     },
     "execution_count": 93,
     "metadata": {},
     "output_type": "execute_result"
    }
   ],
   "source": [
    "y = reconstruction_model.predict(tf.reshape(x, (1, 3, x_size * y_size, 2)))\n",
    "print(tf.reduce_min(y[0][0]).numpy())\n",
    "print(tf.reduce_max(y[0][0]).numpy())\n",
    "print('norm of x', tf.reduce_mean(tf.norm(x[0], axis=-1)).numpy())\n",
    "print('norm of y', tf.reduce_mean(tf.norm(y[0][0], axis=-1)).numpy())\n",
    "y_img = vecs_to_img(tf.squeeze(y[0][0]).numpy())\n",
    "print(tf.reduce_min(y_img).numpy())\n",
    "print(tf.reduce_max(y_img).numpy())\n",
    "tf.keras.utils.array_to_img(y_img, scale=False)"
   ]
  },
  {
   "cell_type": "code",
   "execution_count": 95,
   "metadata": {},
   "outputs": [
    {
     "name": "stdout",
     "output_type": "stream",
     "text": [
      "shape (16, 40)\n",
      "min -5.4288645\n",
      "max 4.048527\n",
      "norm 13.230119\n",
      "max of diff 2.8150485\n",
      "norm of diff 4.248431\n"
     ]
    },
    {
     "data": {
      "text/plain": [
       "<matplotlib.image.AxesImage at 0x7fee047c9460>"
      ]
     },
     "execution_count": 95,
     "metadata": {},
     "output_type": "execute_result"
    },
    {
     "data": {
      "image/png": "[encoded data removed]",
      "text/plain": [
       "<Figure size 288x720 with 1 Axes>"
      ]
     },
     "metadata": {
      "needs_background": "light"
     },
     "output_type": "display_data"
    },
    {
     "data": {
      "image/png": "[encoded data removed]",
      "text/plain": [
       "<Figure size 288x720 with 1 Axes>"
      ]
     },
     "metadata": {
      "needs_background": "light"
     },
     "output_type": "display_data"
    }
   ],
   "source": [
    "us = reconstruction_model.get_layer(index=1)(x.reshape((1, 3, x_size * y_size, 2)), training=False)[0]\n",
    "us = tf.cast(us, tf.float32)\n",
    "one_us = us[0]\n",
    "usd = one_us[0] - one_us[1]\n",
    "one_us = one_us[0]\n",
    "print('shape', one_us.shape)\n",
    "print('min', tf.reduce_min(one_us).numpy())\n",
    "print('max', tf.reduce_max(one_us).numpy())\n",
    "print('norm', tf.norm(one_us).numpy())\n",
    "print('max of diff', tf.reduce_max(tf.abs(usd)).numpy())\n",
    "print('norm of diff', tf.norm(usd).numpy())\n",
    "plt.matshow(one_us.numpy().T)\n",
    "plt.matshow(usd.numpy().T)"
   ]
  },
  {
   "cell_type": "code",
   "execution_count": 96,
   "metadata": {},
   "outputs": [
    {
     "name": "stdout",
     "output_type": "stream",
     "text": [
      "norm of diff 25.672327\n",
      "(1, 3, 16, 40)\n",
      "[ 3.2124373e-01  7.7296925e-01  5.8200204e-01  4.8214799e-01\n",
      " -1.9967726e-01  4.3125310e+00  1.8850255e-03  1.9494317e-02\n",
      " -9.8178610e-02 -2.2241095e-01 -1.7166564e-01 -1.3424280e-01\n",
      " -3.8359247e-02 -3.3940021e-03 -2.6633361e-02 -8.0580413e-03\n",
      "  2.2278775e-01  2.5483173e-01  5.6557264e-02 -2.6413557e-01\n",
      "  2.6366517e-01 -2.7532563e+00  2.7753574e-01 -2.4893796e-03\n",
      "  6.5436751e-02 -6.3583899e-01 -3.8916018e+00  3.7327547e-02\n",
      "  1.5720120e-02  5.1082000e-03 -7.3801190e-02 -9.4919065e-03\n",
      " -2.2263634e-01  5.8298163e-02  1.3550630e-01  2.4156038e-02\n",
      "  2.3792695e-02  7.5354266e-01  1.1359645e-02  2.2152939e-01]\n",
      "(1, 3, 2500, 2)\n"
     ]
    },
    {
     "data": {
      "image/png": "[encoded data removed]",
      "text/plain": [
       "<PIL.Image.Image image mode=L size=50x50 at 0x7FF0783B5D90>"
      ]
     },
     "execution_count": 96,
     "metadata": {},
     "output_type": "execute_result"
    }
   ],
   "source": [
    "us1 = reconstruction_model.get_layer(index=1)(tf.reshape(X[2], (1, 3, x_size * y_size, 2)), training=False)[0]\n",
    "us2 = reconstruction_model.get_layer(index=1)(tf.reshape(X[4], (1, 3, x_size * y_size, 2)), training=False)[0]\n",
    "us1 = tf.cast(us1, tf.float32)\n",
    "us2 = tf.cast(us2, tf.float32)\n",
    "print('norm of diff', tf.norm(us2-us1).numpy())\n",
    "us_mod = (us1 + 0.0 * (us2 - us1)).numpy()\n",
    "print(us_mod.shape)\n",
    "print(us_mod[0][0][0])\n",
    "#us_mod[0][0][10] = np.zeros((40))\n",
    "#us_mod[0][0][1] = np.zeros((40))\n",
    "#us_mod[0][0][0][15] = 0.2\n",
    "r = l1.reconstruct(tf.cast(us_mod, tf.float32))\n",
    "print(r.shape)\n",
    "r_one = r[0][0]\n",
    "r_img = vecs_to_img(tf.squeeze(r_one).numpy())\n",
    "tf.keras.utils.array_to_img(r_img, scale=False)"
   ]
  },
  {
   "cell_type": "code",
   "execution_count": null,
   "metadata": {},
   "outputs": [],
   "source": [
    "le = l1.columns[0].context_aggregator.downstream_positions.numpy()\n",
    "le = le.reshape((x_size,y_size,-1))\n",
    "print(tf.reduce_min(le[:, :, 0]).numpy())\n",
    "print(tf.reduce_max(le[:, :, 0]).numpy())\n",
    "for d in range(0, le.shape[2]):\n",
    "    plt.matshow(le[:, :, d])"
   ]
  },
  {
   "cell_type": "markdown",
   "metadata": {},
   "source": [
    "# Layer 2"
   ]
  },
  {
   "cell_type": "code",
   "execution_count": null,
   "metadata": {
    "scrolled": true
   },
   "outputs": [],
   "source": [
    "X_2 = upstream_state_model.predict(np.concatenate((X, X2)), batch_size=64)\n",
    "#X_2 = upstream_state_model.predict(X, batch_size=64)\n",
    "\n",
    "Y_2 = X_2"
   ]
  },
  {
   "cell_type": "code",
   "execution_count": null,
   "metadata": {},
   "outputs": [],
   "source": [
    "inp_2 = Input(shape=(3, 16, 40))\n",
    "l2 = PtolemyLayer(\n",
    "    num_channels=1,\n",
    "    num_instances_per_channel=4,\n",
    "    context_fan_in=16,\n",
    "    upstream_dim=8,\n",
    "    position_dim=8,\n",
    "    stride=1,\n",
    "    permanence_loss_rho=0.1,\n",
    "    initial_sharpness=3.0,\n",
    "    noise_rate=0.1,\n",
    "    add_default=False,\n",
    ")\n",
    "\n",
    "upstream_state_2, downstream_reconstruction_2 = l2(inp_2)\n",
    "\n",
    "reconstruction_model_2 = tf.keras.models.Model(inputs=[inp_2], outputs=downstream_reconstruction_2)\n",
    "upstream_state_model_2 = tf.keras.models.Model(inputs=[inp_2], outputs=upstream_state_2)\n",
    "\n",
    "optimizer_2 = tf.keras.optimizers.Adam(\n",
    "    learning_rate = 0.001,\n",
    "    clipnorm=0.1,\n",
    ")\n",
    "optimizer_2 = tf.keras.mixed_precision.LossScaleOptimizer(optimizer_2)\n",
    "reconstruction_model_2.compile(\n",
    "    loss = zero_loss,\n",
    "    optimizer = optimizer_2,\n",
    "    metrics = ['cosine_similarity'],\n",
    ")\n",
    "reconstruction_model_2.summary()"
   ]
  },
  {
   "cell_type": "code",
   "execution_count": null,
   "metadata": {
    "scrolled": true
   },
   "outputs": [],
   "source": [
    "log_dir = \"ptolemynet_logs/fit_layer2/\" + datetime.datetime.now().strftime(\"%Y%m%d-%H%M%S\")\n",
    "tensorboard_callback = tf.keras.callbacks.TensorBoard(log_dir=log_dir, histogram_freq=1, write_images=True)\n",
    "\n",
    "tf.config.experimental.reset_memory_stats('GPU:0')\n",
    "history = reconstruction_model_2.fit([X_2], Y_2, epochs=128, batch_size=64, callbacks=[tensorboard_callback])\n",
    "tf.config.experimental.get_memory_info('GPU:0')"
   ]
  },
  {
   "cell_type": "code",
   "execution_count": 114,
   "metadata": {},
   "outputs": [
    {
     "data": {
      "image/png": "[encoded data removed]",
      "text/plain": [
       "<PIL.Image.Image image mode=L size=50x50 at 0x7FF044F01EB0>"
      ]
     },
     "execution_count": 114,
     "metadata": {},
     "output_type": "execute_result"
    }
   ],
   "source": [
    "x_2 = X_2[4500]\n",
    "x_2_img = vecs_to_img(l1.reconstruct(tf.cast(x_2, tf.float32))[0].numpy())\n",
    "tf.keras.utils.array_to_img(x_2_img, scale=False)"
   ]
  },
  {
   "cell_type": "code",
   "execution_count": 115,
   "metadata": {},
   "outputs": [
    {
     "name": "stdout",
     "output_type": "stream",
     "text": [
      "1/1 [==============================] - 0s 28ms/step\n"
     ]
    },
    {
     "data": {
      "image/png": "[encoded data removed]",
      "text/plain": [
       "<PIL.Image.Image image mode=L size=50x50 at 0x7FF214562070>"
      ]
     },
     "execution_count": 115,
     "metadata": {},
     "output_type": "execute_result"
    }
   ],
   "source": [
    "y_2 = reconstruction_model_2.predict(tf.reshape(x_2, (1, 3, 16, 40)))[0]\n",
    "y_2_img = vecs_to_img(l1.reconstruct(tf.cast(y_2, tf.float32))[0].numpy())\n",
    "tf.keras.utils.array_to_img(y_2_img, scale=False)"
   ]
  },
  {
   "cell_type": "code",
   "execution_count": 116,
   "metadata": {
    "scrolled": true
   },
   "outputs": [
    {
     "name": "stdout",
     "output_type": "stream",
     "text": [
      "14.320402\n",
      "13.654631\n"
     ]
    },
    {
     "data": {
      "text/plain": [
       "<matplotlib.image.AxesImage at 0x7ff2144a0970>"
      ]
     },
     "execution_count": 116,
     "metadata": {},
     "output_type": "execute_result"
    },
    {
     "data": {
      "image/png": "[encoded data removed]",
      "text/plain": [
       "<Figure size 288x720 with 1 Axes>"
      ]
     },
     "metadata": {
      "needs_background": "light"
     },
     "output_type": "display_data"
    },
    {
     "data": {
      "image/png": "[encoded data removed]",
      "text/plain": [
       "<Figure size 288x720 with 1 Axes>"
      ]
     },
     "metadata": {
      "needs_background": "light"
     },
     "output_type": "display_data"
    },
    {
     "data": {
      "image/png": "[encoded data removed]",
      "text/plain": [
       "<Figure size 288x720 with 1 Axes>"
      ]
     },
     "metadata": {
      "needs_background": "light"
     },
     "output_type": "display_data"
    }
   ],
   "source": [
    "plt.matshow(tf.cast(x_2[0], tf.float32).numpy().T)\n",
    "plt.matshow(tf.cast(y_2[0], tf.float32).numpy().T)\n",
    "print(tf.norm(x_2[0]).numpy())\n",
    "print(tf.norm(y_2[0]).numpy())\n",
    "rd = tf.cast(x_2[0], tf.float32).numpy() - tf.cast(y_2[0], tf.float32).numpy()\n",
    "plt.matshow(np.abs(rd.T), vmin=0.0, vmax=0.5)"
   ]
  },
  {
   "cell_type": "code",
   "execution_count": 117,
   "metadata": {
    "scrolled": false
   },
   "outputs": [
    {
     "name": "stdout",
     "output_type": "stream",
     "text": [
      "shape (4, 8)\n",
      "min -0.7601449\n",
      "max 1.3456047\n",
      "norm 1.8169454\n",
      "max of diff 0.2580576\n",
      "norm of diff 0.28103876\n"
     ]
    },
    {
     "data": {
      "text/plain": [
       "<matplotlib.image.AxesImage at 0x7ff045561820>"
      ]
     },
     "execution_count": 117,
     "metadata": {},
     "output_type": "execute_result"
    },
    {
     "data": {
      "image/png": "[encoded data removed]",
      "text/plain": [
       "<Figure size 576x288 with 1 Axes>"
      ]
     },
     "metadata": {
      "needs_background": "light"
     },
     "output_type": "display_data"
    },
    {
     "data": {
      "image/png": "[encoded data removed]",
      "text/plain": [
       "<Figure size 576x288 with 1 Axes>"
      ]
     },
     "metadata": {
      "needs_background": "light"
     },
     "output_type": "display_data"
    },
    {
     "data": {
      "image/png": "[encoded data removed]",
      "text/plain": [
       "<Figure size 576x288 with 1 Axes>"
      ]
     },
     "metadata": {
      "needs_background": "light"
     },
     "output_type": "display_data"
    }
   ],
   "source": [
    "us = reconstruction_model_2.get_layer(index=1)(x_2.reshape((1, 3, 16, 40)), training=False)[0]\n",
    "us = tf.cast(us, tf.float32)\n",
    "one_us = us[0]\n",
    "usd = one_us[0] - one_us[1]\n",
    "print('shape', one_us[0].shape)\n",
    "print('min', tf.reduce_min(one_us[0]).numpy())\n",
    "print('max', tf.reduce_max(one_us[0]).numpy())\n",
    "print('norm', tf.norm(one_us[0]).numpy())\n",
    "print('max of diff', tf.reduce_max(tf.abs(usd)).numpy())\n",
    "print('norm of diff', tf.norm(usd).numpy())\n",
    "plt.matshow(one_us[0].numpy())\n",
    "plt.matshow(one_us[1].numpy())\n",
    "plt.matshow(usd.numpy())"
   ]
  },
  {
   "cell_type": "code",
   "execution_count": 108,
   "metadata": {},
   "outputs": [
    {
     "name": "stdout",
     "output_type": "stream",
     "text": [
      "(1, 3, 4, 8)\n"
     ]
    },
    {
     "data": {
      "image/png": "[encoded data removed]",
      "text/plain": [
       "<PIL.Image.Image image mode=L size=50x50 at 0x7FF08441C130>"
      ]
     },
     "execution_count": 108,
     "metadata": {},
     "output_type": "execute_result"
    }
   ],
   "source": [
    "us_mod = us.numpy()\n",
    "print(us_mod.shape)\n",
    "us_mod[0][0][0] = np.zeros((8))\n",
    "#us_mod[0][0][1] = np.zeros((8))\n",
    "us_mod[0][0][2] = np.zeros((8))\n",
    "us_mod[0][0][3] = np.zeros((8))\n",
    "\n",
    "#us_mod[0][0][0] *= 3\n",
    "us_mod[0][0][1][0] = 0.5\n",
    "\n",
    "#us_mod[0][0] = us_mod[0][0] + 2.0 * (us_mod[0][1] - us_mod[0][0])\n",
    "r = l2.reconstruct(us_mod)\n",
    "r = l1.reconstruct(r)\n",
    "y_2_mod_img = vecs_to_img(r[0][0].numpy())\n",
    "tf.keras.utils.array_to_img(y_2_mod_img, scale=False)"
   ]
  },
  {
   "cell_type": "markdown",
   "metadata": {},
   "source": [
    "## Exports and animations"
   ]
  },
  {
   "cell_type": "code",
   "execution_count": 68,
   "metadata": {},
   "outputs": [
    {
     "data": {
      "image/png": "[encoded data removed]",
      "text/plain": [
       "<IPython.core.display.Image object>"
      ]
     },
     "execution_count": 68,
     "metadata": {},
     "output_type": "execute_result"
    }
   ],
   "source": [
    "tf.keras.utils.plot_model(reconstruction_model, expand_nested=True)"
   ]
  },
  {
   "cell_type": "code",
   "execution_count": 69,
   "metadata": {},
   "outputs": [],
   "source": [
    "def animate_interpolation(x1, x2, reconstruction_fun, filename, min_coeff=0.0, max_coeff=1.0, steps=20):\n",
    "    fig = plt.figure()\n",
    "    animate = lambda i: reconstruction_fun(x1 + (min_coeff + float(i) / steps * (max_coeff - min_coeff)) * (x2 - x1))\n",
    "    anim = animation.FuncAnimation(fig, animate, frames=steps, interval=100, blit=True)\n",
    "    anim.save(filename, fps=15, writer='imagemagick')\n",
    "    plt.close(fig)"
   ]
  },
  {
   "cell_type": "code",
   "execution_count": 70,
   "metadata": {},
   "outputs": [],
   "source": [
    "def reconstruct_l1(x):\n",
    "    recon = l1.reconstruct(x)[0][0]\n",
    "    recon_im_array = vecs_to_img(tf.squeeze(recon).numpy())\n",
    "    recon_im = tf.keras.utils.array_to_img(recon_im_array, scale=False)\n",
    "    return plt.imshow(recon_im, cmap='gray', vmin=0, vmax=255),\n",
    "\n",
    "def reconstruct_l2(x):\n",
    "    recon = l2.reconstruct(x)\n",
    "    recon = l1.reconstruct(recon)[0][0]\n",
    "    recon_im_array = vecs_to_img(tf.squeeze(recon).numpy())\n",
    "    recon_im = tf.keras.utils.array_to_img(recon_im_array, scale=False)\n",
    "    return plt.imshow(recon_im, cmap='gray', vmin=0, vmax=255),"
   ]
  },
  {
   "cell_type": "code",
   "execution_count": 102,
   "metadata": {},
   "outputs": [],
   "source": [
    "#us1 = reconstruction_model.get_layer(index=1)(tf.reshape(X[0], (1, 2, 28*28, 2)), training=False)[0]\n",
    "#us2 = reconstruction_model.get_layer(index=1)(tf.reshape(X[1], (1, 2, 28*28, 2)), training=False)[0]\n",
    "us1 = reconstruction_model.get_layer(index=1)(tf.reshape(X2[1], (1, 3, 2500, 2)), training=False)[0]\n",
    "us2 = reconstruction_model.get_layer(index=1)(tf.reshape(X2[5], (1, 3, 2500, 2)), training=False)[0]\n",
    "\n",
    "animate_interpolation(us1, us2, reconstruct_l1, 'l1_test.gif', min_coeff=0.0, max_coeff=1.0, steps=40)"
   ]
  },
  {
   "cell_type": "code",
   "execution_count": 103,
   "metadata": {},
   "outputs": [],
   "source": [
    "us1 = reconstruction_model_2.get_layer(index=1)(tf.reshape(X_2[4001], (1, 3, 16, 40)), training=False)[0]\n",
    "us2 = reconstruction_model_2.get_layer(index=1)(tf.reshape(X_2[4005], (1, 3, 16, 40)), training=False)[0]\n",
    "\n",
    "animate_interpolation(us1, us2, reconstruct_l2, 'l2_test.gif', min_coeff=0.0, max_coeff=1.0, steps=40)"
   ]
  },
  {
   "cell_type": "code",
   "execution_count": 113,
   "metadata": {},
   "outputs": [],
   "source": [
    "for coordinate in range(8):\n",
    "    us1_mod1 = us.numpy()\n",
    "    us1_mod2 = us.numpy()\n",
    "    us1_mod1[0][0][1][coordinate] = 0.0\n",
    "    us1_mod2[0][0][1][coordinate] = 1.0\n",
    "\n",
    "    animate_interpolation(us1_mod1, us1_mod2, reconstruct_l2, f'level_2_boxworld_coordinate_{coordinate}.gif', min_coeff=-1.0, max_coeff=1.0, steps=80)"
   ]
  },
  {
   "cell_type": "code",
   "execution_count": null,
   "metadata": {},
   "outputs": [],
   "source": []
  }
 ],
 "metadata": {
  "kernelspec": {
   "display_name": "Python 3",
   "language": "python",
   "name": "python3"
  },
  "language_info": {
   "codemirror_mode": {
    "name": "ipython",
    "version": 3
   },
   "file_extension": ".py",
   "mimetype": "text/x-python",
   "name": "python",
   "nbconvert_exporter": "python",
   "pygments_lexer": "ipython3",
   "version": "3.8.10"
  }
 },
 "nbformat": 4,
 "nbformat_minor": 5
}
